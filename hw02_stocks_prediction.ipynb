{
 "cells": [
  {
   "cell_type": "markdown",
   "id": "9074d943",
   "metadata": {
    "id": "9074d943"
   },
   "source": [
    "<center>\n",
    "<img src=\"https://raw.githubusercontent.com/hse-econ-data-science/andan2024/main/hw/images/bogdanoff_cover.jpeg\" height=\"150\">\n",
    "\n",
    "# Андан на экономе: домашнее задание 2\n",
    "</center>\n",
    "\n",
    "\n",
    "> [He bought? Dump it. He sold? Pump it.](https://www.youtube.com/watch?v=fDpYZU5FAVU)  <br>\n",
    "\n",
    "$\\qquad$ $\\qquad$ $\\qquad$ $\\qquad$  📉 📉 📉**Bogdanoff**\n"
   ]
  },
  {
   "cell_type": "code",
   "execution_count": 1,
   "id": "217006f4",
   "metadata": {
    "id": "217006f4"
   },
   "outputs": [],
   "source": [
    "import numpy as np\n",
    "import pandas as pd\n",
    "\n",
    "import scipy.stats as sts\n",
    "import matplotlib.pyplot as plt\n",
    "import seaborn as sns"
   ]
  },
  {
   "cell_type": "markdown",
   "id": "8633ccb3",
   "metadata": {
    "id": "8633ccb3"
   },
   "source": [
    "#  Портфельная теория Марковица\n",
    "\n",
    "В этом задании мы будем работать с данными по ценным бумагам. Мы немного поанализируем их и попробуем собрать оптимальный портфель.\n",
    "\n",
    "- в таблице `stocks.csv` содержится информация об акциях нескольких компаний с $01.01.2014$ по $31.12.2023$ по дням.\n",
    "- таблице `exchange_rates.csv` содержится информация о курсах валют _USD-RUB_, _EUR-RUB_ и _HKD-RUB_ за тот же период.\n",
    "\n",
    "Подгрузим данные и посмотрим на них."
   ]
  },
  {
   "cell_type": "code",
   "execution_count": 2,
   "id": "ec55a158",
   "metadata": {
    "colab": {
     "base_uri": "https://localhost:8080/",
     "height": 225
    },
    "id": "ec55a158",
    "outputId": "a91c950b-8659-4e7a-8727-e90c7ca628cc"
   },
   "outputs": [
    {
     "name": "stdout",
     "output_type": "stream",
     "text": [
      "(17572, 8)\n"
     ]
    },
    {
     "data": {
      "text/html": [
       "<div>\n",
       "<style scoped>\n",
       "    .dataframe tbody tr th:only-of-type {\n",
       "        vertical-align: middle;\n",
       "    }\n",
       "\n",
       "    .dataframe tbody tr th {\n",
       "        vertical-align: top;\n",
       "    }\n",
       "\n",
       "    .dataframe thead th {\n",
       "        text-align: right;\n",
       "    }\n",
       "</style>\n",
       "<table border=\"1\" class=\"dataframe\">\n",
       "  <thead>\n",
       "    <tr style=\"text-align: right;\">\n",
       "      <th></th>\n",
       "      <th>Дата</th>\n",
       "      <th>Цена</th>\n",
       "      <th>Откр.</th>\n",
       "      <th>Макс.</th>\n",
       "      <th>Мин.</th>\n",
       "      <th>Объём</th>\n",
       "      <th>Изм. %</th>\n",
       "      <th>Тикер</th>\n",
       "    </tr>\n",
       "  </thead>\n",
       "  <tbody>\n",
       "    <tr>\n",
       "      <th>0</th>\n",
       "      <td>29.12.2023</td>\n",
       "      <td>192,53</td>\n",
       "      <td>193,90</td>\n",
       "      <td>194,40</td>\n",
       "      <td>191,73</td>\n",
       "      <td>42,67M</td>\n",
       "      <td>-0,54%</td>\n",
       "      <td>AAPL</td>\n",
       "    </tr>\n",
       "    <tr>\n",
       "      <th>1</th>\n",
       "      <td>28.12.2023</td>\n",
       "      <td>193,58</td>\n",
       "      <td>194,14</td>\n",
       "      <td>194,66</td>\n",
       "      <td>193,17</td>\n",
       "      <td>33,83M</td>\n",
       "      <td>0,22%</td>\n",
       "      <td>AAPL</td>\n",
       "    </tr>\n",
       "    <tr>\n",
       "      <th>2</th>\n",
       "      <td>27.12.2023</td>\n",
       "      <td>193,15</td>\n",
       "      <td>192,49</td>\n",
       "      <td>193,50</td>\n",
       "      <td>191,09</td>\n",
       "      <td>47,90M</td>\n",
       "      <td>0,05%</td>\n",
       "      <td>AAPL</td>\n",
       "    </tr>\n",
       "    <tr>\n",
       "      <th>3</th>\n",
       "      <td>26.12.2023</td>\n",
       "      <td>193,05</td>\n",
       "      <td>193,61</td>\n",
       "      <td>193,89</td>\n",
       "      <td>192,83</td>\n",
       "      <td>28,81M</td>\n",
       "      <td>-0,28%</td>\n",
       "      <td>AAPL</td>\n",
       "    </tr>\n",
       "    <tr>\n",
       "      <th>4</th>\n",
       "      <td>22.12.2023</td>\n",
       "      <td>193,60</td>\n",
       "      <td>195,18</td>\n",
       "      <td>195,41</td>\n",
       "      <td>192,97</td>\n",
       "      <td>37,15M</td>\n",
       "      <td>-0,55%</td>\n",
       "      <td>AAPL</td>\n",
       "    </tr>\n",
       "  </tbody>\n",
       "</table>\n",
       "</div>"
      ],
      "text/plain": [
       "         Дата    Цена   Откр.   Макс.    Мин.   Объём  Изм. % Тикер\n",
       "0  29.12.2023  192,53  193,90  194,40  191,73  42,67M  -0,54%  AAPL\n",
       "1  28.12.2023  193,58  194,14  194,66  193,17  33,83M   0,22%  AAPL\n",
       "2  27.12.2023  193,15  192,49  193,50  191,09  47,90M   0,05%  AAPL\n",
       "3  26.12.2023  193,05  193,61  193,89  192,83  28,81M  -0,28%  AAPL\n",
       "4  22.12.2023  193,60  195,18  195,41  192,97  37,15M  -0,55%  AAPL"
      ]
     },
     "execution_count": 2,
     "metadata": {},
     "output_type": "execute_result"
    }
   ],
   "source": [
    "df_stocks = pd.read_csv('https://raw.githubusercontent.com/hse-econ-data-science/andan2024/main/hw/data/stocks.csv')\n",
    "print(df_stocks.shape)\n",
    "df_stocks.head()"
   ]
  },
  {
   "cell_type": "code",
   "execution_count": 3,
   "id": "398316ba",
   "metadata": {
    "colab": {
     "base_uri": "https://localhost:8080/",
     "height": 225
    },
    "id": "398316ba",
    "outputId": "f8e1156b-fa41-4157-b35a-cd82ca950981"
   },
   "outputs": [
    {
     "name": "stdout",
     "output_type": "stream",
     "text": [
      "(3652, 4)\n"
     ]
    },
    {
     "data": {
      "text/html": [
       "<div>\n",
       "<style scoped>\n",
       "    .dataframe tbody tr th:only-of-type {\n",
       "        vertical-align: middle;\n",
       "    }\n",
       "\n",
       "    .dataframe tbody tr th {\n",
       "        vertical-align: top;\n",
       "    }\n",
       "\n",
       "    .dataframe thead th {\n",
       "        text-align: right;\n",
       "    }\n",
       "</style>\n",
       "<table border=\"1\" class=\"dataframe\">\n",
       "  <thead>\n",
       "    <tr style=\"text-align: right;\">\n",
       "      <th></th>\n",
       "      <th>Дата</th>\n",
       "      <th>EUR_RUB</th>\n",
       "      <th>USD_RUB</th>\n",
       "      <th>HKD_RUB</th>\n",
       "    </tr>\n",
       "  </thead>\n",
       "  <tbody>\n",
       "    <tr>\n",
       "      <th>0</th>\n",
       "      <td>01.01.2014</td>\n",
       "      <td>45,189</td>\n",
       "      <td>32,855</td>\n",
       "      <td>4,237</td>\n",
       "    </tr>\n",
       "    <tr>\n",
       "      <th>1</th>\n",
       "      <td>02.01.2014</td>\n",
       "      <td>45,254</td>\n",
       "      <td>33,1</td>\n",
       "      <td>4,269</td>\n",
       "    </tr>\n",
       "    <tr>\n",
       "      <th>2</th>\n",
       "      <td>03.01.2014</td>\n",
       "      <td>45,114</td>\n",
       "      <td>33,2</td>\n",
       "      <td>4,282</td>\n",
       "    </tr>\n",
       "    <tr>\n",
       "      <th>3</th>\n",
       "      <td>04.01.2014</td>\n",
       "      <td>45,125</td>\n",
       "      <td>33,248</td>\n",
       "      <td>4,288</td>\n",
       "    </tr>\n",
       "    <tr>\n",
       "      <th>4</th>\n",
       "      <td>05.01.2014</td>\n",
       "      <td>45,228</td>\n",
       "      <td>33,255</td>\n",
       "      <td>4,289</td>\n",
       "    </tr>\n",
       "  </tbody>\n",
       "</table>\n",
       "</div>"
      ],
      "text/plain": [
       "         Дата EUR_RUB USD_RUB HKD_RUB\n",
       "0  01.01.2014  45,189  32,855   4,237\n",
       "1  02.01.2014  45,254    33,1   4,269\n",
       "2  03.01.2014  45,114    33,2   4,282\n",
       "3  04.01.2014  45,125  33,248   4,288\n",
       "4  05.01.2014  45,228  33,255   4,289"
      ]
     },
     "execution_count": 3,
     "metadata": {},
     "output_type": "execute_result"
    }
   ],
   "source": [
    "df_rates = pd.read_csv('https://raw.githubusercontent.com/hse-econ-data-science/andan2024/main/hw/data/exchange_rates.csv')\n",
    "print(df_rates.shape)\n",
    "df_rates.head()"
   ]
  },
  {
   "cell_type": "markdown",
   "id": "1c9df382",
   "metadata": {
    "id": "1c9df382"
   },
   "source": [
    "## 1 Причешем данные"
   ]
  },
  {
   "cell_type": "markdown",
   "id": "6108828d",
   "metadata": {
    "id": "6108828d"
   },
   "source": [
    "Часто при загрузке данных из каких-либо источников, особенно если они разные, у вас будет возникать необходимость в их форматировании. Поэтому в этой части потренируемся корректировать переменные для последующей работы с ними."
   ]
  },
  {
   "cell_type": "markdown",
   "id": "05fbdc48",
   "metadata": {
    "id": "05fbdc48"
   },
   "source": [
    "\n",
    "__а) [2 балла]__ В колонке `'Дата'` лежат дни, в которые осуществлялась торговля акциями. Превратите её в формат `datetime` в обеих таблицах."
   ]
  },
  {
   "cell_type": "code",
   "execution_count": 4,
   "id": "3de0bb1c",
   "metadata": {
    "id": "3de0bb1c"
   },
   "outputs": [
    {
     "data": {
      "text/html": [
       "<div>\n",
       "<style scoped>\n",
       "    .dataframe tbody tr th:only-of-type {\n",
       "        vertical-align: middle;\n",
       "    }\n",
       "\n",
       "    .dataframe tbody tr th {\n",
       "        vertical-align: top;\n",
       "    }\n",
       "\n",
       "    .dataframe thead th {\n",
       "        text-align: right;\n",
       "    }\n",
       "</style>\n",
       "<table border=\"1\" class=\"dataframe\">\n",
       "  <thead>\n",
       "    <tr style=\"text-align: right;\">\n",
       "      <th></th>\n",
       "      <th>Дата</th>\n",
       "      <th>Цена</th>\n",
       "      <th>Откр.</th>\n",
       "      <th>Макс.</th>\n",
       "      <th>Мин.</th>\n",
       "      <th>Объём</th>\n",
       "      <th>Изм. %</th>\n",
       "      <th>Тикер</th>\n",
       "    </tr>\n",
       "  </thead>\n",
       "  <tbody>\n",
       "    <tr>\n",
       "      <th>0</th>\n",
       "      <td>2023-12-29</td>\n",
       "      <td>192,53</td>\n",
       "      <td>193,90</td>\n",
       "      <td>194,40</td>\n",
       "      <td>191,73</td>\n",
       "      <td>42,67M</td>\n",
       "      <td>-0,54%</td>\n",
       "      <td>AAPL</td>\n",
       "    </tr>\n",
       "    <tr>\n",
       "      <th>1</th>\n",
       "      <td>2023-12-28</td>\n",
       "      <td>193,58</td>\n",
       "      <td>194,14</td>\n",
       "      <td>194,66</td>\n",
       "      <td>193,17</td>\n",
       "      <td>33,83M</td>\n",
       "      <td>0,22%</td>\n",
       "      <td>AAPL</td>\n",
       "    </tr>\n",
       "    <tr>\n",
       "      <th>2</th>\n",
       "      <td>2023-12-27</td>\n",
       "      <td>193,15</td>\n",
       "      <td>192,49</td>\n",
       "      <td>193,50</td>\n",
       "      <td>191,09</td>\n",
       "      <td>47,90M</td>\n",
       "      <td>0,05%</td>\n",
       "      <td>AAPL</td>\n",
       "    </tr>\n",
       "    <tr>\n",
       "      <th>3</th>\n",
       "      <td>2023-12-26</td>\n",
       "      <td>193,05</td>\n",
       "      <td>193,61</td>\n",
       "      <td>193,89</td>\n",
       "      <td>192,83</td>\n",
       "      <td>28,81M</td>\n",
       "      <td>-0,28%</td>\n",
       "      <td>AAPL</td>\n",
       "    </tr>\n",
       "    <tr>\n",
       "      <th>4</th>\n",
       "      <td>2023-12-22</td>\n",
       "      <td>193,60</td>\n",
       "      <td>195,18</td>\n",
       "      <td>195,41</td>\n",
       "      <td>192,97</td>\n",
       "      <td>37,15M</td>\n",
       "      <td>-0,55%</td>\n",
       "      <td>AAPL</td>\n",
       "    </tr>\n",
       "  </tbody>\n",
       "</table>\n",
       "</div>"
      ],
      "text/plain": [
       "        Дата    Цена   Откр.   Макс.    Мин.   Объём  Изм. % Тикер\n",
       "0 2023-12-29  192,53  193,90  194,40  191,73  42,67M  -0,54%  AAPL\n",
       "1 2023-12-28  193,58  194,14  194,66  193,17  33,83M   0,22%  AAPL\n",
       "2 2023-12-27  193,15  192,49  193,50  191,09  47,90M   0,05%  AAPL\n",
       "3 2023-12-26  193,05  193,61  193,89  192,83  28,81M  -0,28%  AAPL\n",
       "4 2023-12-22  193,60  195,18  195,41  192,97  37,15M  -0,55%  AAPL"
      ]
     },
     "execution_count": 4,
     "metadata": {},
     "output_type": "execute_result"
    }
   ],
   "source": [
    "# your code here\n",
    "# (♡-_-♡)\n",
    "\n",
    "df_stocks['Дата'] = pd.to_datetime(df_stocks['Дата'],  dayfirst=True)\n",
    "df_stocks.head()                  "
   ]
  },
  {
   "cell_type": "code",
   "execution_count": 5,
   "id": "23249791",
   "metadata": {},
   "outputs": [
    {
     "data": {
      "text/html": [
       "<div>\n",
       "<style scoped>\n",
       "    .dataframe tbody tr th:only-of-type {\n",
       "        vertical-align: middle;\n",
       "    }\n",
       "\n",
       "    .dataframe tbody tr th {\n",
       "        vertical-align: top;\n",
       "    }\n",
       "\n",
       "    .dataframe thead th {\n",
       "        text-align: right;\n",
       "    }\n",
       "</style>\n",
       "<table border=\"1\" class=\"dataframe\">\n",
       "  <thead>\n",
       "    <tr style=\"text-align: right;\">\n",
       "      <th></th>\n",
       "      <th>Дата</th>\n",
       "      <th>EUR_RUB</th>\n",
       "      <th>USD_RUB</th>\n",
       "      <th>HKD_RUB</th>\n",
       "    </tr>\n",
       "  </thead>\n",
       "  <tbody>\n",
       "    <tr>\n",
       "      <th>0</th>\n",
       "      <td>2014-01-01</td>\n",
       "      <td>45,189</td>\n",
       "      <td>32,855</td>\n",
       "      <td>4,237</td>\n",
       "    </tr>\n",
       "    <tr>\n",
       "      <th>1</th>\n",
       "      <td>2014-01-02</td>\n",
       "      <td>45,254</td>\n",
       "      <td>33,1</td>\n",
       "      <td>4,269</td>\n",
       "    </tr>\n",
       "    <tr>\n",
       "      <th>2</th>\n",
       "      <td>2014-01-03</td>\n",
       "      <td>45,114</td>\n",
       "      <td>33,2</td>\n",
       "      <td>4,282</td>\n",
       "    </tr>\n",
       "    <tr>\n",
       "      <th>3</th>\n",
       "      <td>2014-01-04</td>\n",
       "      <td>45,125</td>\n",
       "      <td>33,248</td>\n",
       "      <td>4,288</td>\n",
       "    </tr>\n",
       "    <tr>\n",
       "      <th>4</th>\n",
       "      <td>2014-01-05</td>\n",
       "      <td>45,228</td>\n",
       "      <td>33,255</td>\n",
       "      <td>4,289</td>\n",
       "    </tr>\n",
       "  </tbody>\n",
       "</table>\n",
       "</div>"
      ],
      "text/plain": [
       "        Дата EUR_RUB USD_RUB HKD_RUB\n",
       "0 2014-01-01  45,189  32,855   4,237\n",
       "1 2014-01-02  45,254    33,1   4,269\n",
       "2 2014-01-03  45,114    33,2   4,282\n",
       "3 2014-01-04  45,125  33,248   4,288\n",
       "4 2014-01-05  45,228  33,255   4,289"
      ]
     },
     "execution_count": 5,
     "metadata": {},
     "output_type": "execute_result"
    }
   ],
   "source": [
    "df_rates['Дата'] = pd.to_datetime(df_rates['Дата'], dayfirst=True)\n",
    "df_rates.head()  "
   ]
  },
  {
   "cell_type": "markdown",
   "id": "306cf4ef",
   "metadata": {
    "id": "306cf4ef"
   },
   "source": [
    "__б) [5 баллов]__ Для продолжения работы необходимо перевести столбцы в числовой формат, однако они содержат некорректные символы, которые не позволят сделать это напрямую.\n",
    "\n",
    "Допишите функцию, которая примет на вход тип данных `string` и:\n",
    "\n",
    "- Уберет лишнюю точку, разделяющую тысячные разряды в числах (например, $2.024,01 \\rightarrow 2024,01$)\n",
    "- Заменит символ запятой, отделяющий десятичный разряд, на точку (например, $2024,01 \\rightarrow 2024.01$)\n",
    "- Уберет символы `%`, `'B'` (млрд), `'M'` (млн) и `'K'` (тыс)\n",
    "- Затем изменит тип данных с `string` на `float`\n",
    "- И домножит на $10^9$, если в исходном значении содержалась `'B'`, на $10^6$, если `'M'`, или на $10^3$, если `'K'`."
   ]
  },
  {
   "cell_type": "code",
   "execution_count": 6,
   "id": "30f42234",
   "metadata": {},
   "outputs": [],
   "source": [
    "def correct_values(value: str):\n",
    "    corrected_value = str(value).replace('.', '').replace(',', '.').replace('%', '')\n",
    "\n",
    "    if 'B' in str(value):\n",
    "        corrected_value = float(corrected_value.replace('B', ''))\n",
    "        corrected_value *= 10**9 \n",
    "    elif 'M' in str(value):\n",
    "        corrected_value = float(corrected_value.replace('M', ''))\n",
    "        corrected_value *= 10**6\n",
    "    elif 'K' in str(value):\n",
    "        corrected_value = float(corrected_value.replace('K', ''))\n",
    "        corrected_value *= 10**3\n",
    "    corrected_value = float(corrected_value)\n",
    "\n",
    "    return corrected_value"
   ]
  },
  {
   "cell_type": "code",
   "execution_count": 7,
   "id": "820b345c",
   "metadata": {},
   "outputs": [
    {
     "data": {
      "text/plain": [
       "2024.01"
      ]
     },
     "execution_count": 7,
     "metadata": {},
     "output_type": "execute_result"
    }
   ],
   "source": [
    "correct_values('2.024,01')"
   ]
  },
  {
   "cell_type": "code",
   "execution_count": 8,
   "id": "a08e0266",
   "metadata": {},
   "outputs": [
    {
     "data": {
      "text/plain": [
       "42670000000.0"
      ]
     },
     "execution_count": 8,
     "metadata": {},
     "output_type": "execute_result"
    }
   ],
   "source": [
    "correct_values('42,67B')"
   ]
  },
  {
   "cell_type": "markdown",
   "id": "fc68686e",
   "metadata": {
    "id": "fc68686e"
   },
   "source": [
    "Примените данную функцию к столбцам `'Цена', 'Откр.', 'Макс.', 'Мин.', 'Объём', 'Изм. %'` таблицы `df_stocks` и к столбцам `'EUR_RUB', 'USD_RUB', 'HKD_RUB'` таблицы `df_rates`.\n",
    "\n",
    "__Hint:__ Для этого можно использовать метод `map` библиотеки `pandas`. Важно также указать параметр `na_action='ignore'`, чтобы пустые значения не передавались в функцию `correct_values`, [(ссылка на документацию).](https://pandas.pydata.org/docs/reference/api/pandas.DataFrame.map.html)"
   ]
  },
  {
   "cell_type": "code",
   "execution_count": 9,
   "id": "0698f663",
   "metadata": {},
   "outputs": [],
   "source": [
    "df_stocks['Цена'] = df_stocks['Цена'].map(correct_values, na_action='ignore')\n",
    "df_stocks['Откр.'] = df_stocks['Откр.'].map(correct_values, na_action='ignore')\n",
    "df_stocks['Макс.'] = df_stocks['Макс.'].map(correct_values, na_action='ignore')\n",
    "df_stocks['Мин.'] = df_stocks['Мин.'].map(correct_values, na_action='ignore')\n",
    "df_stocks['Объём'] = df_stocks['Объём'].map(correct_values, na_action='ignore')\n",
    "df_stocks['Изм. %'] = df_stocks['Изм. %'].map(correct_values, na_action='ignore')"
   ]
  },
  {
   "cell_type": "code",
   "execution_count": 10,
   "id": "034bd043",
   "metadata": {},
   "outputs": [
    {
     "data": {
      "text/html": [
       "<div>\n",
       "<style scoped>\n",
       "    .dataframe tbody tr th:only-of-type {\n",
       "        vertical-align: middle;\n",
       "    }\n",
       "\n",
       "    .dataframe tbody tr th {\n",
       "        vertical-align: top;\n",
       "    }\n",
       "\n",
       "    .dataframe thead th {\n",
       "        text-align: right;\n",
       "    }\n",
       "</style>\n",
       "<table border=\"1\" class=\"dataframe\">\n",
       "  <thead>\n",
       "    <tr style=\"text-align: right;\">\n",
       "      <th></th>\n",
       "      <th>Дата</th>\n",
       "      <th>Цена</th>\n",
       "      <th>Откр.</th>\n",
       "      <th>Макс.</th>\n",
       "      <th>Мин.</th>\n",
       "      <th>Объём</th>\n",
       "      <th>Изм. %</th>\n",
       "      <th>Тикер</th>\n",
       "    </tr>\n",
       "  </thead>\n",
       "  <tbody>\n",
       "    <tr>\n",
       "      <th>0</th>\n",
       "      <td>2023-12-29</td>\n",
       "      <td>192.53</td>\n",
       "      <td>193.90</td>\n",
       "      <td>194.40</td>\n",
       "      <td>191.73</td>\n",
       "      <td>42670000.0</td>\n",
       "      <td>-0.54</td>\n",
       "      <td>AAPL</td>\n",
       "    </tr>\n",
       "    <tr>\n",
       "      <th>1</th>\n",
       "      <td>2023-12-28</td>\n",
       "      <td>193.58</td>\n",
       "      <td>194.14</td>\n",
       "      <td>194.66</td>\n",
       "      <td>193.17</td>\n",
       "      <td>33830000.0</td>\n",
       "      <td>0.22</td>\n",
       "      <td>AAPL</td>\n",
       "    </tr>\n",
       "    <tr>\n",
       "      <th>2</th>\n",
       "      <td>2023-12-27</td>\n",
       "      <td>193.15</td>\n",
       "      <td>192.49</td>\n",
       "      <td>193.50</td>\n",
       "      <td>191.09</td>\n",
       "      <td>47900000.0</td>\n",
       "      <td>0.05</td>\n",
       "      <td>AAPL</td>\n",
       "    </tr>\n",
       "    <tr>\n",
       "      <th>3</th>\n",
       "      <td>2023-12-26</td>\n",
       "      <td>193.05</td>\n",
       "      <td>193.61</td>\n",
       "      <td>193.89</td>\n",
       "      <td>192.83</td>\n",
       "      <td>28810000.0</td>\n",
       "      <td>-0.28</td>\n",
       "      <td>AAPL</td>\n",
       "    </tr>\n",
       "    <tr>\n",
       "      <th>4</th>\n",
       "      <td>2023-12-22</td>\n",
       "      <td>193.60</td>\n",
       "      <td>195.18</td>\n",
       "      <td>195.41</td>\n",
       "      <td>192.97</td>\n",
       "      <td>37150000.0</td>\n",
       "      <td>-0.55</td>\n",
       "      <td>AAPL</td>\n",
       "    </tr>\n",
       "  </tbody>\n",
       "</table>\n",
       "</div>"
      ],
      "text/plain": [
       "        Дата    Цена   Откр.   Макс.    Мин.       Объём  Изм. % Тикер\n",
       "0 2023-12-29  192.53  193.90  194.40  191.73  42670000.0   -0.54  AAPL\n",
       "1 2023-12-28  193.58  194.14  194.66  193.17  33830000.0    0.22  AAPL\n",
       "2 2023-12-27  193.15  192.49  193.50  191.09  47900000.0    0.05  AAPL\n",
       "3 2023-12-26  193.05  193.61  193.89  192.83  28810000.0   -0.28  AAPL\n",
       "4 2023-12-22  193.60  195.18  195.41  192.97  37150000.0   -0.55  AAPL"
      ]
     },
     "execution_count": 10,
     "metadata": {},
     "output_type": "execute_result"
    }
   ],
   "source": [
    "df_stocks.head()"
   ]
  },
  {
   "cell_type": "code",
   "execution_count": 11,
   "id": "4fe87a8b",
   "metadata": {},
   "outputs": [],
   "source": [
    "df_rates['EUR_RUB'] = df_rates['EUR_RUB'].map(correct_values, na_action='ignore')\n",
    "df_rates['USD_RUB'] = df_rates['USD_RUB'].map(correct_values, na_action='ignore')\n",
    "df_rates['HKD_RUB'] = df_rates['HKD_RUB'].map(correct_values, na_action='ignore')"
   ]
  },
  {
   "cell_type": "code",
   "execution_count": 12,
   "id": "d2f310a1",
   "metadata": {},
   "outputs": [
    {
     "data": {
      "text/html": [
       "<div>\n",
       "<style scoped>\n",
       "    .dataframe tbody tr th:only-of-type {\n",
       "        vertical-align: middle;\n",
       "    }\n",
       "\n",
       "    .dataframe tbody tr th {\n",
       "        vertical-align: top;\n",
       "    }\n",
       "\n",
       "    .dataframe thead th {\n",
       "        text-align: right;\n",
       "    }\n",
       "</style>\n",
       "<table border=\"1\" class=\"dataframe\">\n",
       "  <thead>\n",
       "    <tr style=\"text-align: right;\">\n",
       "      <th></th>\n",
       "      <th>Дата</th>\n",
       "      <th>EUR_RUB</th>\n",
       "      <th>USD_RUB</th>\n",
       "      <th>HKD_RUB</th>\n",
       "    </tr>\n",
       "  </thead>\n",
       "  <tbody>\n",
       "    <tr>\n",
       "      <th>0</th>\n",
       "      <td>2014-01-01</td>\n",
       "      <td>45.189</td>\n",
       "      <td>32.855</td>\n",
       "      <td>4.237</td>\n",
       "    </tr>\n",
       "    <tr>\n",
       "      <th>1</th>\n",
       "      <td>2014-01-02</td>\n",
       "      <td>45.254</td>\n",
       "      <td>33.100</td>\n",
       "      <td>4.269</td>\n",
       "    </tr>\n",
       "    <tr>\n",
       "      <th>2</th>\n",
       "      <td>2014-01-03</td>\n",
       "      <td>45.114</td>\n",
       "      <td>33.200</td>\n",
       "      <td>4.282</td>\n",
       "    </tr>\n",
       "    <tr>\n",
       "      <th>3</th>\n",
       "      <td>2014-01-04</td>\n",
       "      <td>45.125</td>\n",
       "      <td>33.248</td>\n",
       "      <td>4.288</td>\n",
       "    </tr>\n",
       "    <tr>\n",
       "      <th>4</th>\n",
       "      <td>2014-01-05</td>\n",
       "      <td>45.228</td>\n",
       "      <td>33.255</td>\n",
       "      <td>4.289</td>\n",
       "    </tr>\n",
       "  </tbody>\n",
       "</table>\n",
       "</div>"
      ],
      "text/plain": [
       "        Дата  EUR_RUB  USD_RUB  HKD_RUB\n",
       "0 2014-01-01   45.189   32.855    4.237\n",
       "1 2014-01-02   45.254   33.100    4.269\n",
       "2 2014-01-03   45.114   33.200    4.282\n",
       "3 2014-01-04   45.125   33.248    4.288\n",
       "4 2014-01-05   45.228   33.255    4.289"
      ]
     },
     "execution_count": 12,
     "metadata": {},
     "output_type": "execute_result"
    }
   ],
   "source": [
    "df_rates.head()"
   ]
  },
  {
   "cell_type": "markdown",
   "id": "4b693057",
   "metadata": {
    "id": "4b693057"
   },
   "source": [
    "__в) [5 баллов]__ Поскольку акции компаний торгуются на разных биржах, цены также указаны в различных валютах.\n",
    "Давайте приведем все к рублям, используя таблицу `df_rates`. Для этого важно знать, что данные по тикерам:\n",
    "\n",
    "- `'AAPL'` и `'MSFT'` собраны в долларах `USD`\n",
    "- `'MBGn'` и `'BMWG'` $-$ в евро `EUR`\n",
    "- `'Tencent'` $-$ в Гонконгских долларах `HKD`\n",
    "- по остальным $-$ в `RUB`\n",
    "\n",
    "Давайте сначала объединим таблицы, выполнив операцию `left join` таблицы `df_stocks` с `df_rates` по столбцу `'Дата'`. Для этого будем использовать метод `merge`, [(ссылка на документацию).](https://pandas.pydata.org/pandas-docs/stable/reference/api/pandas.DataFrame.merge.html)"
   ]
  },
  {
   "cell_type": "code",
   "execution_count": 13,
   "id": "0127a567",
   "metadata": {
    "id": "0127a567"
   },
   "outputs": [
    {
     "data": {
      "text/html": [
       "<div>\n",
       "<style scoped>\n",
       "    .dataframe tbody tr th:only-of-type {\n",
       "        vertical-align: middle;\n",
       "    }\n",
       "\n",
       "    .dataframe tbody tr th {\n",
       "        vertical-align: top;\n",
       "    }\n",
       "\n",
       "    .dataframe thead th {\n",
       "        text-align: right;\n",
       "    }\n",
       "</style>\n",
       "<table border=\"1\" class=\"dataframe\">\n",
       "  <thead>\n",
       "    <tr style=\"text-align: right;\">\n",
       "      <th></th>\n",
       "      <th>Дата</th>\n",
       "      <th>Цена</th>\n",
       "      <th>Откр.</th>\n",
       "      <th>Макс.</th>\n",
       "      <th>Мин.</th>\n",
       "      <th>Объём</th>\n",
       "      <th>Изм. %</th>\n",
       "      <th>Тикер</th>\n",
       "      <th>EUR_RUB</th>\n",
       "      <th>USD_RUB</th>\n",
       "      <th>HKD_RUB</th>\n",
       "    </tr>\n",
       "  </thead>\n",
       "  <tbody>\n",
       "    <tr>\n",
       "      <th>0</th>\n",
       "      <td>2023-12-29</td>\n",
       "      <td>192.53</td>\n",
       "      <td>193.90</td>\n",
       "      <td>194.40</td>\n",
       "      <td>191.73</td>\n",
       "      <td>42670000.0</td>\n",
       "      <td>-0.54</td>\n",
       "      <td>AAPL</td>\n",
       "      <td>98.596</td>\n",
       "      <td>90.36</td>\n",
       "      <td>11.429</td>\n",
       "    </tr>\n",
       "    <tr>\n",
       "      <th>1</th>\n",
       "      <td>2023-12-28</td>\n",
       "      <td>193.58</td>\n",
       "      <td>194.14</td>\n",
       "      <td>194.66</td>\n",
       "      <td>193.17</td>\n",
       "      <td>33830000.0</td>\n",
       "      <td>0.22</td>\n",
       "      <td>AAPL</td>\n",
       "      <td>97.919</td>\n",
       "      <td>89.36</td>\n",
       "      <td>11.325</td>\n",
       "    </tr>\n",
       "    <tr>\n",
       "      <th>2</th>\n",
       "      <td>2023-12-27</td>\n",
       "      <td>193.15</td>\n",
       "      <td>192.49</td>\n",
       "      <td>193.50</td>\n",
       "      <td>191.09</td>\n",
       "      <td>47900000.0</td>\n",
       "      <td>0.05</td>\n",
       "      <td>AAPL</td>\n",
       "      <td>101.779</td>\n",
       "      <td>91.27</td>\n",
       "      <td>11.731</td>\n",
       "    </tr>\n",
       "    <tr>\n",
       "      <th>3</th>\n",
       "      <td>2023-12-26</td>\n",
       "      <td>193.05</td>\n",
       "      <td>193.61</td>\n",
       "      <td>193.89</td>\n",
       "      <td>192.83</td>\n",
       "      <td>28810000.0</td>\n",
       "      <td>-0.28</td>\n",
       "      <td>AAPL</td>\n",
       "      <td>101.455</td>\n",
       "      <td>91.66</td>\n",
       "      <td>11.734</td>\n",
       "    </tr>\n",
       "    <tr>\n",
       "      <th>4</th>\n",
       "      <td>2023-12-22</td>\n",
       "      <td>193.60</td>\n",
       "      <td>195.18</td>\n",
       "      <td>195.41</td>\n",
       "      <td>192.97</td>\n",
       "      <td>37150000.0</td>\n",
       "      <td>-0.55</td>\n",
       "      <td>AAPL</td>\n",
       "      <td>101.467</td>\n",
       "      <td>92.00</td>\n",
       "      <td>11.791</td>\n",
       "    </tr>\n",
       "  </tbody>\n",
       "</table>\n",
       "</div>"
      ],
      "text/plain": [
       "        Дата    Цена   Откр.   Макс.    Мин.       Объём  Изм. % Тикер  \\\n",
       "0 2023-12-29  192.53  193.90  194.40  191.73  42670000.0   -0.54  AAPL   \n",
       "1 2023-12-28  193.58  194.14  194.66  193.17  33830000.0    0.22  AAPL   \n",
       "2 2023-12-27  193.15  192.49  193.50  191.09  47900000.0    0.05  AAPL   \n",
       "3 2023-12-26  193.05  193.61  193.89  192.83  28810000.0   -0.28  AAPL   \n",
       "4 2023-12-22  193.60  195.18  195.41  192.97  37150000.0   -0.55  AAPL   \n",
       "\n",
       "   EUR_RUB  USD_RUB  HKD_RUB  \n",
       "0   98.596    90.36   11.429  \n",
       "1   97.919    89.36   11.325  \n",
       "2  101.779    91.27   11.731  \n",
       "3  101.455    91.66   11.734  \n",
       "4  101.467    92.00   11.791  "
      ]
     },
     "execution_count": 13,
     "metadata": {},
     "output_type": "execute_result"
    }
   ],
   "source": [
    "df_merged = df_stocks.merge(df_rates,on ='Дата', how='left')\n",
    "\n",
    "df_merged.head() "
   ]
  },
  {
   "cell_type": "markdown",
   "id": "67b7a071",
   "metadata": {
    "id": "67b7a071"
   },
   "source": [
    " Затем преобразуем столбцы `'Цена', 'Откр.', 'Макс.', 'Мин.'`, умножив их на соответствующий данной акции курс."
   ]
  },
  {
   "cell_type": "code",
   "execution_count": 14,
   "id": "7ba86324",
   "metadata": {},
   "outputs": [
    {
     "data": {
      "text/html": [
       "<div>\n",
       "<style scoped>\n",
       "    .dataframe tbody tr th:only-of-type {\n",
       "        vertical-align: middle;\n",
       "    }\n",
       "\n",
       "    .dataframe tbody tr th {\n",
       "        vertical-align: top;\n",
       "    }\n",
       "\n",
       "    .dataframe thead th {\n",
       "        text-align: right;\n",
       "    }\n",
       "</style>\n",
       "<table border=\"1\" class=\"dataframe\">\n",
       "  <thead>\n",
       "    <tr style=\"text-align: right;\">\n",
       "      <th></th>\n",
       "      <th>Дата</th>\n",
       "      <th>Цена</th>\n",
       "      <th>Откр.</th>\n",
       "      <th>Макс.</th>\n",
       "      <th>Мин.</th>\n",
       "      <th>Объём</th>\n",
       "      <th>Изм. %</th>\n",
       "      <th>Тикер</th>\n",
       "      <th>EUR_RUB</th>\n",
       "      <th>USD_RUB</th>\n",
       "      <th>HKD_RUB</th>\n",
       "    </tr>\n",
       "  </thead>\n",
       "  <tbody>\n",
       "    <tr>\n",
       "      <th>0</th>\n",
       "      <td>2023-12-29</td>\n",
       "      <td>17397.0108</td>\n",
       "      <td>17520.8040</td>\n",
       "      <td>17565.9840</td>\n",
       "      <td>17324.7228</td>\n",
       "      <td>42670000.0</td>\n",
       "      <td>-0.54</td>\n",
       "      <td>AAPL</td>\n",
       "      <td>98.596</td>\n",
       "      <td>90.36</td>\n",
       "      <td>11.429</td>\n",
       "    </tr>\n",
       "    <tr>\n",
       "      <th>1</th>\n",
       "      <td>2023-12-28</td>\n",
       "      <td>17298.3088</td>\n",
       "      <td>17348.3504</td>\n",
       "      <td>17394.8176</td>\n",
       "      <td>17261.6712</td>\n",
       "      <td>33830000.0</td>\n",
       "      <td>0.22</td>\n",
       "      <td>AAPL</td>\n",
       "      <td>97.919</td>\n",
       "      <td>89.36</td>\n",
       "      <td>11.325</td>\n",
       "    </tr>\n",
       "    <tr>\n",
       "      <th>2</th>\n",
       "      <td>2023-12-27</td>\n",
       "      <td>17628.8005</td>\n",
       "      <td>17568.5623</td>\n",
       "      <td>17660.7450</td>\n",
       "      <td>17440.7843</td>\n",
       "      <td>47900000.0</td>\n",
       "      <td>0.05</td>\n",
       "      <td>AAPL</td>\n",
       "      <td>101.779</td>\n",
       "      <td>91.27</td>\n",
       "      <td>11.731</td>\n",
       "    </tr>\n",
       "    <tr>\n",
       "      <th>3</th>\n",
       "      <td>2023-12-26</td>\n",
       "      <td>17694.9630</td>\n",
       "      <td>17746.2926</td>\n",
       "      <td>17771.9574</td>\n",
       "      <td>17674.7978</td>\n",
       "      <td>28810000.0</td>\n",
       "      <td>-0.28</td>\n",
       "      <td>AAPL</td>\n",
       "      <td>101.455</td>\n",
       "      <td>91.66</td>\n",
       "      <td>11.734</td>\n",
       "    </tr>\n",
       "    <tr>\n",
       "      <th>4</th>\n",
       "      <td>2023-12-22</td>\n",
       "      <td>17811.2000</td>\n",
       "      <td>17956.5600</td>\n",
       "      <td>17977.7200</td>\n",
       "      <td>17753.2400</td>\n",
       "      <td>37150000.0</td>\n",
       "      <td>-0.55</td>\n",
       "      <td>AAPL</td>\n",
       "      <td>101.467</td>\n",
       "      <td>92.00</td>\n",
       "      <td>11.791</td>\n",
       "    </tr>\n",
       "  </tbody>\n",
       "</table>\n",
       "</div>"
      ],
      "text/plain": [
       "        Дата        Цена       Откр.       Макс.        Мин.       Объём  \\\n",
       "0 2023-12-29  17397.0108  17520.8040  17565.9840  17324.7228  42670000.0   \n",
       "1 2023-12-28  17298.3088  17348.3504  17394.8176  17261.6712  33830000.0   \n",
       "2 2023-12-27  17628.8005  17568.5623  17660.7450  17440.7843  47900000.0   \n",
       "3 2023-12-26  17694.9630  17746.2926  17771.9574  17674.7978  28810000.0   \n",
       "4 2023-12-22  17811.2000  17956.5600  17977.7200  17753.2400  37150000.0   \n",
       "\n",
       "   Изм. % Тикер  EUR_RUB  USD_RUB  HKD_RUB  \n",
       "0   -0.54  AAPL   98.596    90.36   11.429  \n",
       "1    0.22  AAPL   97.919    89.36   11.325  \n",
       "2    0.05  AAPL  101.779    91.27   11.731  \n",
       "3   -0.28  AAPL  101.455    91.66   11.734  \n",
       "4   -0.55  AAPL  101.467    92.00   11.791  "
      ]
     },
     "execution_count": 14,
     "metadata": {},
     "output_type": "execute_result"
    }
   ],
   "source": [
    "stocks_currency_dict = {\n",
    "    \"AAPL\": \"USD_RUB\",\n",
    "    \"MSFT\": \"USD_RUB\",\n",
    "    \"MBGn\": \"EUR_RUB\",\n",
    "    \"BMWG\": \"EUR_RUB\",\n",
    "    \"Tencent\": \"HKD_RUB\",\n",
    "}\n",
    "\n",
    "\n",
    "for ticker, curr_pair in stocks_currency_dict.items():\n",
    "    \n",
    "    a = df_merged.loc[df_merged['Тикер'] == ticker, ['Цена', 'Откр.', 'Макс.', 'Мин.']].mul((df_merged.loc[df_merged['Тикер'] == ticker, curr_pair].to_numpy()),axis=0) \n",
    "    df_merged.loc[df_merged['Тикер'] == ticker, ['Цена', 'Откр.', 'Макс.', 'Мин.']] = a\n",
    "\n",
    "df_merged.head()"
   ]
  },
  {
   "cell_type": "markdown",
   "id": "105505b2",
   "metadata": {
    "id": "105505b2"
   },
   "source": [
    "Наконец, мы закончили с первичными преобразованиями и можем приступать к дальнейшему анализу."
   ]
  },
  {
   "cell_type": "markdown",
   "id": "43b63521",
   "metadata": {
    "id": "43b63521"
   },
   "source": [
    "## 2 Начало работы с данными"
   ]
  },
  {
   "cell_type": "markdown",
   "id": "746126de",
   "metadata": {
    "id": "746126de"
   },
   "source": [
    "__а) [2 балла]__ Посмотрите наличие пропусков в данных таблицы `df_merged`. Информация по каким тикерам и за какой период отсутствует? Удалите строки с пропущенными данными."
   ]
  },
  {
   "cell_type": "code",
   "execution_count": 15,
   "id": "83e32490",
   "metadata": {
    "id": "83e32490"
   },
   "outputs": [
    {
     "data": {
      "text/plain": [
       "(17572, 11)"
      ]
     },
     "execution_count": 15,
     "metadata": {},
     "output_type": "execute_result"
    }
   ],
   "source": [
    "# your code here\n",
    "# (´｡• ᵕ •｡`)\n",
    "df_merged.shape"
   ]
  },
  {
   "cell_type": "code",
   "execution_count": 16,
   "id": "c4d2459e",
   "metadata": {},
   "outputs": [
    {
     "data": {
      "text/plain": [
       "Дата       0\n",
       "Цена       0\n",
       "Откр.      0\n",
       "Макс.      0\n",
       "Мин.       0\n",
       "Объём      9\n",
       "Изм. %     0\n",
       "Тикер      0\n",
       "EUR_RUB    0\n",
       "USD_RUB    0\n",
       "HKD_RUB    0\n",
       "dtype: int64"
      ]
     },
     "execution_count": 16,
     "metadata": {},
     "output_type": "execute_result"
    }
   ],
   "source": [
    "df_merged.isnull().sum()"
   ]
  },
  {
   "cell_type": "code",
   "execution_count": 17,
   "id": "ac498a94",
   "metadata": {},
   "outputs": [],
   "source": [
    "df_merged.dropna(inplace=True)\n",
    "df_merged.reset_index(inplace=True, drop=True)"
   ]
  },
  {
   "cell_type": "code",
   "execution_count": 18,
   "id": "971a310f",
   "metadata": {},
   "outputs": [
    {
     "data": {
      "text/plain": [
       "(17563, 11)"
      ]
     },
     "execution_count": 18,
     "metadata": {},
     "output_type": "execute_result"
    }
   ],
   "source": [
    "df_merged.shape"
   ]
  },
  {
   "cell_type": "markdown",
   "id": "432d9b55",
   "metadata": {
    "id": "432d9b55"
   },
   "source": [
    "__б) [2 балла]__ Какое количество уникальных тикеров содержится в таблице `df_stocks`?"
   ]
  },
  {
   "cell_type": "code",
   "execution_count": 19,
   "id": "b6037796",
   "metadata": {
    "id": "b6037796"
   },
   "outputs": [
    {
     "data": {
      "text/plain": [
       "7"
      ]
     },
     "execution_count": 19,
     "metadata": {},
     "output_type": "execute_result"
    }
   ],
   "source": [
    "# your code here\n",
    "# (◕‿◕)♡\n",
    "df_stocks['Тикер'].nunique()"
   ]
  },
  {
   "cell_type": "markdown",
   "id": "898014eb",
   "metadata": {
    "id": "898014eb"
   },
   "source": [
    "__в) [2 балла]__  Для каких акций и в какой временной период была зафиксирована наибольшая разность между значениями `'Макс.'` и `'Мин.'` в рублях?"
   ]
  },
  {
   "cell_type": "code",
   "execution_count": 20,
   "id": "e714f50f",
   "metadata": {
    "id": "e714f50f"
   },
   "outputs": [
    {
     "data": {
      "text/html": [
       "<div>\n",
       "<style scoped>\n",
       "    .dataframe tbody tr th:only-of-type {\n",
       "        vertical-align: middle;\n",
       "    }\n",
       "\n",
       "    .dataframe tbody tr th {\n",
       "        vertical-align: top;\n",
       "    }\n",
       "\n",
       "    .dataframe thead th {\n",
       "        text-align: right;\n",
       "    }\n",
       "</style>\n",
       "<table border=\"1\" class=\"dataframe\">\n",
       "  <thead>\n",
       "    <tr style=\"text-align: right;\">\n",
       "      <th></th>\n",
       "      <th>Дата</th>\n",
       "      <th>Цена</th>\n",
       "      <th>Откр.</th>\n",
       "      <th>Макс.</th>\n",
       "      <th>Мин.</th>\n",
       "      <th>Объём</th>\n",
       "      <th>Изм. %</th>\n",
       "      <th>Тикер</th>\n",
       "      <th>EUR_RUB</th>\n",
       "      <th>USD_RUB</th>\n",
       "      <th>HKD_RUB</th>\n",
       "      <th>Разность</th>\n",
       "    </tr>\n",
       "  </thead>\n",
       "  <tbody>\n",
       "    <tr>\n",
       "      <th>10197</th>\n",
       "      <td>2023-07-18</td>\n",
       "      <td>32677.641</td>\n",
       "      <td>31435.947</td>\n",
       "      <td>33340.302</td>\n",
       "      <td>31103.253</td>\n",
       "      <td>64520000.0</td>\n",
       "      <td>3.98</td>\n",
       "      <td>MSFT</td>\n",
       "      <td>102.184</td>\n",
       "      <td>90.9</td>\n",
       "      <td>11.613</td>\n",
       "      <td>2237.049</td>\n",
       "    </tr>\n",
       "  </tbody>\n",
       "</table>\n",
       "</div>"
      ],
      "text/plain": [
       "            Дата       Цена      Откр.      Макс.       Мин.       Объём  \\\n",
       "10197 2023-07-18  32677.641  31435.947  33340.302  31103.253  64520000.0   \n",
       "\n",
       "       Изм. % Тикер  EUR_RUB  USD_RUB  HKD_RUB  Разность  \n",
       "10197    3.98  MSFT  102.184     90.9   11.613  2237.049  "
      ]
     },
     "execution_count": 20,
     "metadata": {},
     "output_type": "execute_result"
    }
   ],
   "source": [
    "# your code here  \n",
    "# ♡ (´｡• ω •｡`) ♡\n",
    "df_merged['Разность'] = abs(df_merged['Макс.'] - df_merged['Мин.'])\n",
    "fr = df_merged['Разность'].sort_values(ascending=False)\n",
    "max_difference = df_merged[int(fr.agg(['idxmax'])):int(fr.agg(['idxmax']))+1]\n",
    "\n",
    "df_merged[df_merged['Разность'] == df_merged['Разность'].max()]"
   ]
  },
  {
   "cell_type": "code",
   "execution_count": 21,
   "id": "184b4e31",
   "metadata": {},
   "outputs": [
    {
     "data": {
      "text/plain": [
       "10197    MSFT\n",
       "Name: Тикер, dtype: object"
      ]
     },
     "execution_count": 21,
     "metadata": {},
     "output_type": "execute_result"
    }
   ],
   "source": [
    "max_difference['Тикер']"
   ]
  },
  {
   "cell_type": "code",
   "execution_count": 22,
   "id": "606cca93",
   "metadata": {},
   "outputs": [
    {
     "data": {
      "text/plain": [
       "10197   2023-07-18\n",
       "Name: Дата, dtype: datetime64[ns]"
      ]
     },
     "execution_count": 22,
     "metadata": {},
     "output_type": "execute_result"
    }
   ],
   "source": [
    "max_difference['Дата']"
   ]
  },
  {
   "cell_type": "code",
   "execution_count": 23,
   "id": "661d7a2a",
   "metadata": {},
   "outputs": [],
   "source": [
    "df_merged.drop('Разность',axis=1,inplace=True)"
   ]
  },
  {
   "cell_type": "markdown",
   "id": "aa2d1796",
   "metadata": {
    "id": "aa2d1796"
   },
   "source": [
    "__г) [2 балла]__  В какие периоды было продано/куплено акций на наибольшую сумму рублей. Какие это были акции?\n",
    "\n",
    "__Hint__: Объем — это количество проданных/купленных акций"
   ]
  },
  {
   "cell_type": "code",
   "execution_count": 24,
   "id": "4c724523",
   "metadata": {
    "id": "4c724523"
   },
   "outputs": [
    {
     "data": {
      "text/plain": [
       "843      3.249826e+12\n",
       "844      3.144837e+12\n",
       "834      3.033893e+12\n",
       "859      2.959557e+12\n",
       "456      2.632653e+12\n",
       "             ...     \n",
       "13769    1.758271e+08\n",
       "14017    1.396550e+08\n",
       "14250    1.214400e+08\n",
       "14190    1.182060e+08\n",
       "13307    1.156610e+08\n",
       "Name: Сумма, Length: 17563, dtype: float64"
      ]
     },
     "execution_count": 24,
     "metadata": {},
     "output_type": "execute_result"
    }
   ],
   "source": [
    "# your code here \n",
    "# (⌒_⌒;)\n",
    "df_merged['Сумма'] = df_merged['Цена'] * df_merged['Объём']\n",
    "fr1 = df_merged['Сумма'].sort_values(ascending=False)\n",
    "fr1"
   ]
  },
  {
   "cell_type": "code",
   "execution_count": 25,
   "id": "f9bdb056",
   "metadata": {},
   "outputs": [
    {
     "data": {
      "text/html": [
       "<div>\n",
       "<style scoped>\n",
       "    .dataframe tbody tr th:only-of-type {\n",
       "        vertical-align: middle;\n",
       "    }\n",
       "\n",
       "    .dataframe tbody tr th {\n",
       "        vertical-align: top;\n",
       "    }\n",
       "\n",
       "    .dataframe thead th {\n",
       "        text-align: right;\n",
       "    }\n",
       "</style>\n",
       "<table border=\"1\" class=\"dataframe\">\n",
       "  <thead>\n",
       "    <tr style=\"text-align: right;\">\n",
       "      <th></th>\n",
       "      <th>Дата</th>\n",
       "      <th>Цена</th>\n",
       "      <th>Откр.</th>\n",
       "      <th>Макс.</th>\n",
       "      <th>Мин.</th>\n",
       "      <th>Объём</th>\n",
       "      <th>Изм. %</th>\n",
       "      <th>Тикер</th>\n",
       "      <th>EUR_RUB</th>\n",
       "      <th>USD_RUB</th>\n",
       "      <th>HKD_RUB</th>\n",
       "      <th>Сумма</th>\n",
       "    </tr>\n",
       "  </thead>\n",
       "  <tbody>\n",
       "    <tr>\n",
       "      <th>843</th>\n",
       "      <td>2020-08-24</td>\n",
       "      <td>9394.1904</td>\n",
       "      <td>9606.168</td>\n",
       "      <td>9612.1392</td>\n",
       "      <td>9250.8816</td>\n",
       "      <td>345940000.0</td>\n",
       "      <td>1.2</td>\n",
       "      <td>AAPL</td>\n",
       "      <td>87.965</td>\n",
       "      <td>74.64</td>\n",
       "      <td>9.61</td>\n",
       "      <td>3.249826e+12</td>\n",
       "    </tr>\n",
       "  </tbody>\n",
       "</table>\n",
       "</div>"
      ],
      "text/plain": [
       "          Дата       Цена     Откр.      Макс.       Мин.        Объём  \\\n",
       "843 2020-08-24  9394.1904  9606.168  9612.1392  9250.8816  345940000.0   \n",
       "\n",
       "     Изм. % Тикер  EUR_RUB  USD_RUB  HKD_RUB         Сумма  \n",
       "843     1.2  AAPL   87.965    74.64     9.61  3.249826e+12  "
      ]
     },
     "execution_count": 25,
     "metadata": {},
     "output_type": "execute_result"
    }
   ],
   "source": [
    "max_summ = df_merged[int(fr1.agg(['idxmax'])):int(fr1.agg(['idxmax']))+1]\n",
    "max_summ"
   ]
  },
  {
   "cell_type": "code",
   "execution_count": 26,
   "id": "96803d49",
   "metadata": {},
   "outputs": [
    {
     "data": {
      "text/plain": [
       "843    AAPL\n",
       "Name: Тикер, dtype: object"
      ]
     },
     "execution_count": 26,
     "metadata": {},
     "output_type": "execute_result"
    }
   ],
   "source": [
    "max_summ['Тикер']"
   ]
  },
  {
   "cell_type": "code",
   "execution_count": 27,
   "id": "d83a17eb",
   "metadata": {},
   "outputs": [
    {
     "data": {
      "text/plain": [
       "843   2020-08-24\n",
       "Name: Дата, dtype: datetime64[ns]"
      ]
     },
     "execution_count": 27,
     "metadata": {},
     "output_type": "execute_result"
    }
   ],
   "source": [
    "max_summ['Дата']"
   ]
  },
  {
   "cell_type": "code",
   "execution_count": 28,
   "id": "92e82d43",
   "metadata": {},
   "outputs": [],
   "source": [
    "df_merged.drop('Сумма',axis=1,inplace=True)"
   ]
  },
  {
   "cell_type": "markdown",
   "id": "c3b8199b",
   "metadata": {
    "id": "c3b8199b"
   },
   "source": [
    "__д) [5 баллов]__  В столбике `'Изм. %'` лежат изменения стоимости ценных бумаг в процентах. При этом для каждой бумаги валюта своя.\n",
    "\n",
    "Найдите 5 дат, в которые наблюдались наибольшие средние процентные изменения стоимости акций в абсолютном выражении.\n",
    "\n",
    "__Hint:__ От изменения акций надо взять модуль, а затем посчитать среднее по тикерам для каждой даты."
   ]
  },
  {
   "cell_type": "code",
   "execution_count": 29,
   "id": "c9055442",
   "metadata": {},
   "outputs": [
    {
     "data": {
      "text/html": [
       "<div>\n",
       "<style scoped>\n",
       "    .dataframe tbody tr th:only-of-type {\n",
       "        vertical-align: middle;\n",
       "    }\n",
       "\n",
       "    .dataframe tbody tr th {\n",
       "        vertical-align: top;\n",
       "    }\n",
       "\n",
       "    .dataframe thead th {\n",
       "        text-align: right;\n",
       "    }\n",
       "</style>\n",
       "<table border=\"1\" class=\"dataframe\">\n",
       "  <thead>\n",
       "    <tr style=\"text-align: right;\">\n",
       "      <th></th>\n",
       "      <th>Дата</th>\n",
       "      <th>Цена</th>\n",
       "      <th>Откр.</th>\n",
       "      <th>Макс.</th>\n",
       "      <th>Мин.</th>\n",
       "      <th>Объём</th>\n",
       "      <th>Изм. %</th>\n",
       "      <th>Тикер</th>\n",
       "      <th>EUR_RUB</th>\n",
       "      <th>USD_RUB</th>\n",
       "      <th>HKD_RUB</th>\n",
       "    </tr>\n",
       "  </thead>\n",
       "  <tbody>\n",
       "    <tr>\n",
       "      <th>0</th>\n",
       "      <td>2023-12-29</td>\n",
       "      <td>17397.01080</td>\n",
       "      <td>17520.80400</td>\n",
       "      <td>17565.98400</td>\n",
       "      <td>17324.72280</td>\n",
       "      <td>42670000.0</td>\n",
       "      <td>0.54</td>\n",
       "      <td>AAPL</td>\n",
       "      <td>98.596</td>\n",
       "      <td>90.360</td>\n",
       "      <td>11.429</td>\n",
       "    </tr>\n",
       "    <tr>\n",
       "      <th>1</th>\n",
       "      <td>2023-12-28</td>\n",
       "      <td>17298.30880</td>\n",
       "      <td>17348.35040</td>\n",
       "      <td>17394.81760</td>\n",
       "      <td>17261.67120</td>\n",
       "      <td>33830000.0</td>\n",
       "      <td>0.22</td>\n",
       "      <td>AAPL</td>\n",
       "      <td>97.919</td>\n",
       "      <td>89.360</td>\n",
       "      <td>11.325</td>\n",
       "    </tr>\n",
       "    <tr>\n",
       "      <th>2</th>\n",
       "      <td>2023-12-27</td>\n",
       "      <td>17628.80050</td>\n",
       "      <td>17568.56230</td>\n",
       "      <td>17660.74500</td>\n",
       "      <td>17440.78430</td>\n",
       "      <td>47900000.0</td>\n",
       "      <td>0.05</td>\n",
       "      <td>AAPL</td>\n",
       "      <td>101.779</td>\n",
       "      <td>91.270</td>\n",
       "      <td>11.731</td>\n",
       "    </tr>\n",
       "    <tr>\n",
       "      <th>3</th>\n",
       "      <td>2023-12-26</td>\n",
       "      <td>17694.96300</td>\n",
       "      <td>17746.29260</td>\n",
       "      <td>17771.95740</td>\n",
       "      <td>17674.79780</td>\n",
       "      <td>28810000.0</td>\n",
       "      <td>0.28</td>\n",
       "      <td>AAPL</td>\n",
       "      <td>101.455</td>\n",
       "      <td>91.660</td>\n",
       "      <td>11.734</td>\n",
       "    </tr>\n",
       "    <tr>\n",
       "      <th>4</th>\n",
       "      <td>2023-12-22</td>\n",
       "      <td>17811.20000</td>\n",
       "      <td>17956.56000</td>\n",
       "      <td>17977.72000</td>\n",
       "      <td>17753.24000</td>\n",
       "      <td>37150000.0</td>\n",
       "      <td>0.55</td>\n",
       "      <td>AAPL</td>\n",
       "      <td>101.467</td>\n",
       "      <td>92.000</td>\n",
       "      <td>11.791</td>\n",
       "    </tr>\n",
       "    <tr>\n",
       "      <th>...</th>\n",
       "      <td>...</td>\n",
       "      <td>...</td>\n",
       "      <td>...</td>\n",
       "      <td>...</td>\n",
       "      <td>...</td>\n",
       "      <td>...</td>\n",
       "      <td>...</td>\n",
       "      <td>...</td>\n",
       "      <td>...</td>\n",
       "      <td>...</td>\n",
       "      <td>...</td>\n",
       "    </tr>\n",
       "    <tr>\n",
       "      <th>17558</th>\n",
       "      <td>2014-01-08</td>\n",
       "      <td>416.51786</td>\n",
       "      <td>418.99968</td>\n",
       "      <td>419.81269</td>\n",
       "      <td>415.10579</td>\n",
       "      <td>18870000.0</td>\n",
       "      <td>1.52</td>\n",
       "      <td>Tencent</td>\n",
       "      <td>45.039</td>\n",
       "      <td>33.177</td>\n",
       "      <td>4.279</td>\n",
       "    </tr>\n",
       "    <tr>\n",
       "      <th>17559</th>\n",
       "      <td>2014-01-07</td>\n",
       "      <td>409.79112</td>\n",
       "      <td>416.03116</td>\n",
       "      <td>416.03116</td>\n",
       "      <td>408.80810</td>\n",
       "      <td>15020000.0</td>\n",
       "      <td>0.32</td>\n",
       "      <td>Tencent</td>\n",
       "      <td>45.123</td>\n",
       "      <td>33.140</td>\n",
       "      <td>4.274</td>\n",
       "    </tr>\n",
       "    <tr>\n",
       "      <th>17560</th>\n",
       "      <td>2014-01-06</td>\n",
       "      <td>411.98177</td>\n",
       "      <td>410.65404</td>\n",
       "      <td>418.53476</td>\n",
       "      <td>407.31330</td>\n",
       "      <td>20380000.0</td>\n",
       "      <td>0.32</td>\n",
       "      <td>Tencent</td>\n",
       "      <td>45.259</td>\n",
       "      <td>33.210</td>\n",
       "      <td>4.283</td>\n",
       "    </tr>\n",
       "    <tr>\n",
       "      <th>17561</th>\n",
       "      <td>2014-01-03</td>\n",
       "      <td>410.55816</td>\n",
       "      <td>415.52528</td>\n",
       "      <td>419.29344</td>\n",
       "      <td>409.57330</td>\n",
       "      <td>18600000.0</td>\n",
       "      <td>2.08</td>\n",
       "      <td>Tencent</td>\n",
       "      <td>45.114</td>\n",
       "      <td>33.200</td>\n",
       "      <td>4.282</td>\n",
       "    </tr>\n",
       "    <tr>\n",
       "      <th>17562</th>\n",
       "      <td>2014-01-02</td>\n",
       "      <td>418.02048</td>\n",
       "      <td>418.02048</td>\n",
       "      <td>418.44738</td>\n",
       "      <td>411.14739</td>\n",
       "      <td>16100000.0</td>\n",
       "      <td>2.00</td>\n",
       "      <td>Tencent</td>\n",
       "      <td>45.254</td>\n",
       "      <td>33.100</td>\n",
       "      <td>4.269</td>\n",
       "    </tr>\n",
       "  </tbody>\n",
       "</table>\n",
       "<p>17563 rows × 11 columns</p>\n",
       "</div>"
      ],
      "text/plain": [
       "            Дата         Цена        Откр.        Макс.         Мин.  \\\n",
       "0     2023-12-29  17397.01080  17520.80400  17565.98400  17324.72280   \n",
       "1     2023-12-28  17298.30880  17348.35040  17394.81760  17261.67120   \n",
       "2     2023-12-27  17628.80050  17568.56230  17660.74500  17440.78430   \n",
       "3     2023-12-26  17694.96300  17746.29260  17771.95740  17674.79780   \n",
       "4     2023-12-22  17811.20000  17956.56000  17977.72000  17753.24000   \n",
       "...          ...          ...          ...          ...          ...   \n",
       "17558 2014-01-08    416.51786    418.99968    419.81269    415.10579   \n",
       "17559 2014-01-07    409.79112    416.03116    416.03116    408.80810   \n",
       "17560 2014-01-06    411.98177    410.65404    418.53476    407.31330   \n",
       "17561 2014-01-03    410.55816    415.52528    419.29344    409.57330   \n",
       "17562 2014-01-02    418.02048    418.02048    418.44738    411.14739   \n",
       "\n",
       "            Объём  Изм. %    Тикер  EUR_RUB  USD_RUB  HKD_RUB  \n",
       "0      42670000.0    0.54     AAPL   98.596   90.360   11.429  \n",
       "1      33830000.0    0.22     AAPL   97.919   89.360   11.325  \n",
       "2      47900000.0    0.05     AAPL  101.779   91.270   11.731  \n",
       "3      28810000.0    0.28     AAPL  101.455   91.660   11.734  \n",
       "4      37150000.0    0.55     AAPL  101.467   92.000   11.791  \n",
       "...           ...     ...      ...      ...      ...      ...  \n",
       "17558  18870000.0    1.52  Tencent   45.039   33.177    4.279  \n",
       "17559  15020000.0    0.32  Tencent   45.123   33.140    4.274  \n",
       "17560  20380000.0    0.32  Tencent   45.259   33.210    4.283  \n",
       "17561  18600000.0    2.08  Tencent   45.114   33.200    4.282  \n",
       "17562  16100000.0    2.00  Tencent   45.254   33.100    4.269  \n",
       "\n",
       "[17563 rows x 11 columns]"
      ]
     },
     "execution_count": 29,
     "metadata": {},
     "output_type": "execute_result"
    }
   ],
   "source": [
    "# your code here\n",
    "# (＠_＠) \n",
    "df_merged['Изм. %'] = df_merged['Изм. %'].abs()\n",
    "\n",
    "df_merged"
   ]
  },
  {
   "cell_type": "code",
   "execution_count": 30,
   "id": "42d1b8ea",
   "metadata": {},
   "outputs": [
    {
     "name": "stdout",
     "output_type": "stream",
     "text": [
      "Дата\n",
      "2022-02-24    13.081429\n",
      "2016-02-29    11.840000\n",
      "2020-03-24    10.795714\n",
      "2020-03-12    10.615714\n",
      "2022-02-21     9.128000\n",
      "Name: Изм. %, dtype: float64\n"
     ]
    }
   ],
   "source": [
    "#В chatGPT написала \"pandas:В dataframe отсортировать топ 5 лучших средних значений за день Изм.%\"\n",
    "# Для образца также скинула датафрейм df_merged из пункта д), chatGPT все корректно вывел, не корректировала\n",
    "\n",
    "\n",
    "\n",
    "grouped = df_merged.groupby('Дата')['Изм. %'].mean()\n",
    "\n",
    "# Отсортируем значения по убыванию и возьмем топ 5 (лучшие значения)\n",
    "top5 = grouped.sort_values(ascending=False)[:5]\n",
    "\n",
    "print(top5)"
   ]
  },
  {
   "cell_type": "code",
   "execution_count": 31,
   "id": "68a5345f",
   "metadata": {},
   "outputs": [
    {
     "data": {
      "text/html": [
       "<div>\n",
       "<style scoped>\n",
       "    .dataframe tbody tr th:only-of-type {\n",
       "        vertical-align: middle;\n",
       "    }\n",
       "\n",
       "    .dataframe tbody tr th {\n",
       "        vertical-align: top;\n",
       "    }\n",
       "\n",
       "    .dataframe thead th {\n",
       "        text-align: right;\n",
       "    }\n",
       "</style>\n",
       "<table border=\"1\" class=\"dataframe\">\n",
       "  <thead>\n",
       "    <tr style=\"text-align: right;\">\n",
       "      <th></th>\n",
       "      <th>Дата</th>\n",
       "      <th>Изм. %</th>\n",
       "    </tr>\n",
       "  </thead>\n",
       "  <tbody>\n",
       "    <tr>\n",
       "      <th>0</th>\n",
       "      <td>2022-02-24</td>\n",
       "      <td>13.081429</td>\n",
       "    </tr>\n",
       "    <tr>\n",
       "      <th>1</th>\n",
       "      <td>2016-02-29</td>\n",
       "      <td>11.840000</td>\n",
       "    </tr>\n",
       "    <tr>\n",
       "      <th>2</th>\n",
       "      <td>2020-03-24</td>\n",
       "      <td>10.795714</td>\n",
       "    </tr>\n",
       "    <tr>\n",
       "      <th>3</th>\n",
       "      <td>2020-03-12</td>\n",
       "      <td>10.615714</td>\n",
       "    </tr>\n",
       "    <tr>\n",
       "      <th>4</th>\n",
       "      <td>2022-02-21</td>\n",
       "      <td>9.128000</td>\n",
       "    </tr>\n",
       "  </tbody>\n",
       "</table>\n",
       "</div>"
      ],
      "text/plain": [
       "        Дата     Изм. %\n",
       "0 2022-02-24  13.081429\n",
       "1 2016-02-29  11.840000\n",
       "2 2020-03-24  10.795714\n",
       "3 2020-03-12  10.615714\n",
       "4 2022-02-21   9.128000"
      ]
     },
     "execution_count": 31,
     "metadata": {},
     "output_type": "execute_result"
    }
   ],
   "source": [
    "df1 = pd.DataFrame(top5)\n",
    "#Reset_index смещает названия столбцов в одну строку\n",
    "top5_ = df1.nlargest(5, 'Изм. %').reset_index()\n",
    "top5_"
   ]
  },
  {
   "cell_type": "markdown",
   "id": "c18959ee",
   "metadata": {
    "id": "c18959ee"
   },
   "source": [
    "__е) [2 балла]__ Сохраните ответ в переменную `top_5_diff` в виде таблички:\n",
    "\n",
    "| Дата     | Изм. % |\n",
    "|----------|--------|\n",
    "| 01/01/01 |   1   |\n",
    "|    ...   |  ...  |\n",
    "| 03/01/01 |   3   |"
   ]
  },
  {
   "cell_type": "code",
   "execution_count": 32,
   "id": "7b5ae7da",
   "metadata": {},
   "outputs": [
    {
     "data": {
      "text/html": [
       "<div>\n",
       "<style scoped>\n",
       "    .dataframe tbody tr th:only-of-type {\n",
       "        vertical-align: middle;\n",
       "    }\n",
       "\n",
       "    .dataframe tbody tr th {\n",
       "        vertical-align: top;\n",
       "    }\n",
       "\n",
       "    .dataframe thead th {\n",
       "        text-align: right;\n",
       "    }\n",
       "</style>\n",
       "<table border=\"1\" class=\"dataframe\">\n",
       "  <thead>\n",
       "    <tr style=\"text-align: right;\">\n",
       "      <th></th>\n",
       "      <th>Дата</th>\n",
       "      <th>Изм. %</th>\n",
       "    </tr>\n",
       "  </thead>\n",
       "  <tbody>\n",
       "    <tr>\n",
       "      <th>0</th>\n",
       "      <td>2022-02-24</td>\n",
       "      <td>13.081429</td>\n",
       "    </tr>\n",
       "    <tr>\n",
       "      <th>1</th>\n",
       "      <td>2016-02-29</td>\n",
       "      <td>11.840000</td>\n",
       "    </tr>\n",
       "    <tr>\n",
       "      <th>2</th>\n",
       "      <td>2020-03-24</td>\n",
       "      <td>10.795714</td>\n",
       "    </tr>\n",
       "    <tr>\n",
       "      <th>3</th>\n",
       "      <td>2020-03-12</td>\n",
       "      <td>10.615714</td>\n",
       "    </tr>\n",
       "    <tr>\n",
       "      <th>4</th>\n",
       "      <td>2022-02-21</td>\n",
       "      <td>9.128000</td>\n",
       "    </tr>\n",
       "  </tbody>\n",
       "</table>\n",
       "</div>"
      ],
      "text/plain": [
       "        Дата     Изм. %\n",
       "0 2022-02-24  13.081429\n",
       "1 2016-02-29  11.840000\n",
       "2 2020-03-24  10.795714\n",
       "3 2020-03-12  10.615714\n",
       "4 2022-02-21   9.128000"
      ]
     },
     "execution_count": 32,
     "metadata": {},
     "output_type": "execute_result"
    }
   ],
   "source": [
    "top_5 = { 'Дата': [ '2022-02-24', '2016-02-29', '2020-03-24', '2020-03-12','2022-02-21'],\n",
    "    'Изм. %': [ 13.081429, 11.840000, 10.795714, 10.615714,9.128000]}\n",
    "top_5_diff = pd.DataFrame(top_5)\n",
    "\n",
    "top_5_diff['Дата'] = pd.to_datetime(top_5_diff['Дата'], dayfirst=True,format='%Y/%m/%d')\n",
    "\n",
    "top_5_diff\n"
   ]
  },
  {
   "cell_type": "markdown",
   "id": "EnaMNc-rZ9RZ",
   "metadata": {
    "id": "EnaMNc-rZ9RZ"
   },
   "source": [
    "__ё) [5 баллов]__ Далее мы будем работать только со средними ценами, поэтому имеет смысл перевести таблицу из длинного формата в широкий\n",
    "\n",
    "Было:\n",
    "\n",
    "| Дата     | Цена | Тикер |\n",
    "|----------|------|-------|\n",
    "| 01/01/01 |  10  |   A   |\n",
    "| 02/01/01 |  20  |   A   |\n",
    "| 03/01/01 |  30  |   A   |\n",
    "|   ...    | ...  |  ...  |\n",
    "| 01/01/01 |  15  |   B   |\n",
    "| 02/01/01 |  30  |   B   |\n",
    "| 03/01/01 |  60  |   B   |\n",
    "|   ...    | ...  |  ...  |\n",
    "\n",
    "Станет:\n",
    "\n",
    "| Дата     | Цена A | Цена B | ... |\n",
    "|----------|--------|--------|-----|\n",
    "| 01/01/14 |   10   |   15   | ... |\n",
    "| 02/01/14 |   20   |   30   | ... |\n",
    "| 03/01/14 |   30   |   60   | ... |\n",
    "|   ...    |  ...   |  ...   | ... |\n",
    "\n",
    "\n",
    "Это можно сделать по-разному, например, с помощью `pivot_table` ([ссылка](https://pandas.pydata.org/pandas-docs/stable/reference/api/pandas.pivot_table.html) на документацию)"
   ]
  },
  {
   "cell_type": "code",
   "execution_count": 33,
   "id": "a0017e49",
   "metadata": {},
   "outputs": [
    {
     "data": {
      "text/html": [
       "<div>\n",
       "<style scoped>\n",
       "    .dataframe tbody tr th:only-of-type {\n",
       "        vertical-align: middle;\n",
       "    }\n",
       "\n",
       "    .dataframe tbody tr th {\n",
       "        vertical-align: top;\n",
       "    }\n",
       "\n",
       "    .dataframe thead th {\n",
       "        text-align: right;\n",
       "    }\n",
       "</style>\n",
       "<table border=\"1\" class=\"dataframe\">\n",
       "  <thead>\n",
       "    <tr style=\"text-align: right;\">\n",
       "      <th>Тикер</th>\n",
       "      <th>Дата</th>\n",
       "      <th>AAPL</th>\n",
       "      <th>BMWG</th>\n",
       "      <th>GAZP</th>\n",
       "      <th>MBGn</th>\n",
       "      <th>MSFT</th>\n",
       "      <th>Tencent</th>\n",
       "      <th>VTBR</th>\n",
       "    </tr>\n",
       "  </thead>\n",
       "  <tbody>\n",
       "    <tr>\n",
       "      <th>0</th>\n",
       "      <td>2014-01-02</td>\n",
       "      <td>653.72500</td>\n",
       "      <td>3780.51916</td>\n",
       "      <td>NaN</td>\n",
       "      <td>2789.90910</td>\n",
       "      <td>1229.99600</td>\n",
       "      <td>418.02048</td>\n",
       "      <td>NaN</td>\n",
       "    </tr>\n",
       "    <tr>\n",
       "      <th>1</th>\n",
       "      <td>2014-01-03</td>\n",
       "      <td>641.42400</td>\n",
       "      <td>3788.67372</td>\n",
       "      <td>NaN</td>\n",
       "      <td>2784.88722</td>\n",
       "      <td>1225.41200</td>\n",
       "      <td>410.55816</td>\n",
       "      <td>NaN</td>\n",
       "    </tr>\n",
       "    <tr>\n",
       "      <th>2</th>\n",
       "      <td>2014-01-06</td>\n",
       "      <td>645.27030</td>\n",
       "      <td>3756.04441</td>\n",
       "      <td>135.47</td>\n",
       "      <td>2785.23886</td>\n",
       "      <td>1199.87730</td>\n",
       "      <td>411.98177</td>\n",
       "      <td>0.048460</td>\n",
       "    </tr>\n",
       "    <tr>\n",
       "      <th>3</th>\n",
       "      <td>2014-01-07</td>\n",
       "      <td>639.27060</td>\n",
       "      <td>3770.02665</td>\n",
       "      <td>NaN</td>\n",
       "      <td>2815.67520</td>\n",
       "      <td>1206.62740</td>\n",
       "      <td>409.79112</td>\n",
       "      <td>NaN</td>\n",
       "    </tr>\n",
       "    <tr>\n",
       "      <th>4</th>\n",
       "      <td>2014-01-08</td>\n",
       "      <td>643.96557</td>\n",
       "      <td>3803.54355</td>\n",
       "      <td>137.33</td>\n",
       "      <td>2801.87619</td>\n",
       "      <td>1186.40952</td>\n",
       "      <td>416.51786</td>\n",
       "      <td>0.047910</td>\n",
       "    </tr>\n",
       "    <tr>\n",
       "      <th>...</th>\n",
       "      <td>...</td>\n",
       "      <td>...</td>\n",
       "      <td>...</td>\n",
       "      <td>...</td>\n",
       "      <td>...</td>\n",
       "      <td>...</td>\n",
       "      <td>...</td>\n",
       "      <td>...</td>\n",
       "    </tr>\n",
       "    <tr>\n",
       "      <th>2602</th>\n",
       "      <td>2023-12-25</td>\n",
       "      <td>NaN</td>\n",
       "      <td>NaN</td>\n",
       "      <td>161.09</td>\n",
       "      <td>NaN</td>\n",
       "      <td>NaN</td>\n",
       "      <td>NaN</td>\n",
       "      <td>0.023195</td>\n",
       "    </tr>\n",
       "    <tr>\n",
       "      <th>2603</th>\n",
       "      <td>2023-12-26</td>\n",
       "      <td>17694.96300</td>\n",
       "      <td>NaN</td>\n",
       "      <td>161.00</td>\n",
       "      <td>NaN</td>\n",
       "      <td>34341.33560</td>\n",
       "      <td>NaN</td>\n",
       "      <td>0.023160</td>\n",
       "    </tr>\n",
       "    <tr>\n",
       "      <th>2604</th>\n",
       "      <td>2023-12-27</td>\n",
       "      <td>17628.80050</td>\n",
       "      <td>10218.61160</td>\n",
       "      <td>159.86</td>\n",
       "      <td>6378.48993</td>\n",
       "      <td>34141.36890</td>\n",
       "      <td>3343.33500</td>\n",
       "      <td>0.022875</td>\n",
       "    </tr>\n",
       "    <tr>\n",
       "      <th>2605</th>\n",
       "      <td>2023-12-28</td>\n",
       "      <td>17298.30880</td>\n",
       "      <td>9834.98436</td>\n",
       "      <td>159.14</td>\n",
       "      <td>6096.43694</td>\n",
       "      <td>33535.02080</td>\n",
       "      <td>3318.22500</td>\n",
       "      <td>0.022695</td>\n",
       "    </tr>\n",
       "    <tr>\n",
       "      <th>2606</th>\n",
       "      <td>2023-12-29</td>\n",
       "      <td>17397.01080</td>\n",
       "      <td>9936.50488</td>\n",
       "      <td>159.52</td>\n",
       "      <td>6167.17980</td>\n",
       "      <td>33978.97440</td>\n",
       "      <td>3355.55440</td>\n",
       "      <td>0.022680</td>\n",
       "    </tr>\n",
       "  </tbody>\n",
       "</table>\n",
       "<p>2607 rows × 8 columns</p>\n",
       "</div>"
      ],
      "text/plain": [
       "Тикер       Дата         AAPL         BMWG    GAZP        MBGn         MSFT  \\\n",
       "0     2014-01-02    653.72500   3780.51916     NaN  2789.90910   1229.99600   \n",
       "1     2014-01-03    641.42400   3788.67372     NaN  2784.88722   1225.41200   \n",
       "2     2014-01-06    645.27030   3756.04441  135.47  2785.23886   1199.87730   \n",
       "3     2014-01-07    639.27060   3770.02665     NaN  2815.67520   1206.62740   \n",
       "4     2014-01-08    643.96557   3803.54355  137.33  2801.87619   1186.40952   \n",
       "...          ...          ...          ...     ...         ...          ...   \n",
       "2602  2023-12-25          NaN          NaN  161.09         NaN          NaN   \n",
       "2603  2023-12-26  17694.96300          NaN  161.00         NaN  34341.33560   \n",
       "2604  2023-12-27  17628.80050  10218.61160  159.86  6378.48993  34141.36890   \n",
       "2605  2023-12-28  17298.30880   9834.98436  159.14  6096.43694  33535.02080   \n",
       "2606  2023-12-29  17397.01080   9936.50488  159.52  6167.17980  33978.97440   \n",
       "\n",
       "Тикер     Tencent      VTBR  \n",
       "0       418.02048       NaN  \n",
       "1       410.55816       NaN  \n",
       "2       411.98177  0.048460  \n",
       "3       409.79112       NaN  \n",
       "4       416.51786  0.047910  \n",
       "...           ...       ...  \n",
       "2602          NaN  0.023195  \n",
       "2603          NaN  0.023160  \n",
       "2604   3343.33500  0.022875  \n",
       "2605   3318.22500  0.022695  \n",
       "2606   3355.55440  0.022680  \n",
       "\n",
       "[2607 rows x 8 columns]"
      ]
     },
     "execution_count": 33,
     "metadata": {},
     "output_type": "execute_result"
    }
   ],
   "source": [
    "df_merged_wide = df_merged.pivot_table(index='Дата', columns='Тикер', values='Цена').reset_index()\n",
    "df_merged_wide"
   ]
  },
  {
   "cell_type": "markdown",
   "id": "1N46waA0aSdu",
   "metadata": {
    "id": "1N46waA0aSdu"
   },
   "source": [
    "__ж) [5 баллов]__  Для всех тикеров из таблички `df` постройти картинки с динамикой цен во времени, а также гистограммы цен. Дайте ответы на вопросы:\n",
    "\n",
    "- Распределение стоимости акций похоже на нормальное?\n",
    "- Что происходило с финансовыми рынками в течение последних $10$ лет? Они росли? Они падали? Видно ли, что были кризисы?\n",
    "\n",
    "__Ответ:__  Распределение стоимости акций VTBR, Tencent и GAZP похожи на нормальное, остальные нет. \n",
    "В целом, мировой финансовый рынок за последнее время вырос, это можно заметить на примере акций AAPL, BMWG, MSFT. Однако на рынке российских акций за 10 лет произошли большие изменения и рынок вернулся на прежний уровень. \n",
    "Кризисы прослеживаются на обоих рынках: в 2023 году прослеживается существенное снижение стоимости ценных бумаг."
   ]
  },
  {
   "cell_type": "code",
   "execution_count": 34,
   "id": "wgcr_oT_aRPN",
   "metadata": {
    "id": "wgcr_oT_aRPN"
   },
   "outputs": [],
   "source": [
    "# your code here\n",
    "# (￢_￢)"
   ]
  },
  {
   "cell_type": "code",
   "execution_count": 35,
   "id": "70a0743b",
   "metadata": {},
   "outputs": [
    {
     "data": {
      "image/png": "[encoded data removed]",
      "text/plain": [
       "<Figure size 640x480 with 2 Axes>"
      ]
     },
     "metadata": {},
     "output_type": "display_data"
    }
   ],
   "source": [
    "import pylab\n",
    "fig, axs = plt.subplots(2, 1)\n",
    "fig.subplots_adjust(hspace=0.6, wspace=0.5)\n",
    "pylab.subplot (2,1, 1)\n",
    "pylab.plot(df_merged_wide['Дата'],df_merged_wide['AAPL'])\n",
    "pylab.ylabel('Стоимость акций')\n",
    "pylab.xlabel('Года')\n",
    "pylab.title('AAPL')\n",
    "pylab.subplot (2,1, 2)\n",
    "pylab.plot(df_merged_wide['Дата'],df_merged_wide['BMWG'])\n",
    "pylab.title('BMWG')\n",
    "pylab.ylabel('Стоимость акций')\n",
    "pylab.xlabel('Года')\n",
    "pylab.show()"
   ]
  },
  {
   "cell_type": "code",
   "execution_count": 36,
   "id": "021ddcd1",
   "metadata": {},
   "outputs": [
    {
     "data": {
      "image/png": "[encoded data removed]",
      "text/plain": [
       "<Figure size 640x480 with 2 Axes>"
      ]
     },
     "metadata": {},
     "output_type": "display_data"
    }
   ],
   "source": [
    "fig, axs = plt.subplots(2, 1)\n",
    "fig.subplots_adjust(hspace=0.6, wspace=0.5)\n",
    "\n",
    "\n",
    "pylab.subplot (2,1, 1)\n",
    "pylab.plot(df_merged_wide['Дата'],df_merged_wide['GAZP'])\n",
    "pylab.title('GAZP')\n",
    "pylab.ylabel('Стоимость акций')\n",
    "pylab.xlabel('Года')\n",
    "pylab.subplot (2,1, 2)\n",
    "pylab.plot(df_merged_wide['Дата'],df_merged_wide['MBGn'])\n",
    "pylab.title('MBGn')\n",
    "pylab.xlabel('Года')\n",
    "pylab.ylabel('Стоимость акций')\n",
    "pylab.show()"
   ]
  },
  {
   "cell_type": "code",
   "execution_count": 37,
   "id": "e4608498",
   "metadata": {},
   "outputs": [
    {
     "data": {
      "image/png": "[encoded data removed]",
      "text/plain": [
       "<Figure size 640x480 with 2 Axes>"
      ]
     },
     "metadata": {},
     "output_type": "display_data"
    }
   ],
   "source": [
    "fig, axs = plt.subplots(2, 1)\n",
    "fig.subplots_adjust(hspace=0.6, wspace=0.5)\n",
    "\n",
    "\n",
    "pylab.subplot (2,1, 1)\n",
    "pylab.plot(df_merged_wide['Дата'],df_merged_wide['MSFT'])\n",
    "pylab.title('MSFT')\n",
    "pylab.xlabel('Года')\n",
    "pylab.ylabel('Стоимость акций')\n",
    "pylab.subplot (2,1, 2)\n",
    "pylab.plot(df_merged_wide['Дата'],df_merged_wide['Tencent'])\n",
    "pylab.title('Tencent')\n",
    "pylab.xlabel('Года')\n",
    "pylab.ylabel('Стоимость акций')\n",
    "pylab.show()"
   ]
  },
  {
   "cell_type": "code",
   "execution_count": 38,
   "id": "49f6dfa9",
   "metadata": {},
   "outputs": [
    {
     "data": {
      "image/png": "[encoded data removed]",
      "text/plain": [
       "<Figure size 640x480 with 1 Axes>"
      ]
     },
     "metadata": {},
     "output_type": "display_data"
    }
   ],
   "source": [
    "pylab.plot(df_merged_wide['Дата'],df_merged_wide['VTBR'])\n",
    "pylab.title('VTBR')\n",
    "pylab.xlabel('Года')\n",
    "pylab.ylabel('Стоимость акций');"
   ]
  },
  {
   "cell_type": "code",
   "execution_count": 39,
   "id": "0352a388",
   "metadata": {},
   "outputs": [],
   "source": [
    "# ПОСТРОИТЬ ГИСТРОГРАММЫ ЦЕН"
   ]
  },
  {
   "cell_type": "code",
   "execution_count": 40,
   "id": "35a0d334",
   "metadata": {},
   "outputs": [
    {
     "data": {
      "image/png": "[encoded data removed]",
      "text/plain": [
       "<Figure size 1000x800 with 9 Axes>"
      ]
     },
     "metadata": {},
     "output_type": "display_data"
    }
   ],
   "source": [
    "df_merged.hist(by='Тикер', column='Цена', grid=False, rwidth=.9, bins=30, figsize=(10,8), color='orange');"
   ]
  },
  {
   "cell_type": "markdown",
   "id": "tiKMg4IKaiIm",
   "metadata": {
    "id": "tiKMg4IKaiIm"
   },
   "source": [
    "Финансовые продукты описываются двумя характеристикам – __доходностью__ и __риском.__ Доходность – это процентное изменение стоимости за некоторый промежуток времени:\n",
    "\n",
    "$$\n",
    "R_t = \\left( \\frac{P_t}{P_{t-1}} - 1 \\right) \\cdot 100\\%.\n",
    "$$\n",
    "\n",
    "Под риском обычно имеют в виду стандартное отклонение.\n",
    "\n",
    "\n",
    "__з) [5 баллов]__  Рассчитайте процентное изменение цены акций в рублях ото дня ко дню для `df`. Полученную таблицу доходностей сохраните в переменную `df_pct_change`.\n",
    "\n",
    "__Hint__: С этим поможет метод `pct_change()`, [(ссылка на документацию).](https://pandas.pydata.org/pandas-docs/stable/reference/api/pandas.DataFrame.pct_change.html)"
   ]
  },
  {
   "cell_type": "code",
   "execution_count": 41,
   "id": "NlyU2BBMaR48",
   "metadata": {
    "id": "NlyU2BBMaR48"
   },
   "outputs": [
    {
     "data": {
      "text/html": [
       "<div>\n",
       "<style scoped>\n",
       "    .dataframe tbody tr th:only-of-type {\n",
       "        vertical-align: middle;\n",
       "    }\n",
       "\n",
       "    .dataframe tbody tr th {\n",
       "        vertical-align: top;\n",
       "    }\n",
       "\n",
       "    .dataframe thead th {\n",
       "        text-align: right;\n",
       "    }\n",
       "</style>\n",
       "<table border=\"1\" class=\"dataframe\">\n",
       "  <thead>\n",
       "    <tr style=\"text-align: right;\">\n",
       "      <th></th>\n",
       "      <th>Дата</th>\n",
       "      <th>AAPL</th>\n",
       "      <th>BMWG</th>\n",
       "      <th>GAZP</th>\n",
       "      <th>MBGn</th>\n",
       "      <th>MSFT</th>\n",
       "      <th>Tencent</th>\n",
       "      <th>VTBR</th>\n",
       "    </tr>\n",
       "  </thead>\n",
       "  <tbody>\n",
       "    <tr>\n",
       "      <th>0</th>\n",
       "      <td>2014-01-02</td>\n",
       "      <td>NaN</td>\n",
       "      <td>NaN</td>\n",
       "      <td>NaN</td>\n",
       "      <td>NaN</td>\n",
       "      <td>NaN</td>\n",
       "      <td>NaN</td>\n",
       "      <td>NaN</td>\n",
       "    </tr>\n",
       "    <tr>\n",
       "      <th>1</th>\n",
       "      <td>2014-01-03</td>\n",
       "      <td>-1.881678</td>\n",
       "      <td>0.215699</td>\n",
       "      <td>NaN</td>\n",
       "      <td>-0.180002</td>\n",
       "      <td>-0.372684</td>\n",
       "      <td>-1.785157</td>\n",
       "      <td>NaN</td>\n",
       "    </tr>\n",
       "    <tr>\n",
       "      <th>2</th>\n",
       "      <td>2014-01-06</td>\n",
       "      <td>0.599650</td>\n",
       "      <td>-0.861233</td>\n",
       "      <td>NaN</td>\n",
       "      <td>0.012627</td>\n",
       "      <td>-2.083764</td>\n",
       "      <td>0.346750</td>\n",
       "      <td>NaN</td>\n",
       "    </tr>\n",
       "    <tr>\n",
       "      <th>3</th>\n",
       "      <td>2014-01-07</td>\n",
       "      <td>-0.929796</td>\n",
       "      <td>0.372260</td>\n",
       "      <td>0.000000</td>\n",
       "      <td>1.092773</td>\n",
       "      <td>0.562566</td>\n",
       "      <td>-0.531735</td>\n",
       "      <td>0.000000</td>\n",
       "    </tr>\n",
       "    <tr>\n",
       "      <th>4</th>\n",
       "      <td>2014-01-08</td>\n",
       "      <td>0.734426</td>\n",
       "      <td>0.889036</td>\n",
       "      <td>1.372998</td>\n",
       "      <td>-0.490078</td>\n",
       "      <td>-1.675569</td>\n",
       "      <td>1.641505</td>\n",
       "      <td>-1.134957</td>\n",
       "    </tr>\n",
       "    <tr>\n",
       "      <th>...</th>\n",
       "      <td>...</td>\n",
       "      <td>...</td>\n",
       "      <td>...</td>\n",
       "      <td>...</td>\n",
       "      <td>...</td>\n",
       "      <td>...</td>\n",
       "      <td>...</td>\n",
       "      <td>...</td>\n",
       "    </tr>\n",
       "    <tr>\n",
       "      <th>2602</th>\n",
       "      <td>2023-12-25</td>\n",
       "      <td>0.000000</td>\n",
       "      <td>0.000000</td>\n",
       "      <td>-0.616941</td>\n",
       "      <td>0.000000</td>\n",
       "      <td>0.000000</td>\n",
       "      <td>0.000000</td>\n",
       "      <td>0.957563</td>\n",
       "    </tr>\n",
       "    <tr>\n",
       "      <th>2603</th>\n",
       "      <td>2023-12-26</td>\n",
       "      <td>-0.652606</td>\n",
       "      <td>0.000000</td>\n",
       "      <td>-0.055869</td>\n",
       "      <td>0.000000</td>\n",
       "      <td>-0.348287</td>\n",
       "      <td>0.000000</td>\n",
       "      <td>-0.150895</td>\n",
       "    </tr>\n",
       "    <tr>\n",
       "      <th>2604</th>\n",
       "      <td>2023-12-27</td>\n",
       "      <td>-0.373906</td>\n",
       "      <td>0.068282</td>\n",
       "      <td>-0.708075</td>\n",
       "      <td>0.020212</td>\n",
       "      <td>-0.582292</td>\n",
       "      <td>3.485307</td>\n",
       "      <td>-1.230570</td>\n",
       "    </tr>\n",
       "    <tr>\n",
       "      <th>2605</th>\n",
       "      <td>2023-12-28</td>\n",
       "      <td>-1.874726</td>\n",
       "      <td>-3.754201</td>\n",
       "      <td>-0.450394</td>\n",
       "      <td>-4.421940</td>\n",
       "      <td>-1.775992</td>\n",
       "      <td>-0.751046</td>\n",
       "      <td>-0.786885</td>\n",
       "    </tr>\n",
       "    <tr>\n",
       "      <th>2606</th>\n",
       "      <td>2023-12-29</td>\n",
       "      <td>0.570588</td>\n",
       "      <td>1.032239</td>\n",
       "      <td>0.238783</td>\n",
       "      <td>1.160397</td>\n",
       "      <td>1.323851</td>\n",
       "      <td>1.124981</td>\n",
       "      <td>-0.066094</td>\n",
       "    </tr>\n",
       "  </tbody>\n",
       "</table>\n",
       "<p>2607 rows × 8 columns</p>\n",
       "</div>"
      ],
      "text/plain": [
       "           Дата      AAPL      BMWG      GAZP      MBGn      MSFT   Tencent  \\\n",
       "0    2014-01-02       NaN       NaN       NaN       NaN       NaN       NaN   \n",
       "1    2014-01-03 -1.881678  0.215699       NaN -0.180002 -0.372684 -1.785157   \n",
       "2    2014-01-06  0.599650 -0.861233       NaN  0.012627 -2.083764  0.346750   \n",
       "3    2014-01-07 -0.929796  0.372260  0.000000  1.092773  0.562566 -0.531735   \n",
       "4    2014-01-08  0.734426  0.889036  1.372998 -0.490078 -1.675569  1.641505   \n",
       "...         ...       ...       ...       ...       ...       ...       ...   \n",
       "2602 2023-12-25  0.000000  0.000000 -0.616941  0.000000  0.000000  0.000000   \n",
       "2603 2023-12-26 -0.652606  0.000000 -0.055869  0.000000 -0.348287  0.000000   \n",
       "2604 2023-12-27 -0.373906  0.068282 -0.708075  0.020212 -0.582292  3.485307   \n",
       "2605 2023-12-28 -1.874726 -3.754201 -0.450394 -4.421940 -1.775992 -0.751046   \n",
       "2606 2023-12-29  0.570588  1.032239  0.238783  1.160397  1.323851  1.124981   \n",
       "\n",
       "          VTBR  \n",
       "0          NaN  \n",
       "1          NaN  \n",
       "2          NaN  \n",
       "3     0.000000  \n",
       "4    -1.134957  \n",
       "...        ...  \n",
       "2602  0.957563  \n",
       "2603 -0.150895  \n",
       "2604 -1.230570  \n",
       "2605 -0.786885  \n",
       "2606 -0.066094  \n",
       "\n",
       "[2607 rows x 8 columns]"
      ]
     },
     "execution_count": 41,
     "metadata": {},
     "output_type": "execute_result"
    }
   ],
   "source": [
    "df_pct_change = pd.DataFrame(\n",
    "        {'Дата':df_merged_wide['Дата'],\n",
    "         'AAPL': df_merged_wide['AAPL'].pct_change()*100,\n",
    "         'BMWG': df_merged_wide['BMWG'].pct_change()*100,\n",
    "         'GAZP': df_merged_wide['GAZP'].pct_change()*100,\n",
    "         'MBGn': df_merged_wide['MBGn'].pct_change()*100,\n",
    "         'MSFT': df_merged_wide['MSFT'].pct_change()*100,\n",
    "         'Tencent': df_merged_wide['Tencent'].pct_change()*100,\n",
    "         'VTBR': df_merged_wide['VTBR'].pct_change()*100,\n",
    "         })\n",
    "# .dropna()\n",
    "df_pct_change"
   ]
  },
  {
   "cell_type": "markdown",
   "id": "VvG-h0PSbVtC",
   "metadata": {
    "id": "VvG-h0PSbVtC"
   },
   "source": [
    "__и) [5 баллов]__  Для всех тикеров из таблички `df_pct_change` постройти картинки с динамикой доходностей, гистограмму доходностей и ящики с усами. Ответьте на следующие вопроcы:\n",
    "\n",
    "- Имеют ли доходности по акциям нормальное распределение?\n",
    "- Видно ли по ящику с усами, что в данных довольно много выбросов?\n",
    "\n",
    "__Ответ:__ Да, доходности по акциям имеют нормальное распределение. По ящику с усами не заметно большое количество выбросов."
   ]
  },
  {
   "cell_type": "code",
   "execution_count": 42,
   "id": "dgqqtwQKbL75",
   "metadata": {
    "id": "dgqqtwQKbL75"
   },
   "outputs": [],
   "source": [
    "# your code here\n",
    "# (⊙_⊙)"
   ]
  },
  {
   "cell_type": "code",
   "execution_count": 43,
   "id": "725ffa71",
   "metadata": {},
   "outputs": [
    {
     "data": {
      "image/png": "[encoded data removed]",
      "text/plain": [
       "<Figure size 640x480 with 4 Axes>"
      ]
     },
     "metadata": {},
     "output_type": "display_data"
    }
   ],
   "source": [
    "fig, ((ax0, ax1), (ax2, ax3)) = plt.subplots(nrows=2, ncols=2)\n",
    "\n",
    "ax0.hist((df_pct_change['AAPL']),  density=True, histtype='bar', color ='lime', label='США')\n",
    "ax0.set_xlabel('Процентное изменение')\n",
    "ax0.set_ylabel('Кол-во')\n",
    "ax0.legend()\n",
    "ax0.set_title('AAPL')\n",
    "\n",
    "\n",
    "ax1.hist(df_pct_change['BMWG'], density=True, histtype='bar', stacked=True, color ='blue', label='Германия')\n",
    "ax1.set_xlabel('Процентное изменение')\n",
    "ax1.set_ylabel('Кол-во')\n",
    "ax1.legend()\n",
    "ax1.set_title('BMWG')\n",
    "\n",
    "\n",
    "ax2.hist(df_pct_change['MSFT'], density=True, histtype='bar', stacked=True, color ='lime', label='США')\n",
    "ax2.set_xlabel('Процентное изменение')\n",
    "ax2.set_ylabel('Кол-во')\n",
    "ax2.legend()\n",
    "ax2.set_title('MSFT')\n",
    "\n",
    "\n",
    "ax3.hist((df_pct_change['MBGn']),  density=True, histtype='bar', color='blue', label='Германия')\n",
    "ax3.set_xlabel('Процентное изменение')\n",
    "ax3.set_ylabel('Кол-во')\n",
    "ax3.legend()\n",
    "ax3.set_title('MBGn')\n",
    "\n",
    "\n",
    "fig.tight_layout()\n",
    "plt.show()\n"
   ]
  },
  {
   "cell_type": "code",
   "execution_count": 44,
   "id": "87f34f28",
   "metadata": {},
   "outputs": [
    {
     "data": {
      "image/png": "[encoded data removed]",
      "text/plain": [
       "<Figure size 640x480 with 3 Axes>"
      ]
     },
     "metadata": {},
     "output_type": "display_data"
    }
   ],
   "source": [
    "fig, (ax4, ax5,ax6) = plt.subplots(nrows=3, ncols=1)\n",
    "\n",
    "ax4.hist(df_pct_change['Tencent'], density=True, histtype='bar', stacked=True, rwidth=.9, color = 'red', label='Китай')\n",
    "ax4.set_xlabel('Процентное изменение')\n",
    "ax4.set_ylabel('Кол-во')\n",
    "ax4.legend()\n",
    "ax4.set_title('Tencent')\n",
    "\n",
    "ax5.hist(df_pct_change['GAZP'], density=True, histtype='bar', stacked=True, rwidth=.9,color = 'tan',label='РФ')\n",
    "ax5.set_xlabel('Процентное изменение')\n",
    "ax5.set_ylabel('Кол-во')\n",
    "ax5.legend()\n",
    "ax5.set_title('GAZP')\n",
    "\n",
    "ax6.hist(df_pct_change['VTBR'], density=True, histtype='bar', stacked=True, rwidth=.9,color = 'tan', label='РФ')\n",
    "ax6.set_xlabel('Процентное изменение')\n",
    "ax6.set_ylabel('Кол-во')\n",
    "ax6.legend()\n",
    "ax6.set_title('VTBR')\n",
    "\n",
    "fig.tight_layout()\n",
    "plt.show()"
   ]
  },
  {
   "cell_type": "code",
   "execution_count": 45,
   "id": "0b595d8b",
   "metadata": {},
   "outputs": [
    {
     "data": {
      "image/png": "[encoded data removed]",
      "text/plain": [
       "<Figure size 640x480 with 2 Axes>"
      ]
     },
     "metadata": {},
     "output_type": "display_data"
    }
   ],
   "source": [
    "#Динамика доходностей\n",
    "fig, axs = plt.subplots(2, 1)\n",
    "fig.subplots_adjust(hspace=0.6, wspace=0.5)\n",
    "pylab.subplot (2,1, 1)\n",
    "pylab.plot(df_pct_change['Дата'],df_pct_change['AAPL'])\n",
    "plt.ylabel('% изменение')\n",
    "plt.xlabel('Года')\n",
    "pylab.title('AAPL')\n",
    "pylab.subplot (2,1, 2)\n",
    "pylab.plot(df_pct_change['Дата'],df_pct_change['BMWG'])\n",
    "plt.xlabel('Года')\n",
    "plt.ylabel('% изменение')\n",
    "pylab.title('BMWG')\n",
    "pylab.show()"
   ]
  },
  {
   "cell_type": "code",
   "execution_count": 46,
   "id": "5a7166e0",
   "metadata": {},
   "outputs": [
    {
     "data": {
      "image/png": "[encoded data removed]",
      "text/plain": [
       "<Figure size 640x480 with 2 Axes>"
      ]
     },
     "metadata": {},
     "output_type": "display_data"
    }
   ],
   "source": [
    "fig, axs = plt.subplots(2, 1)\n",
    "fig.subplots_adjust(hspace=0.6, wspace=0.5)\n",
    "\n",
    "\n",
    "pylab.subplot (2,1, 1)\n",
    "pylab.plot(df_pct_change['Дата'],df_pct_change['GAZP'])\n",
    "plt.xlabel('Года')\n",
    "plt.ylabel('% изменение')\n",
    "pylab.title('GAZP')\n",
    "pylab.subplot (2,1, 2)\n",
    "pylab.plot(df_pct_change['Дата'],df_pct_change['MBGn'])\n",
    "plt.xlabel('Года')\n",
    "plt.ylabel('% изменение')\n",
    "pylab.title('MBGn')\n",
    "pylab.show()"
   ]
  },
  {
   "cell_type": "code",
   "execution_count": 47,
   "id": "3e47dff2",
   "metadata": {},
   "outputs": [
    {
     "data": {
      "image/png": "[encoded data removed]",
      "text/plain": [
       "<Figure size 640x480 with 2 Axes>"
      ]
     },
     "metadata": {},
     "output_type": "display_data"
    }
   ],
   "source": [
    "fig, axs = plt.subplots(2, 1)\n",
    "fig.subplots_adjust(hspace=0.6, wspace=0.5)\n",
    "\n",
    "\n",
    "pylab.subplot (2,1, 1)\n",
    "pylab.plot(df_pct_change['Дата'],df_pct_change['MSFT'])\n",
    "plt.xlabel('Года')\n",
    "plt.ylabel('% изменение')\n",
    "pylab.title('MSFT')\n",
    "pylab.subplot (2,1, 2)\n",
    "pylab.plot(df_pct_change['Дата'],df_pct_change['Tencent'])\n",
    "plt.xlabel('Года')\n",
    "plt.ylabel('% изменение')\n",
    "pylab.title('Tencent')\n",
    "pylab.show()"
   ]
  },
  {
   "cell_type": "code",
   "execution_count": 48,
   "id": "5cc8eeef",
   "metadata": {},
   "outputs": [
    {
     "data": {
      "image/png": "[encoded data removed]",
      "text/plain": [
       "<Figure size 640x480 with 1 Axes>"
      ]
     },
     "metadata": {},
     "output_type": "display_data"
    }
   ],
   "source": [
    "pylab.plot(df_pct_change['Дата'],df_pct_change['VTBR'])\n",
    "plt.xlabel('Года')\n",
    "plt.ylabel('% изменение')\n",
    "pylab.title('VTBR');"
   ]
  },
  {
   "cell_type": "code",
   "execution_count": 49,
   "id": "fb99256e",
   "metadata": {},
   "outputs": [],
   "source": [
    "# Ящики с усами"
   ]
  },
  {
   "cell_type": "code",
   "execution_count": 50,
   "id": "f476171c",
   "metadata": {},
   "outputs": [
    {
     "data": {
      "image/png": "[encoded data removed]",
      "text/plain": [
       "<Figure size 640x480 with 1 Axes>"
      ]
     },
     "metadata": {},
     "output_type": "display_data"
    }
   ],
   "source": [
    "sns.boxplot(x='Тикер', y='Цена', data=df_merged);"
   ]
  },
  {
   "cell_type": "markdown",
   "id": "b48529b1",
   "metadata": {
    "id": "b48529b1"
   },
   "source": [
    "__к) [5 баллов]__  В пункте __д)__ мы нашли даты, в которые наблюдались наибольшие измения стоимости ценых бумаг. При расчётах мы проигнорировали колебания курсов валют.\n",
    "\n",
    "Давайте посмотрим, каким бы было колебание цен акций в абсолютном выражении для дат из таблички `top_5_diff`, если бы мы учли изменения курсов валют.\n",
    "\n",
    "В таблице `df_pct_change` все доходности измерены в рублях. Посчитайте для этой таблицы построчное среднее для абсолютных значений изменений."
   ]
  },
  {
   "cell_type": "code",
   "execution_count": 51,
   "id": "26865c84",
   "metadata": {},
   "outputs": [
    {
     "data": {
      "text/html": [
       "<div>\n",
       "<style scoped>\n",
       "    .dataframe tbody tr th:only-of-type {\n",
       "        vertical-align: middle;\n",
       "    }\n",
       "\n",
       "    .dataframe tbody tr th {\n",
       "        vertical-align: top;\n",
       "    }\n",
       "\n",
       "    .dataframe thead th {\n",
       "        text-align: right;\n",
       "    }\n",
       "</style>\n",
       "<table border=\"1\" class=\"dataframe\">\n",
       "  <thead>\n",
       "    <tr style=\"text-align: right;\">\n",
       "      <th></th>\n",
       "      <th>Дата</th>\n",
       "      <th>AAPL</th>\n",
       "      <th>BMWG</th>\n",
       "      <th>GAZP</th>\n",
       "      <th>MBGn</th>\n",
       "      <th>MSFT</th>\n",
       "      <th>Tencent</th>\n",
       "      <th>VTBR</th>\n",
       "    </tr>\n",
       "  </thead>\n",
       "  <tbody>\n",
       "    <tr>\n",
       "      <th>0</th>\n",
       "      <td>2014-01-02</td>\n",
       "      <td>NaN</td>\n",
       "      <td>NaN</td>\n",
       "      <td>NaN</td>\n",
       "      <td>NaN</td>\n",
       "      <td>NaN</td>\n",
       "      <td>NaN</td>\n",
       "      <td>NaN</td>\n",
       "    </tr>\n",
       "    <tr>\n",
       "      <th>1</th>\n",
       "      <td>2014-01-03</td>\n",
       "      <td>-0.018817</td>\n",
       "      <td>0.002157</td>\n",
       "      <td>NaN</td>\n",
       "      <td>-0.001800</td>\n",
       "      <td>-0.003727</td>\n",
       "      <td>-0.017852</td>\n",
       "      <td>NaN</td>\n",
       "    </tr>\n",
       "    <tr>\n",
       "      <th>2</th>\n",
       "      <td>2014-01-06</td>\n",
       "      <td>0.005997</td>\n",
       "      <td>-0.008612</td>\n",
       "      <td>NaN</td>\n",
       "      <td>0.000126</td>\n",
       "      <td>-0.020838</td>\n",
       "      <td>0.003467</td>\n",
       "      <td>NaN</td>\n",
       "    </tr>\n",
       "    <tr>\n",
       "      <th>3</th>\n",
       "      <td>2014-01-07</td>\n",
       "      <td>-0.009298</td>\n",
       "      <td>0.003723</td>\n",
       "      <td>0.000000</td>\n",
       "      <td>0.010928</td>\n",
       "      <td>0.005626</td>\n",
       "      <td>-0.005317</td>\n",
       "      <td>0.000000</td>\n",
       "    </tr>\n",
       "    <tr>\n",
       "      <th>4</th>\n",
       "      <td>2014-01-08</td>\n",
       "      <td>0.007344</td>\n",
       "      <td>0.008890</td>\n",
       "      <td>0.013730</td>\n",
       "      <td>-0.004901</td>\n",
       "      <td>-0.016756</td>\n",
       "      <td>0.016415</td>\n",
       "      <td>-0.011350</td>\n",
       "    </tr>\n",
       "    <tr>\n",
       "      <th>...</th>\n",
       "      <td>...</td>\n",
       "      <td>...</td>\n",
       "      <td>...</td>\n",
       "      <td>...</td>\n",
       "      <td>...</td>\n",
       "      <td>...</td>\n",
       "      <td>...</td>\n",
       "      <td>...</td>\n",
       "    </tr>\n",
       "    <tr>\n",
       "      <th>2602</th>\n",
       "      <td>2023-12-25</td>\n",
       "      <td>0.000000</td>\n",
       "      <td>0.000000</td>\n",
       "      <td>-0.006169</td>\n",
       "      <td>0.000000</td>\n",
       "      <td>0.000000</td>\n",
       "      <td>0.000000</td>\n",
       "      <td>0.009576</td>\n",
       "    </tr>\n",
       "    <tr>\n",
       "      <th>2603</th>\n",
       "      <td>2023-12-26</td>\n",
       "      <td>-0.006526</td>\n",
       "      <td>0.000000</td>\n",
       "      <td>-0.000559</td>\n",
       "      <td>0.000000</td>\n",
       "      <td>-0.003483</td>\n",
       "      <td>0.000000</td>\n",
       "      <td>-0.001509</td>\n",
       "    </tr>\n",
       "    <tr>\n",
       "      <th>2604</th>\n",
       "      <td>2023-12-27</td>\n",
       "      <td>-0.003739</td>\n",
       "      <td>0.000683</td>\n",
       "      <td>-0.007081</td>\n",
       "      <td>0.000202</td>\n",
       "      <td>-0.005823</td>\n",
       "      <td>0.034853</td>\n",
       "      <td>-0.012306</td>\n",
       "    </tr>\n",
       "    <tr>\n",
       "      <th>2605</th>\n",
       "      <td>2023-12-28</td>\n",
       "      <td>-0.018747</td>\n",
       "      <td>-0.037542</td>\n",
       "      <td>-0.004504</td>\n",
       "      <td>-0.044219</td>\n",
       "      <td>-0.017760</td>\n",
       "      <td>-0.007510</td>\n",
       "      <td>-0.007869</td>\n",
       "    </tr>\n",
       "    <tr>\n",
       "      <th>2606</th>\n",
       "      <td>2023-12-29</td>\n",
       "      <td>0.005706</td>\n",
       "      <td>0.010322</td>\n",
       "      <td>0.002388</td>\n",
       "      <td>0.011604</td>\n",
       "      <td>0.013239</td>\n",
       "      <td>0.011250</td>\n",
       "      <td>-0.000661</td>\n",
       "    </tr>\n",
       "  </tbody>\n",
       "</table>\n",
       "<p>2607 rows × 8 columns</p>\n",
       "</div>"
      ],
      "text/plain": [
       "           Дата      AAPL      BMWG      GAZP      MBGn      MSFT   Tencent  \\\n",
       "0    2014-01-02       NaN       NaN       NaN       NaN       NaN       NaN   \n",
       "1    2014-01-03 -0.018817  0.002157       NaN -0.001800 -0.003727 -0.017852   \n",
       "2    2014-01-06  0.005997 -0.008612       NaN  0.000126 -0.020838  0.003467   \n",
       "3    2014-01-07 -0.009298  0.003723  0.000000  0.010928  0.005626 -0.005317   \n",
       "4    2014-01-08  0.007344  0.008890  0.013730 -0.004901 -0.016756  0.016415   \n",
       "...         ...       ...       ...       ...       ...       ...       ...   \n",
       "2602 2023-12-25  0.000000  0.000000 -0.006169  0.000000  0.000000  0.000000   \n",
       "2603 2023-12-26 -0.006526  0.000000 -0.000559  0.000000 -0.003483  0.000000   \n",
       "2604 2023-12-27 -0.003739  0.000683 -0.007081  0.000202 -0.005823  0.034853   \n",
       "2605 2023-12-28 -0.018747 -0.037542 -0.004504 -0.044219 -0.017760 -0.007510   \n",
       "2606 2023-12-29  0.005706  0.010322  0.002388  0.011604  0.013239  0.011250   \n",
       "\n",
       "          VTBR  \n",
       "0          NaN  \n",
       "1          NaN  \n",
       "2          NaN  \n",
       "3     0.000000  \n",
       "4    -0.011350  \n",
       "...        ...  \n",
       "2602  0.009576  \n",
       "2603 -0.001509  \n",
       "2604 -0.012306  \n",
       "2605 -0.007869  \n",
       "2606 -0.000661  \n",
       "\n",
       "[2607 rows x 8 columns]"
      ]
     },
     "execution_count": 51,
     "metadata": {},
     "output_type": "execute_result"
    }
   ],
   "source": [
    "df_pct_change = pd.DataFrame(\n",
    "        {'Дата':df_merged_wide['Дата'],\n",
    "         'AAPL': df_merged_wide['AAPL'].pct_change(),\n",
    "         'BMWG': df_merged_wide['BMWG'].pct_change(),\n",
    "         'GAZP': df_merged_wide['GAZP'].pct_change(),\n",
    "         'MBGn': df_merged_wide['MBGn'].pct_change(),\n",
    "         'MSFT': df_merged_wide['MSFT'].pct_change(),\n",
    "         'Tencent': df_merged_wide['Tencent'].pct_change(),\n",
    "         'VTBR': df_merged_wide['VTBR'].pct_change(),\n",
    "         })\n",
    "\n",
    "df_pct_change"
   ]
  },
  {
   "cell_type": "code",
   "execution_count": 52,
   "id": "f119a4ea",
   "metadata": {},
   "outputs": [
    {
     "data": {
      "text/html": [
       "<div>\n",
       "<style scoped>\n",
       "    .dataframe tbody tr th:only-of-type {\n",
       "        vertical-align: middle;\n",
       "    }\n",
       "\n",
       "    .dataframe tbody tr th {\n",
       "        vertical-align: top;\n",
       "    }\n",
       "\n",
       "    .dataframe thead th {\n",
       "        text-align: right;\n",
       "    }\n",
       "</style>\n",
       "<table border=\"1\" class=\"dataframe\">\n",
       "  <thead>\n",
       "    <tr style=\"text-align: right;\">\n",
       "      <th></th>\n",
       "      <th>Дата</th>\n",
       "      <th>AAPL</th>\n",
       "      <th>BMWG</th>\n",
       "      <th>GAZP</th>\n",
       "      <th>MBGn</th>\n",
       "      <th>MSFT</th>\n",
       "      <th>Tencent</th>\n",
       "      <th>VTBR</th>\n",
       "      <th>Изм. (RUB) %</th>\n",
       "    </tr>\n",
       "  </thead>\n",
       "  <tbody>\n",
       "    <tr>\n",
       "      <th>0</th>\n",
       "      <td>2014-01-02</td>\n",
       "      <td>NaN</td>\n",
       "      <td>NaN</td>\n",
       "      <td>NaN</td>\n",
       "      <td>NaN</td>\n",
       "      <td>NaN</td>\n",
       "      <td>NaN</td>\n",
       "      <td>NaN</td>\n",
       "      <td>NaN</td>\n",
       "    </tr>\n",
       "    <tr>\n",
       "      <th>1</th>\n",
       "      <td>2014-01-03</td>\n",
       "      <td>-0.018817</td>\n",
       "      <td>0.002157</td>\n",
       "      <td>NaN</td>\n",
       "      <td>-0.001800</td>\n",
       "      <td>-0.003727</td>\n",
       "      <td>-0.017852</td>\n",
       "      <td>NaN</td>\n",
       "      <td>0.008870</td>\n",
       "    </tr>\n",
       "    <tr>\n",
       "      <th>2</th>\n",
       "      <td>2014-01-06</td>\n",
       "      <td>0.005997</td>\n",
       "      <td>-0.008612</td>\n",
       "      <td>NaN</td>\n",
       "      <td>0.000126</td>\n",
       "      <td>-0.020838</td>\n",
       "      <td>0.003467</td>\n",
       "      <td>NaN</td>\n",
       "      <td>0.007808</td>\n",
       "    </tr>\n",
       "    <tr>\n",
       "      <th>3</th>\n",
       "      <td>2014-01-07</td>\n",
       "      <td>-0.009298</td>\n",
       "      <td>0.003723</td>\n",
       "      <td>0.000000</td>\n",
       "      <td>0.010928</td>\n",
       "      <td>0.005626</td>\n",
       "      <td>-0.005317</td>\n",
       "      <td>0.000000</td>\n",
       "      <td>0.004984</td>\n",
       "    </tr>\n",
       "    <tr>\n",
       "      <th>4</th>\n",
       "      <td>2014-01-08</td>\n",
       "      <td>0.007344</td>\n",
       "      <td>0.008890</td>\n",
       "      <td>0.013730</td>\n",
       "      <td>-0.004901</td>\n",
       "      <td>-0.016756</td>\n",
       "      <td>0.016415</td>\n",
       "      <td>-0.011350</td>\n",
       "      <td>0.011341</td>\n",
       "    </tr>\n",
       "    <tr>\n",
       "      <th>...</th>\n",
       "      <td>...</td>\n",
       "      <td>...</td>\n",
       "      <td>...</td>\n",
       "      <td>...</td>\n",
       "      <td>...</td>\n",
       "      <td>...</td>\n",
       "      <td>...</td>\n",
       "      <td>...</td>\n",
       "      <td>...</td>\n",
       "    </tr>\n",
       "    <tr>\n",
       "      <th>2602</th>\n",
       "      <td>2023-12-25</td>\n",
       "      <td>0.000000</td>\n",
       "      <td>0.000000</td>\n",
       "      <td>-0.006169</td>\n",
       "      <td>0.000000</td>\n",
       "      <td>0.000000</td>\n",
       "      <td>0.000000</td>\n",
       "      <td>0.009576</td>\n",
       "      <td>0.002249</td>\n",
       "    </tr>\n",
       "    <tr>\n",
       "      <th>2603</th>\n",
       "      <td>2023-12-26</td>\n",
       "      <td>-0.006526</td>\n",
       "      <td>0.000000</td>\n",
       "      <td>-0.000559</td>\n",
       "      <td>0.000000</td>\n",
       "      <td>-0.003483</td>\n",
       "      <td>0.000000</td>\n",
       "      <td>-0.001509</td>\n",
       "      <td>0.001725</td>\n",
       "    </tr>\n",
       "    <tr>\n",
       "      <th>2604</th>\n",
       "      <td>2023-12-27</td>\n",
       "      <td>-0.003739</td>\n",
       "      <td>0.000683</td>\n",
       "      <td>-0.007081</td>\n",
       "      <td>0.000202</td>\n",
       "      <td>-0.005823</td>\n",
       "      <td>0.034853</td>\n",
       "      <td>-0.012306</td>\n",
       "      <td>0.009241</td>\n",
       "    </tr>\n",
       "    <tr>\n",
       "      <th>2605</th>\n",
       "      <td>2023-12-28</td>\n",
       "      <td>-0.018747</td>\n",
       "      <td>-0.037542</td>\n",
       "      <td>-0.004504</td>\n",
       "      <td>-0.044219</td>\n",
       "      <td>-0.017760</td>\n",
       "      <td>-0.007510</td>\n",
       "      <td>-0.007869</td>\n",
       "      <td>0.019736</td>\n",
       "    </tr>\n",
       "    <tr>\n",
       "      <th>2606</th>\n",
       "      <td>2023-12-29</td>\n",
       "      <td>0.005706</td>\n",
       "      <td>0.010322</td>\n",
       "      <td>0.002388</td>\n",
       "      <td>0.011604</td>\n",
       "      <td>0.013239</td>\n",
       "      <td>0.011250</td>\n",
       "      <td>-0.000661</td>\n",
       "      <td>0.007881</td>\n",
       "    </tr>\n",
       "  </tbody>\n",
       "</table>\n",
       "<p>2607 rows × 9 columns</p>\n",
       "</div>"
      ],
      "text/plain": [
       "           Дата      AAPL      BMWG      GAZP      MBGn      MSFT   Tencent  \\\n",
       "0    2014-01-02       NaN       NaN       NaN       NaN       NaN       NaN   \n",
       "1    2014-01-03 -0.018817  0.002157       NaN -0.001800 -0.003727 -0.017852   \n",
       "2    2014-01-06  0.005997 -0.008612       NaN  0.000126 -0.020838  0.003467   \n",
       "3    2014-01-07 -0.009298  0.003723  0.000000  0.010928  0.005626 -0.005317   \n",
       "4    2014-01-08  0.007344  0.008890  0.013730 -0.004901 -0.016756  0.016415   \n",
       "...         ...       ...       ...       ...       ...       ...       ...   \n",
       "2602 2023-12-25  0.000000  0.000000 -0.006169  0.000000  0.000000  0.000000   \n",
       "2603 2023-12-26 -0.006526  0.000000 -0.000559  0.000000 -0.003483  0.000000   \n",
       "2604 2023-12-27 -0.003739  0.000683 -0.007081  0.000202 -0.005823  0.034853   \n",
       "2605 2023-12-28 -0.018747 -0.037542 -0.004504 -0.044219 -0.017760 -0.007510   \n",
       "2606 2023-12-29  0.005706  0.010322  0.002388  0.011604  0.013239  0.011250   \n",
       "\n",
       "          VTBR  Изм. (RUB) %  \n",
       "0          NaN           NaN  \n",
       "1          NaN      0.008870  \n",
       "2          NaN      0.007808  \n",
       "3     0.000000      0.004984  \n",
       "4    -0.011350      0.011341  \n",
       "...        ...           ...  \n",
       "2602  0.009576      0.002249  \n",
       "2603 -0.001509      0.001725  \n",
       "2604 -0.012306      0.009241  \n",
       "2605 -0.007869      0.019736  \n",
       "2606 -0.000661      0.007881  \n",
       "\n",
       "[2607 rows x 9 columns]"
      ]
     },
     "execution_count": 52,
     "metadata": {},
     "output_type": "execute_result"
    }
   ],
   "source": [
    "df_pct_change['Изм. (RUB) %']=df_pct_change[['AAPL','BMWG','GAZP','MBGn','MSFT','Tencent','VTBR']].abs().mean(axis=1)\n",
    "df_pct_change\n"
   ]
  },
  {
   "cell_type": "markdown",
   "id": "62c863a5",
   "metadata": {
    "id": "62c863a5"
   },
   "source": [
    "Оставьте только те даты, которые встречаются в `top_5_diff`, и добавить их в качестве нового столбца `'Изм. (RUB) %'`\n",
    "\n",
    "__Hint__: Чтобы выделить список необходимых дат из таблички `top_5_diff`, можно воспользоваться методом `to_list()` применительно к столбцу `'Дата'`. Такой список можно дальше использовать при обращении к строкам в `'[...]'`."
   ]
  },
  {
   "cell_type": "code",
   "execution_count": 53,
   "id": "211ce4cc",
   "metadata": {},
   "outputs": [],
   "source": [
    "changes = list()\n",
    "for data in top_5_diff['Дата'].to_list():\n",
    "    for i in range(3,len(df_pct_change)):\n",
    "        if data == df_pct_change['Дата'][i]:\n",
    "            changes.append(df_pct_change['Изм. (RUB) %'][i]*100)   "
   ]
  },
  {
   "cell_type": "code",
   "execution_count": 54,
   "id": "f8b92579",
   "metadata": {},
   "outputs": [
    {
     "data": {
      "text/html": [
       "<div>\n",
       "<style scoped>\n",
       "    .dataframe tbody tr th:only-of-type {\n",
       "        vertical-align: middle;\n",
       "    }\n",
       "\n",
       "    .dataframe tbody tr th {\n",
       "        vertical-align: top;\n",
       "    }\n",
       "\n",
       "    .dataframe thead th {\n",
       "        text-align: right;\n",
       "    }\n",
       "</style>\n",
       "<table border=\"1\" class=\"dataframe\">\n",
       "  <thead>\n",
       "    <tr style=\"text-align: right;\">\n",
       "      <th></th>\n",
       "      <th>Дата</th>\n",
       "      <th>Изм. %</th>\n",
       "      <th>Изм. (RUB) %</th>\n",
       "    </tr>\n",
       "  </thead>\n",
       "  <tbody>\n",
       "    <tr>\n",
       "      <th>0</th>\n",
       "      <td>2022-02-24</td>\n",
       "      <td>13.081429</td>\n",
       "      <td>12.677837</td>\n",
       "    </tr>\n",
       "    <tr>\n",
       "      <th>1</th>\n",
       "      <td>2016-02-29</td>\n",
       "      <td>11.840000</td>\n",
       "      <td>1.631587</td>\n",
       "    </tr>\n",
       "    <tr>\n",
       "      <th>2</th>\n",
       "      <td>2020-03-24</td>\n",
       "      <td>10.795714</td>\n",
       "      <td>9.703503</td>\n",
       "    </tr>\n",
       "    <tr>\n",
       "      <th>3</th>\n",
       "      <td>2020-03-12</td>\n",
       "      <td>10.615714</td>\n",
       "      <td>9.195150</td>\n",
       "    </tr>\n",
       "    <tr>\n",
       "      <th>4</th>\n",
       "      <td>2022-02-21</td>\n",
       "      <td>9.128000</td>\n",
       "      <td>5.438385</td>\n",
       "    </tr>\n",
       "  </tbody>\n",
       "</table>\n",
       "</div>"
      ],
      "text/plain": [
       "        Дата     Изм. %  Изм. (RUB) %\n",
       "0 2022-02-24  13.081429     12.677837\n",
       "1 2016-02-29  11.840000      1.631587\n",
       "2 2020-03-24  10.795714      9.703503\n",
       "3 2020-03-12  10.615714      9.195150\n",
       "4 2022-02-21   9.128000      5.438385"
      ]
     },
     "execution_count": 54,
     "metadata": {},
     "output_type": "execute_result"
    }
   ],
   "source": [
    "top_5_diff['Изм. (RUB) %'] = changes\n",
    "\n",
    "top_5_diff"
   ]
  },
  {
   "cell_type": "markdown",
   "id": "5b982438",
   "metadata": {
    "id": "5b982438"
   },
   "source": [
    "__л) [2 балла]__  Проинтерпретируете уменьшение/увеличение процентного изменения стоимости акций при пересчете по курсу в рубли.\n",
    "\n",
    "__Ответ:__ Уменьшение процентного изменения стоимости акций при пересчете по курсу в рубли связано с изменением валютного курса."
   ]
  },
  {
   "cell_type": "markdown",
   "id": "040041e8",
   "metadata": {
    "id": "040041e8"
   },
   "source": [
    "## 3 Составляем портфель"
   ]
  },
  {
   "cell_type": "markdown",
   "id": "5840f7e6",
   "metadata": {
    "id": "5840f7e6"
   },
   "source": [
    "\n",
    "Финансовые продукты описываются двумя характеристиками: __доходностью__ и __риском__.\n",
    "\n",
    "Доходность — это процентное изменение стоимости за некоторый промежуток времени. Под риском, как правило, понимается стандартное отклонение доходности акций.\n",
    "\n",
    "Однако когда речь идет о нескольких акциях в портфеле, то необходимо учитывать, как связана динамика цен на эти акции: падение доходности одной из акций может быть компенсировано ростом другой. Такой портфель будет предпочтительнее, поскольку предлагает меньшие риски для инвестора.\n",
    "\n",
    "Осталось найти то самое сладкое сочетание активов... Для поиска оптимальных весов активов в портфеле обычно решается __задача оптимизации.__\n",
    "\n",
    "Мы поступим проще:\n",
    "\n",
    "- Будем рассматривать портфель, состоящий всего из 2 тикеров: `'AAPL'` и `'Tencent'`.\n",
    "- Наилучшее сочетание весов будем искать неоптимальным способом, тупо перебирая различные варианты."
   ]
  },
  {
   "cell_type": "markdown",
   "id": "352960fd",
   "metadata": {
    "id": "352960fd"
   },
   "source": [
    "Пусть мы вкладываем долю нашего бюджета $w$ в первую ценную бумагу, а долю $(1 - w)$ во вторую. Тогда ожидаемая доходность порфеля составит\n",
    "\n",
    "$$\n",
    "\\mathbb{E}(R) = w \\cdot \\mathbb{E}(R_1)  + (1 - w) \\cdot \\mathbb{E}(R_2).\n",
    "$$\n",
    "\n",
    "Дисперсия портфеля будет равна\n",
    "\n",
    "$$\n",
    "\\text{Var}(R) = w^2 \\cdot \\text{Var}(R_1)  + (1 - w)^2 \\cdot \\text{Var}(R_2) + 2 \\cdot w \\cdot \\text{Cov}(R_1, R_2).\n",
    "$$\n",
    "\n",
    "Ковариацию, по её определению, можно переписать как\n",
    "\n",
    "$$\n",
    "\\text{Cov}(R_1, R_2) = \\text{Corr}(R_1, R_2) \\cdot \\sigma(R_1) \\cdot \\sigma(R_2),\n",
    "$$\n",
    "\n",
    "где $\\sigma(R_i) = \\sqrt{ \\text{Var}(R_i)}$.\n"
   ]
  },
  {
   "cell_type": "markdown",
   "id": "6c824254",
   "metadata": {
    "id": "6c824254"
   },
   "source": [
    "Для начала создадим веса, которые будем рассматривать.\n",
    "\n",
    "__а) [2 балла]__ С помощью функции `np.arange()` создайте `array` от $0$ до $1$ с шагом $0.01$ [(ссылка на документацию).](https://numpy.org/doc/stable/reference/generated/numpy.arange.html)"
   ]
  },
  {
   "cell_type": "code",
   "execution_count": 55,
   "id": "03265451",
   "metadata": {
    "id": "03265451"
   },
   "outputs": [
    {
     "data": {
      "text/plain": [
       "array([0.  , 0.01, 0.02, 0.03, 0.04, 0.05, 0.06, 0.07, 0.08, 0.09, 0.1 ,\n",
       "       0.11, 0.12, 0.13, 0.14, 0.15, 0.16, 0.17, 0.18, 0.19, 0.2 , 0.21,\n",
       "       0.22, 0.23, 0.24, 0.25, 0.26, 0.27, 0.28, 0.29, 0.3 , 0.31, 0.32,\n",
       "       0.33, 0.34, 0.35, 0.36, 0.37, 0.38, 0.39, 0.4 , 0.41, 0.42, 0.43,\n",
       "       0.44, 0.45, 0.46, 0.47, 0.48, 0.49, 0.5 , 0.51, 0.52, 0.53, 0.54,\n",
       "       0.55, 0.56, 0.57, 0.58, 0.59, 0.6 , 0.61, 0.62, 0.63, 0.64, 0.65,\n",
       "       0.66, 0.67, 0.68, 0.69, 0.7 , 0.71, 0.72, 0.73, 0.74, 0.75, 0.76,\n",
       "       0.77, 0.78, 0.79, 0.8 , 0.81, 0.82, 0.83, 0.84, 0.85, 0.86, 0.87,\n",
       "       0.88, 0.89, 0.9 , 0.91, 0.92, 0.93, 0.94, 0.95, 0.96, 0.97, 0.98,\n",
       "       0.99])"
      ]
     },
     "execution_count": 55,
     "metadata": {},
     "output_type": "execute_result"
    }
   ],
   "source": [
    "w = np.arange(0,1,0.01)\n",
    "w"
   ]
  },
  {
   "cell_type": "markdown",
   "id": "bc3e95e9",
   "metadata": {
    "id": "bc3e95e9"
   },
   "source": [
    "Теперь запишем необходимые характеристики акций в соответствующие переменные:\n",
    "\n",
    "__б) [3 балла]__ В переменные `r1` и `r2` сохраните среднюю доходность акций `'AAPL'` и `'Tencent'` из `df_pct_change`. Убедитесь, что доходности представлены не в процентах, а в виде чисел. Например не $10\\%$, а $0.1$.\n",
    "\n",
    "Кроме того, поскольку стандартной мерой доходности является годовая доходность, преобразуем среднюю ежедневную доходность в годовую, используя формулу сложного процента для полученных значений:\n",
    "\n",
    "$$\n",
    "r_{\\text{год}} = (1 + r_{\\text{день}})^{252} - 1,\n",
    "$$\n",
    "\n",
    "где:\n",
    "- $r_{\\text{год}}$ - ожидаемая годовая доходность,\n",
    "- $r_{\\text{день}}$ - средняя ежедневная доходность,\n",
    "- $252$ - количество торговых дней в году (для большинства финансовых рынков)."
   ]
  },
  {
   "cell_type": "code",
   "execution_count": 56,
   "id": "fd982371",
   "metadata": {},
   "outputs": [
    {
     "data": {
      "text/plain": [
       "(0.0014811640485059127, 0.0011308938501601818)"
      ]
     },
     "execution_count": 56,
     "metadata": {},
     "output_type": "execute_result"
    }
   ],
   "source": [
    "r1 = df_pct_change.dropna()['AAPL'].mean()\n",
    "r2 = df_pct_change['Tencent'].mean()\n",
    "r1,r2 "
   ]
  },
  {
   "cell_type": "code",
   "execution_count": 57,
   "id": "8b43dd78",
   "metadata": {},
   "outputs": [
    {
     "data": {
      "text/plain": [
       "(0.4520512154948866, 0.3295283131928597)"
      ]
     },
     "execution_count": 57,
     "metadata": {},
     "output_type": "execute_result"
    }
   ],
   "source": [
    "r1 = (1+r1)**252 - 1\n",
    "r2 = (1+r2)**252 - 1\n",
    "r1,r2"
   ]
  },
  {
   "cell_type": "code",
   "execution_count": 58,
   "id": "c4e37b55",
   "metadata": {},
   "outputs": [],
   "source": [
    "sd1 = df_pct_change['AAPL'].std()\n",
    "sd2 = df_pct_change['Tencent'].std()"
   ]
  },
  {
   "cell_type": "code",
   "execution_count": 59,
   "id": "28dacc41",
   "metadata": {},
   "outputs": [
    {
     "data": {
      "text/plain": [
       "(0.3315605806599849, 0.4092074682339811)"
      ]
     },
     "execution_count": 59,
     "metadata": {},
     "output_type": "execute_result"
    }
   ],
   "source": [
    "sd1 = sd1 * np.sqrt(252)\n",
    "sd2 = sd2 * np.sqrt(252)\n",
    "\n",
    "sd1,sd2"
   ]
  },
  {
   "cell_type": "markdown",
   "id": "2decb1e7",
   "metadata": {
    "id": "2decb1e7"
   },
   "source": [
    "__в) [1 балл]__ В переменную `rho` сохраните корреляцию между акциями."
   ]
  },
  {
   "cell_type": "code",
   "execution_count": 60,
   "id": "8c12fad2",
   "metadata": {
    "id": "8c12fad2"
   },
   "outputs": [
    {
     "data": {
      "text/plain": [
       "0.2631413215824041"
      ]
     },
     "execution_count": 60,
     "metadata": {},
     "output_type": "execute_result"
    }
   ],
   "source": [
    "rho = df_pct_change['AAPL'].corr(df_pct_change['Tencent'])\n",
    "rho"
   ]
  },
  {
   "cell_type": "markdown",
   "id": "e119fd8d",
   "metadata": {
    "id": "e119fd8d"
   },
   "source": [
    "Теперь посчитаем доходность и волатильность портфеля, используя соответствующие формулы"
   ]
  },
  {
   "cell_type": "code",
   "execution_count": 61,
   "id": "fb16fcc3",
   "metadata": {
    "id": "fb16fcc3"
   },
   "outputs": [],
   "source": [
    "r_p2 = w * r1 +(1 - w) * r2\n",
    "sd_p2 = np.sqrt(w**2 * sd1**2 + (1 - w)**2 * sd2**2 + 2 * w * (1 - w) * rho * sd1 * sd2)"
   ]
  },
  {
   "cell_type": "markdown",
   "id": "15dbca97",
   "metadata": {
    "id": "15dbca97"
   },
   "source": [
    "__г) [5 баллов]__ Постройте линейный график в осях (`sd_p2`, `r_p2`)\n",
    "\n",
    "__Hint:__ Можно сделать с помощью `plt.plot(x, y)`"
   ]
  },
  {
   "cell_type": "code",
   "execution_count": 62,
   "id": "98d0e413",
   "metadata": {
    "id": "98d0e413"
   },
   "outputs": [],
   "source": [
    "# your code here\n",
    "# ┌(ಠ_ಠ)┘\n",
    "# plt.plot(sd_p2, r_p2);"
   ]
  },
  {
   "cell_type": "code",
   "execution_count": 63,
   "id": "884c5ff4",
   "metadata": {},
   "outputs": [
    {
     "data": {
      "image/png": "[encoded data removed]",
      "text/plain": [
       "<Figure size 640x480 with 1 Axes>"
      ]
     },
     "metadata": {},
     "output_type": "display_data"
    }
   ],
   "source": [
    "plt.plot(sd_p2, r_p2)\n",
    "plt.xlabel('Волатильность')\n",
    "plt.ylabel('Доходность');"
   ]
  },
  {
   "cell_type": "markdown",
   "id": "754ab575",
   "metadata": {
    "id": "754ab575"
   },
   "source": [
    "Получившаяся у вас картинка должна быть похожа на такую:\n",
    "\n",
    "<center>\n",
    "<img src=\"https://investprofit.info/wp-content/uploads/2018/08/Frontier1.png\" height=\"450\">\n",
    "</center>\n",
    "\n",
    "В портфельной теории Марковица эта кривая называется эффективной границей (или кривой эффективностию). Её можно поделить на три зоны:\n",
    "\n",
    "- **Эффективная граница (Efficient Frontier)** — это часть кривой, которая лежит выше портфеля с минимальной дисперсией (риском). Портфели на этом участке предлагают наилучшее сочетание риска и доходности. Другими словами, для любого данного уровня риска, портфели на эффективной границе предлагают максимальную возможную доходность.\n",
    "- **Портфели ниже эффективной границы** считаются неэффективными, так как для того же уровня риска можно добиться большей доходности.\n",
    "- **Портфели выше эффективной границы** обычно не существуют, так как они предполагали бы получение более высокой доходности при том же уровне риска."
   ]
  },
  {
   "cell_type": "markdown",
   "id": "9e1fac6c",
   "metadata": {
    "id": "9e1fac6c"
   },
   "source": [
    "Найдем портфель с минимальной дисперсией (риском).\n",
    "\n",
    "__д) [3 балла]__ Для этого сначала создадим табличку со столбцами `'Вес'`, `'Риск'` и `'Доходность'` (содержащими `w`, `sd_p2` и `r_p2` соответственно)"
   ]
  },
  {
   "cell_type": "code",
   "execution_count": 64,
   "id": "321d775a",
   "metadata": {
    "id": "321d775a"
   },
   "outputs": [
    {
     "data": {
      "text/html": [
       "<div>\n",
       "<style scoped>\n",
       "    .dataframe tbody tr th:only-of-type {\n",
       "        vertical-align: middle;\n",
       "    }\n",
       "\n",
       "    .dataframe tbody tr th {\n",
       "        vertical-align: top;\n",
       "    }\n",
       "\n",
       "    .dataframe thead th {\n",
       "        text-align: right;\n",
       "    }\n",
       "</style>\n",
       "<table border=\"1\" class=\"dataframe\">\n",
       "  <thead>\n",
       "    <tr style=\"text-align: right;\">\n",
       "      <th></th>\n",
       "      <th>Вес</th>\n",
       "      <th>Риск</th>\n",
       "      <th>Доходность</th>\n",
       "    </tr>\n",
       "  </thead>\n",
       "  <tbody>\n",
       "    <tr>\n",
       "      <th>0</th>\n",
       "      <td>0.00</td>\n",
       "      <td>0.409207</td>\n",
       "      <td>0.329528</td>\n",
       "    </tr>\n",
       "    <tr>\n",
       "      <th>1</th>\n",
       "      <td>0.01</td>\n",
       "      <td>0.406000</td>\n",
       "      <td>0.330754</td>\n",
       "    </tr>\n",
       "    <tr>\n",
       "      <th>2</th>\n",
       "      <td>0.02</td>\n",
       "      <td>0.402819</td>\n",
       "      <td>0.331979</td>\n",
       "    </tr>\n",
       "    <tr>\n",
       "      <th>3</th>\n",
       "      <td>0.03</td>\n",
       "      <td>0.399664</td>\n",
       "      <td>0.333204</td>\n",
       "    </tr>\n",
       "    <tr>\n",
       "      <th>4</th>\n",
       "      <td>0.04</td>\n",
       "      <td>0.396536</td>\n",
       "      <td>0.334429</td>\n",
       "    </tr>\n",
       "    <tr>\n",
       "      <th>...</th>\n",
       "      <td>...</td>\n",
       "      <td>...</td>\n",
       "      <td>...</td>\n",
       "    </tr>\n",
       "    <tr>\n",
       "      <th>95</th>\n",
       "      <td>0.95</td>\n",
       "      <td>0.320974</td>\n",
       "      <td>0.445925</td>\n",
       "    </tr>\n",
       "    <tr>\n",
       "      <th>96</th>\n",
       "      <td>0.96</td>\n",
       "      <td>0.322992</td>\n",
       "      <td>0.447150</td>\n",
       "    </tr>\n",
       "    <tr>\n",
       "      <th>97</th>\n",
       "      <td>0.97</td>\n",
       "      <td>0.325060</td>\n",
       "      <td>0.448376</td>\n",
       "    </tr>\n",
       "    <tr>\n",
       "      <th>98</th>\n",
       "      <td>0.98</td>\n",
       "      <td>0.327178</td>\n",
       "      <td>0.449601</td>\n",
       "    </tr>\n",
       "    <tr>\n",
       "      <th>99</th>\n",
       "      <td>0.99</td>\n",
       "      <td>0.329345</td>\n",
       "      <td>0.450826</td>\n",
       "    </tr>\n",
       "  </tbody>\n",
       "</table>\n",
       "<p>100 rows × 3 columns</p>\n",
       "</div>"
      ],
      "text/plain": [
       "     Вес      Риск  Доходность\n",
       "0   0.00  0.409207    0.329528\n",
       "1   0.01  0.406000    0.330754\n",
       "2   0.02  0.402819    0.331979\n",
       "3   0.03  0.399664    0.333204\n",
       "4   0.04  0.396536    0.334429\n",
       "..   ...       ...         ...\n",
       "95  0.95  0.320974    0.445925\n",
       "96  0.96  0.322992    0.447150\n",
       "97  0.97  0.325060    0.448376\n",
       "98  0.98  0.327178    0.449601\n",
       "99  0.99  0.329345    0.450826\n",
       "\n",
       "[100 rows x 3 columns]"
      ]
     },
     "execution_count": 64,
     "metadata": {},
     "output_type": "execute_result"
    }
   ],
   "source": [
    "df_r = pd.DataFrame({'Вес': pd.Series(w), 'Риск':pd.Series(sd_p2) , 'Доходность':pd.Series(r_p2)})\n",
    "df_r"
   ]
  },
  {
   "cell_type": "markdown",
   "id": "228b6f43",
   "metadata": {
    "id": "228b6f43"
   },
   "source": [
    "__е) [3 балла]__ Теперь найдем портфель с минимальным риском и запишем его в переменную `min_sd_p`, а само значение минимального риска в `min_sd`"
   ]
  },
  {
   "cell_type": "code",
   "execution_count": 65,
   "id": "08f18305",
   "metadata": {
    "id": "08f18305"
   },
   "outputs": [
    {
     "data": {
      "text/html": [
       "<div>\n",
       "<style scoped>\n",
       "    .dataframe tbody tr th:only-of-type {\n",
       "        vertical-align: middle;\n",
       "    }\n",
       "\n",
       "    .dataframe tbody tr th {\n",
       "        vertical-align: top;\n",
       "    }\n",
       "\n",
       "    .dataframe thead th {\n",
       "        text-align: right;\n",
       "    }\n",
       "</style>\n",
       "<table border=\"1\" class=\"dataframe\">\n",
       "  <thead>\n",
       "    <tr style=\"text-align: right;\">\n",
       "      <th></th>\n",
       "      <th>Вес</th>\n",
       "      <th>Риск</th>\n",
       "      <th>Доходность</th>\n",
       "    </tr>\n",
       "  </thead>\n",
       "  <tbody>\n",
       "    <tr>\n",
       "      <th>64</th>\n",
       "      <td>0.64</td>\n",
       "      <td>0.288412</td>\n",
       "      <td>0.407943</td>\n",
       "    </tr>\n",
       "  </tbody>\n",
       "</table>\n",
       "</div>"
      ],
      "text/plain": [
       "     Вес      Риск  Доходность\n",
       "64  0.64  0.288412    0.407943"
      ]
     },
     "execution_count": 65,
     "metadata": {},
     "output_type": "execute_result"
    }
   ],
   "source": [
    "min_sd_p = df_r.sort_values(by='Риск')[:1]\n",
    "min_sd = min_sd_p['Риск']\n",
    "min_sd_p"
   ]
  },
  {
   "cell_type": "code",
   "execution_count": 66,
   "id": "2a70ce60",
   "metadata": {},
   "outputs": [
    {
     "data": {
      "text/plain": [
       "64    0.407943\n",
       "Name: Доходность, dtype: float64"
      ]
     },
     "execution_count": 66,
     "metadata": {},
     "output_type": "execute_result"
    }
   ],
   "source": [
    "min_sd_p['Доходность']"
   ]
  },
  {
   "cell_type": "code",
   "execution_count": 67,
   "id": "d0aafd58",
   "metadata": {},
   "outputs": [
    {
     "data": {
      "text/plain": [
       "0     0.329528\n",
       "1     0.330754\n",
       "2     0.331979\n",
       "3     0.333204\n",
       "4     0.334429\n",
       "        ...   \n",
       "95    0.445925\n",
       "96    0.447150\n",
       "97    0.448376\n",
       "98    0.449601\n",
       "99    0.450826\n",
       "Name: Доходность, Length: 100, dtype: float64"
      ]
     },
     "execution_count": 67,
     "metadata": {},
     "output_type": "execute_result"
    }
   ],
   "source": [
    "df_r['Доходность']"
   ]
  },
  {
   "cell_type": "markdown",
   "id": "01302b0e",
   "metadata": {
    "id": "01302b0e"
   },
   "source": [
    "__ж) [3 балла]__ Выберем множество эффективных портфелей из `df_r`, тех, чья доходность и риск выше, чем у `min_sd_p` и сохраним их в `df_eff_p`"
   ]
  },
  {
   "cell_type": "code",
   "execution_count": 68,
   "id": "5b9c24ca",
   "metadata": {},
   "outputs": [
    {
     "data": {
      "text/html": [
       "<div>\n",
       "<style scoped>\n",
       "    .dataframe tbody tr th:only-of-type {\n",
       "        vertical-align: middle;\n",
       "    }\n",
       "\n",
       "    .dataframe tbody tr th {\n",
       "        vertical-align: top;\n",
       "    }\n",
       "\n",
       "    .dataframe thead th {\n",
       "        text-align: right;\n",
       "    }\n",
       "</style>\n",
       "<table border=\"1\" class=\"dataframe\">\n",
       "  <thead>\n",
       "    <tr style=\"text-align: right;\">\n",
       "      <th></th>\n",
       "      <th>Вес</th>\n",
       "      <th>Риск</th>\n",
       "      <th>Доходность</th>\n",
       "    </tr>\n",
       "  </thead>\n",
       "  <tbody>\n",
       "    <tr>\n",
       "      <th>65</th>\n",
       "      <td>0.65</td>\n",
       "      <td>0.288450</td>\n",
       "      <td>0.409168</td>\n",
       "    </tr>\n",
       "    <tr>\n",
       "      <th>66</th>\n",
       "      <td>0.66</td>\n",
       "      <td>0.288560</td>\n",
       "      <td>0.410393</td>\n",
       "    </tr>\n",
       "    <tr>\n",
       "      <th>67</th>\n",
       "      <td>0.67</td>\n",
       "      <td>0.288741</td>\n",
       "      <td>0.411619</td>\n",
       "    </tr>\n",
       "    <tr>\n",
       "      <th>68</th>\n",
       "      <td>0.68</td>\n",
       "      <td>0.288994</td>\n",
       "      <td>0.412844</td>\n",
       "    </tr>\n",
       "    <tr>\n",
       "      <th>69</th>\n",
       "      <td>0.69</td>\n",
       "      <td>0.289317</td>\n",
       "      <td>0.414069</td>\n",
       "    </tr>\n",
       "    <tr>\n",
       "      <th>70</th>\n",
       "      <td>0.70</td>\n",
       "      <td>0.289711</td>\n",
       "      <td>0.415294</td>\n",
       "    </tr>\n",
       "    <tr>\n",
       "      <th>71</th>\n",
       "      <td>0.71</td>\n",
       "      <td>0.290175</td>\n",
       "      <td>0.416520</td>\n",
       "    </tr>\n",
       "    <tr>\n",
       "      <th>72</th>\n",
       "      <td>0.72</td>\n",
       "      <td>0.290710</td>\n",
       "      <td>0.417745</td>\n",
       "    </tr>\n",
       "    <tr>\n",
       "      <th>73</th>\n",
       "      <td>0.73</td>\n",
       "      <td>0.291314</td>\n",
       "      <td>0.418970</td>\n",
       "    </tr>\n",
       "    <tr>\n",
       "      <th>74</th>\n",
       "      <td>0.74</td>\n",
       "      <td>0.291988</td>\n",
       "      <td>0.420195</td>\n",
       "    </tr>\n",
       "    <tr>\n",
       "      <th>75</th>\n",
       "      <td>0.75</td>\n",
       "      <td>0.292730</td>\n",
       "      <td>0.421420</td>\n",
       "    </tr>\n",
       "    <tr>\n",
       "      <th>76</th>\n",
       "      <td>0.76</td>\n",
       "      <td>0.293541</td>\n",
       "      <td>0.422646</td>\n",
       "    </tr>\n",
       "    <tr>\n",
       "      <th>77</th>\n",
       "      <td>0.77</td>\n",
       "      <td>0.294419</td>\n",
       "      <td>0.423871</td>\n",
       "    </tr>\n",
       "    <tr>\n",
       "      <th>78</th>\n",
       "      <td>0.78</td>\n",
       "      <td>0.295365</td>\n",
       "      <td>0.425096</td>\n",
       "    </tr>\n",
       "    <tr>\n",
       "      <th>79</th>\n",
       "      <td>0.79</td>\n",
       "      <td>0.296377</td>\n",
       "      <td>0.426321</td>\n",
       "    </tr>\n",
       "    <tr>\n",
       "      <th>80</th>\n",
       "      <td>0.80</td>\n",
       "      <td>0.297455</td>\n",
       "      <td>0.427547</td>\n",
       "    </tr>\n",
       "    <tr>\n",
       "      <th>81</th>\n",
       "      <td>0.81</td>\n",
       "      <td>0.298598</td>\n",
       "      <td>0.428772</td>\n",
       "    </tr>\n",
       "    <tr>\n",
       "      <th>82</th>\n",
       "      <td>0.82</td>\n",
       "      <td>0.299805</td>\n",
       "      <td>0.429997</td>\n",
       "    </tr>\n",
       "    <tr>\n",
       "      <th>83</th>\n",
       "      <td>0.83</td>\n",
       "      <td>0.301076</td>\n",
       "      <td>0.431222</td>\n",
       "    </tr>\n",
       "    <tr>\n",
       "      <th>84</th>\n",
       "      <td>0.84</td>\n",
       "      <td>0.302410</td>\n",
       "      <td>0.432448</td>\n",
       "    </tr>\n",
       "    <tr>\n",
       "      <th>85</th>\n",
       "      <td>0.85</td>\n",
       "      <td>0.303806</td>\n",
       "      <td>0.433673</td>\n",
       "    </tr>\n",
       "    <tr>\n",
       "      <th>86</th>\n",
       "      <td>0.86</td>\n",
       "      <td>0.305262</td>\n",
       "      <td>0.434898</td>\n",
       "    </tr>\n",
       "    <tr>\n",
       "      <th>87</th>\n",
       "      <td>0.87</td>\n",
       "      <td>0.306779</td>\n",
       "      <td>0.436123</td>\n",
       "    </tr>\n",
       "    <tr>\n",
       "      <th>88</th>\n",
       "      <td>0.88</td>\n",
       "      <td>0.308356</td>\n",
       "      <td>0.437348</td>\n",
       "    </tr>\n",
       "    <tr>\n",
       "      <th>89</th>\n",
       "      <td>0.89</td>\n",
       "      <td>0.309991</td>\n",
       "      <td>0.438574</td>\n",
       "    </tr>\n",
       "    <tr>\n",
       "      <th>90</th>\n",
       "      <td>0.90</td>\n",
       "      <td>0.311683</td>\n",
       "      <td>0.439799</td>\n",
       "    </tr>\n",
       "    <tr>\n",
       "      <th>91</th>\n",
       "      <td>0.91</td>\n",
       "      <td>0.313432</td>\n",
       "      <td>0.441024</td>\n",
       "    </tr>\n",
       "    <tr>\n",
       "      <th>92</th>\n",
       "      <td>0.92</td>\n",
       "      <td>0.315236</td>\n",
       "      <td>0.442249</td>\n",
       "    </tr>\n",
       "    <tr>\n",
       "      <th>93</th>\n",
       "      <td>0.93</td>\n",
       "      <td>0.317095</td>\n",
       "      <td>0.443475</td>\n",
       "    </tr>\n",
       "    <tr>\n",
       "      <th>94</th>\n",
       "      <td>0.94</td>\n",
       "      <td>0.319008</td>\n",
       "      <td>0.444700</td>\n",
       "    </tr>\n",
       "    <tr>\n",
       "      <th>95</th>\n",
       "      <td>0.95</td>\n",
       "      <td>0.320974</td>\n",
       "      <td>0.445925</td>\n",
       "    </tr>\n",
       "    <tr>\n",
       "      <th>96</th>\n",
       "      <td>0.96</td>\n",
       "      <td>0.322992</td>\n",
       "      <td>0.447150</td>\n",
       "    </tr>\n",
       "    <tr>\n",
       "      <th>97</th>\n",
       "      <td>0.97</td>\n",
       "      <td>0.325060</td>\n",
       "      <td>0.448376</td>\n",
       "    </tr>\n",
       "    <tr>\n",
       "      <th>98</th>\n",
       "      <td>0.98</td>\n",
       "      <td>0.327178</td>\n",
       "      <td>0.449601</td>\n",
       "    </tr>\n",
       "    <tr>\n",
       "      <th>99</th>\n",
       "      <td>0.99</td>\n",
       "      <td>0.329345</td>\n",
       "      <td>0.450826</td>\n",
       "    </tr>\n",
       "  </tbody>\n",
       "</table>\n",
       "</div>"
      ],
      "text/plain": [
       "     Вес      Риск  Доходность\n",
       "65  0.65  0.288450    0.409168\n",
       "66  0.66  0.288560    0.410393\n",
       "67  0.67  0.288741    0.411619\n",
       "68  0.68  0.288994    0.412844\n",
       "69  0.69  0.289317    0.414069\n",
       "70  0.70  0.289711    0.415294\n",
       "71  0.71  0.290175    0.416520\n",
       "72  0.72  0.290710    0.417745\n",
       "73  0.73  0.291314    0.418970\n",
       "74  0.74  0.291988    0.420195\n",
       "75  0.75  0.292730    0.421420\n",
       "76  0.76  0.293541    0.422646\n",
       "77  0.77  0.294419    0.423871\n",
       "78  0.78  0.295365    0.425096\n",
       "79  0.79  0.296377    0.426321\n",
       "80  0.80  0.297455    0.427547\n",
       "81  0.81  0.298598    0.428772\n",
       "82  0.82  0.299805    0.429997\n",
       "83  0.83  0.301076    0.431222\n",
       "84  0.84  0.302410    0.432448\n",
       "85  0.85  0.303806    0.433673\n",
       "86  0.86  0.305262    0.434898\n",
       "87  0.87  0.306779    0.436123\n",
       "88  0.88  0.308356    0.437348\n",
       "89  0.89  0.309991    0.438574\n",
       "90  0.90  0.311683    0.439799\n",
       "91  0.91  0.313432    0.441024\n",
       "92  0.92  0.315236    0.442249\n",
       "93  0.93  0.317095    0.443475\n",
       "94  0.94  0.319008    0.444700\n",
       "95  0.95  0.320974    0.445925\n",
       "96  0.96  0.322992    0.447150\n",
       "97  0.97  0.325060    0.448376\n",
       "98  0.98  0.327178    0.449601\n",
       "99  0.99  0.329345    0.450826"
      ]
     },
     "execution_count": 68,
     "metadata": {},
     "output_type": "execute_result"
    }
   ],
   "source": [
    "df_eff_p = df_r[(df_r['Доходность'] > min_sd_p['Доходность'].min()) & (df_r['Риск'] > min_sd_p['Риск'].min())]\n",
    "df_eff_p"
   ]
  },
  {
   "cell_type": "markdown",
   "id": "d76c5226",
   "metadata": {
    "id": "d76c5226"
   },
   "source": [
    "__з) [3 балла]__ А теперь на основе `df_eff_p` построим эффективную границу, о которой шла речь раньше (часть кривой выше портфеля с наименьшей волатильностью)"
   ]
  },
  {
   "cell_type": "code",
   "execution_count": 69,
   "id": "bbf8a15e",
   "metadata": {
    "id": "bbf8a15e"
   },
   "outputs": [
    {
     "data": {
      "image/png": "[encoded data removed]",
      "text/plain": [
       "<Figure size 640x480 with 1 Axes>"
      ]
     },
     "metadata": {},
     "output_type": "display_data"
    }
   ],
   "source": [
    "# your code here\n",
    "# [✖‿✖]\n",
    "plt.plot(df_eff_p['Доходность'],df_eff_p['Риск'])\n",
    "plt.xlabel('Доходность')\n",
    "plt.ylabel('Риск');"
   ]
  },
  {
   "cell_type": "markdown",
   "id": "w0d_QPA86t_F",
   "metadata": {
    "id": "w0d_QPA86t_F"
   },
   "source": [
    "Выше мы говорили, что для поиска оптимального портфеля необходимо решать задачу оптимизации. Целевую функцию для её решения можно определить по-разному. Выше мы занимались минимизацией риска и нашли `min_sd_p`.\n",
    "\n",
    "Кроме минимизации риска можно попытаться максимизировать **коэффициент Шарпа.** Он рассчитывается по формуле\n",
    "\n",
    "$$\n",
    "SR = \\frac{r_{p} - r_{f}}{\\sigma_{p}},\n",
    "$$\n",
    "\n",
    "где $r_{p}$  —  ожидаемая доходность портфеля, $r_{f}$  —  безрисковая ставка доходности, $\\sigma_{p}$ — стандартное отклонение доходности портфеля.\n",
    "\n",
    "Коэффициент Шарпа отражает премию за принятый риск. Любая инвестиционная стратегия, демонстрирующая более крутой наклон кривой Шарпа, предлагает более высокую ожидаемую доходность для данного уровня риска. Следовательно, более высокий коэффициент Шарпа всегда предпочтительнее, независимо от того, какой уровень риска вы готовы принять."
   ]
  },
  {
   "cell_type": "markdown",
   "id": "166a0a95",
   "metadata": {
    "id": "166a0a95"
   },
   "source": [
    "В качестве безрисковой ставки доходности выберем доходность российских государственных облигаций сроком 10 лет (можно посмотреть [тут](https://cbr.ru/hd_base/zcyc_params/))"
   ]
  },
  {
   "cell_type": "code",
   "execution_count": 70,
   "id": "47d65ca8",
   "metadata": {
    "id": "47d65ca8"
   },
   "outputs": [],
   "source": [
    "r_f = 11.8/100"
   ]
  },
  {
   "cell_type": "markdown",
   "id": "d88a1bae",
   "metadata": {
    "id": "d88a1bae"
   },
   "source": [
    "__и) [3 балла]__ Теперь у нас есть возможность рассчитать коэффициент Шарпа для кадждого портфеля в `df_r`. Для этого необходимо вычесть из доходности портфеля безрисковую ставку (`r_f`) и разделить на волатильность (риск) портфеля. Сохраните полученные значения в столбец `'Sharp'` таблицы `df_r`"
   ]
  },
  {
   "cell_type": "code",
   "execution_count": 71,
   "id": "78effff8",
   "metadata": {
    "id": "78effff8"
   },
   "outputs": [
    {
     "data": {
      "text/html": [
       "<div>\n",
       "<style scoped>\n",
       "    .dataframe tbody tr th:only-of-type {\n",
       "        vertical-align: middle;\n",
       "    }\n",
       "\n",
       "    .dataframe tbody tr th {\n",
       "        vertical-align: top;\n",
       "    }\n",
       "\n",
       "    .dataframe thead th {\n",
       "        text-align: right;\n",
       "    }\n",
       "</style>\n",
       "<table border=\"1\" class=\"dataframe\">\n",
       "  <thead>\n",
       "    <tr style=\"text-align: right;\">\n",
       "      <th></th>\n",
       "      <th>Вес</th>\n",
       "      <th>Риск</th>\n",
       "      <th>Доходность</th>\n",
       "      <th>Sharp</th>\n",
       "    </tr>\n",
       "  </thead>\n",
       "  <tbody>\n",
       "    <tr>\n",
       "      <th>0</th>\n",
       "      <td>0.00</td>\n",
       "      <td>0.409207</td>\n",
       "      <td>0.329528</td>\n",
       "      <td>0.516922</td>\n",
       "    </tr>\n",
       "    <tr>\n",
       "      <th>1</th>\n",
       "      <td>0.01</td>\n",
       "      <td>0.406000</td>\n",
       "      <td>0.330754</td>\n",
       "      <td>0.524023</td>\n",
       "    </tr>\n",
       "    <tr>\n",
       "      <th>2</th>\n",
       "      <td>0.02</td>\n",
       "      <td>0.402819</td>\n",
       "      <td>0.331979</td>\n",
       "      <td>0.531203</td>\n",
       "    </tr>\n",
       "    <tr>\n",
       "      <th>3</th>\n",
       "      <td>0.03</td>\n",
       "      <td>0.399664</td>\n",
       "      <td>0.333204</td>\n",
       "      <td>0.538462</td>\n",
       "    </tr>\n",
       "    <tr>\n",
       "      <th>4</th>\n",
       "      <td>0.04</td>\n",
       "      <td>0.396536</td>\n",
       "      <td>0.334429</td>\n",
       "      <td>0.545800</td>\n",
       "    </tr>\n",
       "    <tr>\n",
       "      <th>...</th>\n",
       "      <td>...</td>\n",
       "      <td>...</td>\n",
       "      <td>...</td>\n",
       "      <td>...</td>\n",
       "    </tr>\n",
       "    <tr>\n",
       "      <th>95</th>\n",
       "      <td>0.95</td>\n",
       "      <td>0.320974</td>\n",
       "      <td>0.445925</td>\n",
       "      <td>1.021656</td>\n",
       "    </tr>\n",
       "    <tr>\n",
       "      <th>96</th>\n",
       "      <td>0.96</td>\n",
       "      <td>0.322992</td>\n",
       "      <td>0.447150</td>\n",
       "      <td>1.019068</td>\n",
       "    </tr>\n",
       "    <tr>\n",
       "      <th>97</th>\n",
       "      <td>0.97</td>\n",
       "      <td>0.325060</td>\n",
       "      <td>0.448376</td>\n",
       "      <td>1.016353</td>\n",
       "    </tr>\n",
       "    <tr>\n",
       "      <th>98</th>\n",
       "      <td>0.98</td>\n",
       "      <td>0.327178</td>\n",
       "      <td>0.449601</td>\n",
       "      <td>1.013517</td>\n",
       "    </tr>\n",
       "    <tr>\n",
       "      <th>99</th>\n",
       "      <td>0.99</td>\n",
       "      <td>0.329345</td>\n",
       "      <td>0.450826</td>\n",
       "      <td>1.010568</td>\n",
       "    </tr>\n",
       "  </tbody>\n",
       "</table>\n",
       "<p>100 rows × 4 columns</p>\n",
       "</div>"
      ],
      "text/plain": [
       "     Вес      Риск  Доходность     Sharp\n",
       "0   0.00  0.409207    0.329528  0.516922\n",
       "1   0.01  0.406000    0.330754  0.524023\n",
       "2   0.02  0.402819    0.331979  0.531203\n",
       "3   0.03  0.399664    0.333204  0.538462\n",
       "4   0.04  0.396536    0.334429  0.545800\n",
       "..   ...       ...         ...       ...\n",
       "95  0.95  0.320974    0.445925  1.021656\n",
       "96  0.96  0.322992    0.447150  1.019068\n",
       "97  0.97  0.325060    0.448376  1.016353\n",
       "98  0.98  0.327178    0.449601  1.013517\n",
       "99  0.99  0.329345    0.450826  1.010568\n",
       "\n",
       "[100 rows x 4 columns]"
      ]
     },
     "execution_count": 71,
     "metadata": {},
     "output_type": "execute_result"
    }
   ],
   "source": [
    "df_r['Sharp'] = (df_r['Доходность']-r_f)/df_r['Риск']\n",
    "df_r"
   ]
  },
  {
   "cell_type": "markdown",
   "id": "4703a644",
   "metadata": {
    "id": "4703a644"
   },
   "source": [
    "__и) [3 балла]__ Определите портфель с максимальным коэффициентом Шарпа, сохраните его в переменную `max_sharp_p`, а значение самого коэффициента - в переменную `max_sharp`"
   ]
  },
  {
   "cell_type": "code",
   "execution_count": 72,
   "id": "c8fcd5da",
   "metadata": {
    "id": "c8fcd5da"
   },
   "outputs": [
    {
     "data": {
      "text/plain": [
       "1.0407699819677732"
      ]
     },
     "execution_count": 72,
     "metadata": {},
     "output_type": "execute_result"
    }
   ],
   "source": [
    "max_sharp = df_r[df_r[\"Sharp\"] == df_r[\"Sharp\"].max()]\n",
    "max_sharp_p = df_r[\"Sharp\"].max()\n",
    "max_sharp_p"
   ]
  },
  {
   "cell_type": "markdown",
   "id": "efd28cba",
   "metadata": {
    "id": "efd28cba"
   },
   "source": [
    "Рассмотрим прямую в осях (Риск - Доходность), выраженную формулой\n",
    "\n",
    "$$ r = max\\_sharp \\cdot \\sigma + r_f $$\n",
    "\n",
    "Для того, чтобы ее провести, нам необходимо задать хотя бы 2 точки. Чтобы построенный график хорошо выглядел, рассмотрим $\\sigma$, равную:\n",
    "\n",
    "1. наименьшему значению риска портфелей на эффективной кривой (`min_sd`)\n",
    "2. значению риска, соответствующего портфелю с наибольшим значением коэффициента Шарпа (из `max_sharp_p`)"
   ]
  },
  {
   "cell_type": "markdown",
   "id": "05944555",
   "metadata": {
    "id": "05944555"
   },
   "source": [
    "__к) [3 балла]__ В переменную `sigma` сохраните `numpy.array` с двумя перечисленными выше значениями"
   ]
  },
  {
   "cell_type": "code",
   "execution_count": 73,
   "id": "5b54e6ac",
   "metadata": {
    "id": "5b54e6ac"
   },
   "outputs": [
    {
     "data": {
      "text/plain": [
       "array([[0.28841208],\n",
       "       [0.29859803]])"
      ]
     },
     "execution_count": 73,
     "metadata": {},
     "output_type": "execute_result"
    }
   ],
   "source": [
    "sigma = np.array([min_sd,max_sharp['Риск']])\n",
    "sigma"
   ]
  },
  {
   "cell_type": "markdown",
   "id": "d37d5785",
   "metadata": {
    "id": "d37d5785"
   },
   "source": [
    "__л) [3 балла]__ В переменную `r` сохраните значения доходности, находящиеся на указанной прямой, для значений риска из `sigma` (необходимо использовать формулу прямой)"
   ]
  },
  {
   "cell_type": "code",
   "execution_count": 74,
   "id": "b6d7f594",
   "metadata": {
    "id": "b6d7f594"
   },
   "outputs": [
    {
     "data": {
      "text/plain": [
       "array([[0.41817064],\n",
       "       [0.42877186]])"
      ]
     },
     "execution_count": 74,
     "metadata": {},
     "output_type": "execute_result"
    }
   ],
   "source": [
    "r =  max_sharp_p * sigma + r_f\n",
    "r"
   ]
  },
  {
   "cell_type": "markdown",
   "id": "c8f62dbe",
   "metadata": {
    "id": "c8f62dbe"
   },
   "source": [
    "__м) [5 баллов]__ Теперь построим эффективную границу, что мы уже делали ранее, и проведем указанную прямую (вернее ее часть)."
   ]
  },
  {
   "cell_type": "code",
   "execution_count": 75,
   "id": "73d3aa12",
   "metadata": {
    "id": "73d3aa12"
   },
   "outputs": [
    {
     "data": {
      "image/png": "[encoded data removed]",
      "text/plain": [
       "<Figure size 640x480 with 1 Axes>"
      ]
     },
     "metadata": {},
     "output_type": "display_data"
    }
   ],
   "source": [
    "# your code here\n",
    "# [̲̅$̲̅(̲̅5̲̅)̲̅$̲̅]\n",
    "\n",
    "\n",
    "plt.plot(sigma,r)\n",
    "plt.xlabel('Волатильность')\n",
    "plt.ylabel('Доходность');"
   ]
  },
  {
   "cell_type": "markdown",
   "id": "193727d7",
   "metadata": {
    "id": "193727d7"
   },
   "source": [
    "Полученная прямая является касательной к эффективной кривой, а точка ее касания представляет собой так называемый тангенциальный портфель.\n",
    "\n",
    "Каждая точка на прямой Шарпа представляет собой портфель, состоящий из комбинации безрискового актива (в нашем случае, государственных облигаций) и рыночного портфеля (здесь, сочетание двух акций).\n",
    "\n",
    "Все портфели на прямой Шарпа считаются эффективными в смысле оптимального соотношения риска и доходности. Это означает, что для любого данного уровня риска портфель на этой линии предоставляет максимально возможную доходность."
   ]
  },
  {
   "cell_type": "markdown",
   "id": "be2a6aa2",
   "metadata": {
    "id": "be2a6aa2"
   },
   "source": [
    "__н) [3 балла]__ Проинтерпретируйте численное значение наибольшего коэффициента Шарпа (`max_sharp`)"
   ]
  },
  {
   "cell_type": "markdown",
   "id": "fb877e04",
   "metadata": {
    "id": "fb877e04"
   },
   "source": [
    "**Ответ:** Коэффициент Шарпа показывает во сколько раз уровень избыточной доходности выше уровня риска инвестиции.  Коэффициент Шарпа ≈ 1.04 (>1), следовательно высокая результативность управления портфелем. Данный портфель привлекателен для вложения. "
   ]
  },
  {
   "cell_type": "markdown",
   "id": "57b6d833",
   "metadata": {
    "id": "57b6d833"
   },
   "source": [
    "Таким образом, мы немного углубились в портфельную теорию и рассмотрели 2 основных метода оптимизации структуры портфеля:\n",
    "- поиск наименее волатильного (рискового) портфеля\n",
    "- поиск портфеля с оптимальным соотношением доходности и риска."
   ]
  }
 ],
 "metadata": {
  "colab": {
   "provenance": []
  },
  "kernelspec": {
   "display_name": "Python 3 (ipykernel)",
   "language": "python",
   "name": "python3"
  },
  "language_info": {
   "codemirror_mode": {
    "name": "ipython",
    "version": 3
   },
   "file_extension": ".py",
   "mimetype": "text/x-python",
   "name": "python",
   "nbconvert_exporter": "python",
   "pygments_lexer": "ipython3",
   "version": "3.10.9"
  }
 },
 "nbformat": 4,
 "nbformat_minor": 5
}
