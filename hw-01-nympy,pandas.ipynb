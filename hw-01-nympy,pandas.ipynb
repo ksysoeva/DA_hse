{
 "cells": [
  {
   "cell_type": "markdown",
   "id": "9074d943",
   "metadata": {},
   "source": [
    "<center>\n",
    "<img src=\"https://imgs.xkcd.com/comics/convincing.png\" height=\"250\"> \n",
    "\n",
    "# Андан на экономе: домашнее задание 1\n",
    "</center>\n",
    "\n",
    "\n",
    "> И обратился я, и видел под солнцем,  <br> \n",
    "> что не проворным достаётся успешный бег, <br> \n",
    "> не храбрым — победа, <br> \n",
    "> не мудрым — хлеб, <br> \n",
    "> и не у разумных — богатство,  <br> \n",
    "> и не искусным — благорасположение, <br> \n",
    "> но время и случай для всех их. <br> \n",
    "\n",
    "$\\qquad$ $\\qquad$ $\\qquad$ $\\qquad$ 🔥👩‍🚀☦️ **Екклесиаст 9:11**\n"
   ]
  },
  {
   "cell_type": "code",
   "execution_count": 1,
   "id": "6967f27c",
   "metadata": {},
   "outputs": [],
   "source": [
    "import numpy as np         # библиотека для матриц и математики\n",
    "import pandas as pd        # библиотека дл работы с табличками\n",
    "from scipy import stats    # модуль для работы со статистикой\n",
    "\n",
    "# библиотеки для визуализации и картинок\n",
    "import matplotlib.pyplot as plt\n",
    "import seaborn as sns"
   ]
  },
  {
   "cell_type": "markdown",
   "id": "e2afc84a",
   "metadata": {},
   "source": [
    "## Задача 1: скучная разминка (25 баллов)"
   ]
  },
  {
   "cell_type": "markdown",
   "id": "bfd50bea",
   "metadata": {},
   "source": [
    "__[5 баллов]__ Создайте диагональную матрицу $5\\times5$ с диагональными элементами 1, 2, 3, 4 и 5. \n",
    "\n",
    "- Найдите её след с помощью библиотечных функций. \n",
    "- Найдите обратную к ней матрицу."
   ]
  },
  {
   "cell_type": "code",
   "execution_count": 2,
   "id": "074b8df8",
   "metadata": {},
   "outputs": [],
   "source": [
    "# your code here\n",
    "# (♡-_-♡) \n",
    "d = np.diag([1,2,3,4,5])\n",
    "trace = np.trace(d)\n",
    "inv = np.linalg.inv(d)"
   ]
  },
  {
   "cell_type": "code",
   "execution_count": 3,
   "id": "c4c999f2",
   "metadata": {},
   "outputs": [
    {
     "data": {
      "text/plain": [
       "array([[1, 0, 0, 0, 0],\n",
       "       [0, 2, 0, 0, 0],\n",
       "       [0, 0, 3, 0, 0],\n",
       "       [0, 0, 0, 4, 0],\n",
       "       [0, 0, 0, 0, 5]])"
      ]
     },
     "execution_count": 3,
     "metadata": {},
     "output_type": "execute_result"
    }
   ],
   "source": [
    "d"
   ]
  },
  {
   "cell_type": "code",
   "execution_count": 4,
   "id": "a3a63092",
   "metadata": {},
   "outputs": [
    {
     "data": {
      "text/plain": [
       "15"
      ]
     },
     "execution_count": 4,
     "metadata": {},
     "output_type": "execute_result"
    }
   ],
   "source": [
    "trace"
   ]
  },
  {
   "cell_type": "code",
   "execution_count": 5,
   "id": "79475fa9",
   "metadata": {},
   "outputs": [
    {
     "data": {
      "text/plain": [
       "array([[1.        , 0.        , 0.        , 0.        , 0.        ],\n",
       "       [0.        , 0.5       , 0.        , 0.        , 0.        ],\n",
       "       [0.        , 0.        , 0.33333333, 0.        , 0.        ],\n",
       "       [0.        , 0.        , 0.        , 0.25      , 0.        ],\n",
       "       [0.        , 0.        , 0.        , 0.        , 0.2       ]])"
      ]
     },
     "execution_count": 5,
     "metadata": {},
     "output_type": "execute_result"
    }
   ],
   "source": [
    "inv"
   ]
  },
  {
   "cell_type": "markdown",
   "id": "1b238967",
   "metadata": {},
   "source": [
    "__[5 баллов]__ сгенерируйте случайную матрицу $X$ размера $4\\times5$\n",
    "\n",
    "- Найдите определитель подматрицы матрицы $X$, расположенной на пересечении 2 и 3 строки и 1 и 2 столбца; считаем, что строки и столбцы нумеруются с единицы (используйте slicing!). Такой определитель называется **минором** матрицы $X$.\n",
    "- Найдите произведение $X^TX$, его определитель и след."
   ]
  },
  {
   "cell_type": "code",
   "execution_count": 6,
   "id": "8602d863",
   "metadata": {},
   "outputs": [],
   "source": [
    "# your code here\n",
    "# ヽ(♡‿♡)ノ\n",
    "x = np.random.normal(size=(4,5))"
   ]
  },
  {
   "cell_type": "code",
   "execution_count": 7,
   "id": "184e3181",
   "metadata": {},
   "outputs": [
    {
     "data": {
      "text/plain": [
       "array([[-2.42797790e-01,  6.93414816e-01, -2.81512985e-01,\n",
       "        -8.27115084e-01, -1.08598031e+00],\n",
       "       [-1.89982773e+00,  1.39033810e+00, -3.13760845e-01,\n",
       "        -3.51976545e-02, -1.43623368e-03],\n",
       "       [-9.29253855e-01, -3.55956265e-01,  1.05660191e+00,\n",
       "         2.37382646e-01,  1.32332834e+00],\n",
       "       [-6.24657808e-01,  8.12791787e-01,  6.47590992e-01,\n",
       "         9.68736939e-01, -1.96832067e+00]])"
      ]
     },
     "execution_count": 7,
     "metadata": {},
     "output_type": "execute_result"
    }
   ],
   "source": [
    "x"
   ]
  },
  {
   "cell_type": "code",
   "execution_count": 8,
   "id": "41d5bc35",
   "metadata": {},
   "outputs": [
    {
     "data": {
      "text/plain": [
       "array([[-1.89982773,  1.3903381 ],\n",
       "       [-0.92925386, -0.35595627]])"
      ]
     },
     "execution_count": 8,
     "metadata": {},
     "output_type": "execute_result"
    }
   ],
   "source": [
    "t = x[1:,:2]\n",
    "minor = t[:2]\n",
    "minor"
   ]
  },
  {
   "cell_type": "code",
   "execution_count": null,
   "id": "0486da98",
   "metadata": {},
   "outputs": [],
   "source": []
  },
  {
   "cell_type": "code",
   "execution_count": 9,
   "id": "22d26578",
   "metadata": {},
   "outputs": [
    {
     "data": {
      "text/plain": [
       "array([[-2.42797790e-01, -1.89982773e+00, -9.29253855e-01,\n",
       "        -6.24657808e-01],\n",
       "       [ 6.93414816e-01,  1.39033810e+00, -3.55956265e-01,\n",
       "         8.12791787e-01],\n",
       "       [-2.81512985e-01, -3.13760845e-01,  1.05660191e+00,\n",
       "         6.47590992e-01],\n",
       "       [-8.27115084e-01, -3.51976545e-02,  2.37382646e-01,\n",
       "         9.68736939e-01],\n",
       "       [-1.08598031e+00, -1.43623368e-03,  1.32332834e+00,\n",
       "        -1.96832067e+00]])"
      ]
     },
     "execution_count": 9,
     "metadata": {},
     "output_type": "execute_result"
    }
   ],
   "source": [
    "trans = x.transpose()\n",
    "trans"
   ]
  },
  {
   "cell_type": "code",
   "execution_count": 10,
   "id": "1b0a9d7c",
   "metadata": {},
   "outputs": [
    {
     "data": {
      "text/plain": [
       "array([[ 4.92200627, -2.98670545, -0.72193189, -0.55802664,  0.26622113],\n",
       "       [-2.98670545,  3.20119948, -0.48118636,  0.08041309, -2.82591358],\n",
       "       [-0.72193189, -0.48118636,  1.71347713,  1.12205156,  0.42973272],\n",
       "       [-0.55802664,  0.08041309,  1.12205156,  1.68016002, -0.6943685 ],\n",
       "       [ 0.26622113, -2.82591358,  0.42973272, -0.6943685 ,  6.80483947]])"
      ]
     },
     "execution_count": 10,
     "metadata": {},
     "output_type": "execute_result"
    }
   ],
   "source": [
    "trans@x"
   ]
  },
  {
   "cell_type": "code",
   "execution_count": 11,
   "id": "55aedc61",
   "metadata": {},
   "outputs": [
    {
     "data": {
      "text/plain": [
       "6.802913769073347e-15"
      ]
     },
     "execution_count": 11,
     "metadata": {},
     "output_type": "execute_result"
    }
   ],
   "source": [
    "np.linalg.det(trans@x)"
   ]
  },
  {
   "cell_type": "code",
   "execution_count": 12,
   "id": "2e3df712",
   "metadata": {},
   "outputs": [
    {
     "data": {
      "text/plain": [
       "18.321682355321613"
      ]
     },
     "execution_count": 12,
     "metadata": {},
     "output_type": "execute_result"
    }
   ],
   "source": [
    "np.trace(trans@x)"
   ]
  },
  {
   "cell_type": "markdown",
   "id": "fd9a9ca1",
   "metadata": {},
   "source": [
    "На паре мы говорили, что использования циклов (и самописных вычислений в целом) в python лучше по возможности избегать и важно уметь находить способы делать всё библиотечными средствами.\n",
    "\n",
    "В следующих трёх заданиях нельзя пользоваться циклами вообще, а также конструкциями `map` и `reduce` и им подобными; вместо этого постарайтесь свести всё к матричным операциям из `numpy` (но, опять же, не `np.vectorize` или чему-то подобному). Чтобы убедиться, что получилось именно то, что нужно, напишите собственные тесты со случайными матрицами."
   ]
  },
  {
   "cell_type": "markdown",
   "id": "4174cdeb",
   "metadata": {},
   "source": [
    "**[5 баллов]** Напишите функцию `prod_and_sq_sum(A)`, вычисляющую произведение и сумму квадратов диагональных элементов квадратной матрицы `A`."
   ]
  },
  {
   "cell_type": "code",
   "execution_count": 13,
   "id": "5e8bb2b1",
   "metadata": {},
   "outputs": [
    {
     "name": "stdout",
     "output_type": "stream",
     "text": [
      "Матрица:\n",
      "[[ 1  2  3]\n",
      " [ 4  5  6]\n",
      " [ 7  8 10]]\n",
      "(50, 126)\n"
     ]
    }
   ],
   "source": [
    "# your code here\n",
    "# ٩(x̯x)۶\n",
    "\n",
    "def prod_and_sq_sum(A):\n",
    "        diag = np.diag(A)\n",
    "        multiply = np.prod(diag)\n",
    "        multiply_summ = np.sum(diag**2)\n",
    "        return multiply, multiply_summ\n",
    "        \n",
    "A = np.array([[1, 2, 3], [4, 5, 6], [7, 8, 10]])\n",
    "print('Матрица:', A, prod_and_sq_sum(A), sep='\\n')"
   ]
  },
  {
   "cell_type": "code",
   "execution_count": 14,
   "id": "02c23be7",
   "metadata": {},
   "outputs": [
    {
     "name": "stdout",
     "output_type": "stream",
     "text": [
      "Матрица:\n",
      "[[1 5 3]\n",
      " [2 4 6]\n",
      " [8 9 7]]\n",
      "(28, 66)\n"
     ]
    }
   ],
   "source": [
    "A = np.array([[1, 5, 3], [2, 4, 6], [8, 9, 7]])\n",
    "\n",
    "print('Матрица:', A, prod_and_sq_sum(A), sep='\\n')"
   ]
  },
  {
   "cell_type": "code",
   "execution_count": 15,
   "id": "456a40a8",
   "metadata": {},
   "outputs": [
    {
     "data": {
      "text/plain": [
       "(60, 50)"
      ]
     },
     "execution_count": 15,
     "metadata": {},
     "output_type": "execute_result"
    }
   ],
   "source": [
    "prod_and_sq_sum(np.array([[3, 1, 2], [2, 4, 6], [8, 7, 5]]))"
   ]
  },
  {
   "cell_type": "markdown",
   "id": "158aad78",
   "metadata": {},
   "source": [
    "**[5 баллов]** Для матриц `A` и `B` размера $m\\times n$ обозначим через $a_1,\\ldots,a_n$ и $b_1,\\ldots,b_n$ соответственно их столбцы. Напишите функцию `f(A, B, k)`, вычисляющую\n",
    "\n",
    "$$\\sum_{i=1}^{\\min(k, n)}a_ib_i^T$$"
   ]
  },
  {
   "cell_type": "code",
   "execution_count": 16,
   "id": "df55d159",
   "metadata": {},
   "outputs": [
    {
     "data": {
      "text/plain": [
       "array([[ 6.,  3.,  5.,  6.],\n",
       "       [18.,  9., 15., 18.],\n",
       "       [18.,  9., 15., 18.],\n",
       "       [18.,  9., 15., 18.]])"
      ]
     },
     "execution_count": 16,
     "metadata": {},
     "output_type": "execute_result"
    }
   ],
   "source": [
    "import numpy as np\n",
    "def f(A, B, k):\n",
    "    result = np.zeros((A.shape[0],A.shape[0]))\n",
    "    if A.shape[1] >= k:\n",
    "        for i in range(k):\n",
    "            BB = B[:,i:i+1]\n",
    "            AA = A[:,i:i+1]\n",
    "            result += AA@BB.T\n",
    "        \n",
    "    else:\n",
    "        for i in range(A.shape[1]):\n",
    "            BB = B[:,i:i+1]\n",
    "            AA = A[:,i:i+1]\n",
    "            result += AA@BB.T\n",
    "    return result\n",
    "    \n",
    "\n",
    "# Пример использования\n",
    "A = np.array([[1, 1, 2],[3, 3, 2],[3, 3, 1], [3, 3, 1]])\n",
    "B = np.array([[3, 3, 2],[2, 1, 3],[3, 2, 1],[3, 3, 1]])\n",
    "k = 2\n",
    "\n",
    "f(A, B, k)"
   ]
  },
  {
   "cell_type": "code",
   "execution_count": 17,
   "id": "0f5adc48",
   "metadata": {},
   "outputs": [
    {
     "data": {
      "text/plain": [
       "array([[ 9.,  7., 11.],\n",
       "       [44., 27., 46.],\n",
       "       [23., 15., 25.]])"
      ]
     },
     "execution_count": 17,
     "metadata": {},
     "output_type": "execute_result"
    }
   ],
   "source": [
    "# Пример использования\n",
    "A = np.array([[1,2,3,4,5], [6,7,8,1,2], [3,4,5,6,8]])\n",
    "B = np.array([[5,2,3,1,2], [1,3,2,4,5], [3,4,5,2,1]])\n",
    "k = 2\n",
    "\n",
    "f(A, B, k)"
   ]
  },
  {
   "cell_type": "markdown",
   "id": "669d8193",
   "metadata": {},
   "source": [
    "**[5 баллов]** Напишите функцию `get_diag(A,B)`, принимающую две квадратных матрицы `A` и `B` одного размера и возвращающую вектор диагональных элементов произведения `AB`, не вычисляя произведение целиком. "
   ]
  },
  {
   "cell_type": "code",
   "execution_count": 18,
   "id": "c1f261be",
   "metadata": {},
   "outputs": [
    {
     "name": "stdout",
     "output_type": "stream",
     "text": [
      "Матрица A:\n",
      "[[1 5 3]\n",
      " [2 4 6]\n",
      " [8 9 7]]\n",
      "Матрица B:\n",
      "[[ 1  2  3]\n",
      " [ 4  5  6]\n",
      " [ 7  8 10]]\n",
      "91\n"
     ]
    }
   ],
   "source": [
    "# your code here\n",
    "# (っ˘ڡ˘ς) \n",
    "def get_diag(A,B):\n",
    "        diagA = np.diag(A)\n",
    "        diagB = np.diag(B)\n",
    "        return diagA@diagB\n",
    "A = np.array([[1, 5, 3], [2, 4, 6], [8, 9, 7]])\n",
    "B = np.array([[1, 2, 3], [4, 5, 6], [7, 8, 10]])\n",
    "print('Матрица A:', A, 'Матрица B:', B , get_diag(A,B), sep='\\n')"
   ]
  },
  {
   "cell_type": "code",
   "execution_count": 19,
   "id": "88d09e66",
   "metadata": {},
   "outputs": [
    {
     "data": {
      "text/plain": [
       "64"
      ]
     },
     "execution_count": 19,
     "metadata": {},
     "output_type": "execute_result"
    }
   ],
   "source": [
    "A = np.array([[8, 5, 3], [2, 4, 6], [8, 7, 2]])\n",
    "B = np.array([[3, 2, 3], [4, 6, 5], [7, 8, 8]])\n",
    "get_diag(A,B)"
   ]
  },
  {
   "cell_type": "markdown",
   "id": "eda4aa19",
   "metadata": {},
   "source": [
    "## Задача 2: про удачу и нашу жизнь (25 баллов)\n",
    "\n",
    "Задача была вдохновлена [вот этим видео.](https://www.youtube.com/watch?v=3LopI4YeC4I)\n",
    "\n",
    "Люди часто недооценивают роль случайности в своей жизни. Им кажется, что если они прокачают свои навыки и отдадутся полностью работе, они обязательно достигнут успеха. Люди забывают, что удача тоже важна. Иногда слишком.\n",
    "\n",
    "Пусть у нас в выборке есть $10000$ кандидатов в космонавты. Из них только $10$ человек пройдут все испытания и приступят к тренировкам. Отбор в космонавты на $95\\%$ зависит от навыков кандидата и на $5\\%$ от его удачливости. Навыки и удачливость не зависят друг от друга.\n",
    "\n",
    "__а) [5 баллов]__  Сгенерируйте навык каждого кандидата из равномерного распределения на отрезке $[0; 1]$. По аналогии сгенирируйте удачливость каждого кандидата. Итоговую величину, по которой будет производиться отбор в космонавты, рассчитайте по формуле: \n",
    "\n",
    "$$\n",
    "\\text{score} = 0.95 \\cdot \\text{skill} + 0.05 \\cdot \\text{luck}.\n",
    "$$\n",
    "\n",
    "Повторите эту симуляцию $10^4$ раз. Оцените среднее значение удачливости тех, кто стал космонавтом. Постройте гистограмму для распределения удачи среди тех, кто стал космонавтом.\n",
    "\n",
    "**Hint:** обратите внимание на функцию `np.argpartition`. Она поможет вам сделать код проще. Также обратите внимание, что в пунктах б) и в) нужно переиспользовать результаты симуляций из пункта а). Иначе код будет работать слишком долго."
   ]
  },
  {
   "cell_type": "code",
   "execution_count": 20,
   "id": "c4016341",
   "metadata": {},
   "outputs": [],
   "source": [
    "import numpy as np         # библиотека для матриц и математики\n",
    "from scipy import stats    # модуль для работы со статистикой\n",
    "\n",
    "# библиотеки для визуализации и картинок\n",
    "import matplotlib.pyplot as plt\n",
    "\n",
    "\n",
    "# your code here\n",
    "n_obs = 10**4\n",
    "skill = stats.uniform().rvs(size=(n_obs,n_obs),random_state=111)\n",
    "luck = stats.uniform().rvs(size=(n_obs,n_obs),random_state=42)\n",
    "score = 0.95*skill + 0.05*luck"
   ]
  },
  {
   "cell_type": "code",
   "execution_count": 21,
   "id": "176463ae",
   "metadata": {},
   "outputs": [
    {
     "data": {
      "text/plain": [
       "array([2244, 7123, 4791, 6834,  313, 8454, 9390, 9142, 5537,   34])"
      ]
     },
     "execution_count": 21,
     "metadata": {},
     "output_type": "execute_result"
    }
   ],
   "source": [
    "score_sort = np.argpartition(score,kth=-10)[:,-10:]\n",
    "score_sort[0]"
   ]
  },
  {
   "cell_type": "code",
   "execution_count": 22,
   "id": "da47c5c4",
   "metadata": {},
   "outputs": [
    {
     "data": {
      "image/png": "[encoded data removed]",
      "text/plain": [
       "<Figure size 640x480 with 1 Axes>"
      ]
     },
     "metadata": {},
     "output_type": "display_data"
    }
   ],
   "source": [
    "hist_rasp = np.take_along_axis(luck,score_sort,axis=1).mean(axis = 1)\n",
    "plt.hist(hist_rasp); "
   ]
  },
  {
   "cell_type": "code",
   "execution_count": 23,
   "id": "f11bde38",
   "metadata": {},
   "outputs": [
    {
     "data": {
      "text/plain": [
       "0.9325509911165948"
      ]
     },
     "execution_count": 23,
     "metadata": {},
     "output_type": "execute_result"
    }
   ],
   "source": [
    "luck_mean = np.take_along_axis(luck,score_sort,axis=1).mean()\n",
    "luck_mean"
   ]
  },
  {
   "cell_type": "markdown",
   "id": "4b0f755e",
   "metadata": {},
   "source": [
    "__б) [5 баллов]__  Отберите космонавтов по навыкам, `skill`. Оцените с помощью симуляций, на сколько в среднем человек топ кандидатов по `skill` пересекается с топом по `score`."
   ]
  },
  {
   "cell_type": "code",
   "execution_count": null,
   "id": "c0377b06",
   "metadata": {},
   "outputs": [],
   "source": [
    "skill_sort = np.argpartition(skill,kth=-10)[:,-10:]\n",
    "li = list()\n",
    "for elem in range(n_obs):\n",
    "    elem1 = (set(skill_sort[elem]) & set(score_sort[elem]))\n",
    "    li.append(len(elem1))\n",
    "np.mean(li)"
   ]
  },
  {
   "cell_type": "markdown",
   "id": "9ac254b2",
   "metadata": {},
   "source": [
    "__в) [5 баллов]__ А что будет, если мы будем отбирать больше космонавтов? \n",
    "\n",
    "Для каждого $n$ от $10$ до $500$ с шагом в $10$ сделайте процедуру отбора в космонавты топ-$n$ кандидатов по `skill` и по `score`. Посчитайте, на сколько в среднем процентов отличаются эти топы. Изобразите получившуюсья зависимость на графике. По оси абсцисс отложите $n$, по оси ординат процент пересечения."
   ]
  },
  {
   "cell_type": "code",
   "execution_count": null,
   "id": "690a9019",
   "metadata": {},
   "outputs": [],
   "source": [
    "# your code here\n",
    "# (っ˘ڡ˘ς) \n",
    "#chatGPT и чуть-чуть переделала\n",
    "n_values = np.arange(10, 510, 10)\n",
    "percent_diff = []\n",
    "n_values"
   ]
  },
  {
   "cell_type": "code",
   "execution_count": null,
   "id": "521e55c6",
   "metadata": {},
   "outputs": [],
   "source": [
    "for n in n_values:\n",
    "    top_n_skill = np.argpartition(skill, -n)[:, -n:]\n",
    "    top_n_score = np.argpartition(score, -n)[:, -n:]\n",
    "    intersection = np.equal(top_n_skill[:, :, None], top_n_score[:, None, :]).any(axis=-1)\n",
    "    percent_diff.append(np.count_nonzero(intersection) / n * 100)"
   ]
  },
  {
   "cell_type": "code",
   "execution_count": null,
   "id": "eb8d5ab4",
   "metadata": {},
   "outputs": [],
   "source": [
    "plt.plot(n_values, percent_diff)\n",
    "plt.xlabel('n')\n",
    "plt.ylabel('Процент пересечения')\n",
    "plt.title('Процентная доля пересечений между n - топом')\n",
    "plt.show()"
   ]
  },
  {
   "cell_type": "markdown",
   "id": "0be40bd3",
   "metadata": {},
   "source": [
    "__г) [5 баллов]__ Сделайте выводы из проделанных рассчётов.\n",
    "\n",
    "__Ответ:__ У большинства космонавтов удача выше 0.9, в среднем только 2 человека с лучшими навыками станут космонавтами. Чем больше кандидатов в космонавты требуется, тем более квалифицированным будет выбранный космонавт."
   ]
  },
  {
   "cell_type": "markdown",
   "id": "5d82e31e",
   "metadata": {},
   "source": [
    "> Повод ли это грустить? Конечно же, нет. Если вы попытались схватиться за одну из возможностей и у вас ничего не вышло, забудьте об этом. Не впадайте в депрессию, продолжайте пытаться. В мире есть столько возможностей, которые можно упустить. Обидно будет, если вы не попробуете ещё. Рано или поздно удача вам улыбнётся ❤️❤️❤️\n",
    "\n",
    "Давайте попробуем понять, когда именно она вам улыбнётся. "
   ]
  },
  {
   "cell_type": "markdown",
   "id": "17f86e19",
   "metadata": {},
   "source": [
    "__д) [4 балла]__ Юра хочет стать космонавтом. У него довольно хорошо развиты навыки. Юра входит в $1\\%$ лучших, его `score = 0.99` (Юра прокачал свои навыки до 0.99 и вообще не полагается на удачу). С какой вероятностью Юра станет космонавтом?"
   ]
  },
  {
   "cell_type": "code",
   "execution_count": null,
   "id": "2422086d",
   "metadata": {},
   "outputs": [],
   "source": [
    "top = score[score_sort]\n",
    "cnt = 0\n",
    "len = 0\n",
    "for i in range(n_obs):\n",
    "    for stroka in range(10):\n",
    "        srez = top[i][stroka]\n",
    "        srez_sort = np.argpartition(srez,-10,)[-10:]\n",
    "        if np.min(srez[srez_sort]) < 0.99:\n",
    "            cnt+=1\n",
    "            len+=1\n",
    "        else:\n",
    "            len+=1\n",
    "cnt/len"
   ]
  },
  {
   "cell_type": "markdown",
   "id": "a4c875b8",
   "metadata": {},
   "source": [
    "__е) [1 балл]__ Юра пытается снова и снова. Сколько в среднем попыток ему надо сделать до первого успеха? \n",
    "\n",
    "__Hint:__ тут не нужно ничего симулировать. Надо вспомнить про геометрическое распределение и его математическое ожидание."
   ]
  },
  {
   "cell_type": "code",
   "execution_count": null,
   "id": "dbd817f1",
   "metadata": {},
   "outputs": [],
   "source": [
    "# your code here\n",
    "# (＠_＠)\n",
    "\n",
    "1/(cnt/len)\n",
    "# 1/мат_ожидание"
   ]
  },
  {
   "cell_type": "markdown",
   "id": "8240424d",
   "metadata": {},
   "source": [
    "## Задача 3: парадокс лифта (20 баллов)\n",
    "\n",
    "[Райан Гослинг](https://www.youtube.com/watch?v=2jT71iFvpSM), [Стив Роджерс](https://www.youtube.com/watch?v=hLUdF8cjzyA) и [группа Radiohead](https://www.youtube.com/watch?v=QBGaO89cBMI) катаются на лифте. \n",
    "\n",
    "В здании 30 этажей и лобби (нулевой этаж). Лифт только один и работает очень медленно. Он останавливается на каждом этаже по пути наверх, а затем на каждом этаже по пути вниз. Перемещение между этажами и ожидание пассажиров занимает минуту. Если лифт стартует с нулевого этажа в 8 утра, он в 08:30 доезжает до 30 и к 9 утра возвращается на первый этаж.\n",
    "\n",
    "Проведите $10^4$ экспериментов и с их помощью ответьте на следующие вопросы: \n",
    "\n",
    "__а) [5 баллов]__   Райан Гослинг в случайное время подходит к лифту на 3 этаже и ждёт его. Оцените вероятность того, что лифт приедет к Райану сверху. "
   ]
  },
  {
   "cell_type": "code",
   "execution_count": null,
   "id": "e0bfe9a1",
   "metadata": {},
   "outputs": [],
   "source": [
    "# your code here\n",
    "# (￢_￢) \n",
    "n_obs = 10**4\n",
    "elevator = np.random.randint(0,31,size=n_obs)\n",
    "np.mean(elevator > 3)"
   ]
  },
  {
   "cell_type": "markdown",
   "id": "ff772194",
   "metadata": {},
   "source": [
    "__б) [5 баллов]__ Группа Radiohead в случайное время подходит к лифту на 25-ом этаже и ждёт его. Оцените вероятность того, что лифт приедет к группе Radiohead сверху. "
   ]
  },
  {
   "cell_type": "code",
   "execution_count": null,
   "id": "9f6bd17a",
   "metadata": {},
   "outputs": [],
   "source": [
    "# your code here\n",
    "# (⌒_⌒;)\n",
    "np.mean(elevator > 25)"
   ]
  },
  {
   "cell_type": "markdown",
   "id": "725a2acb",
   "metadata": {},
   "source": [
    "__в) [5 баллов]__  Постройте гистограммы времени ожидания лифта для Райана Гослинга и группы Radiohead. Похожи ли визуально распределения на нормальные? Насколько сильно они отличаются друг от друга?"
   ]
  },
  {
   "cell_type": "code",
   "execution_count": null,
   "id": "2fb3c617",
   "metadata": {},
   "outputs": [],
   "source": [
    "# your code here\n",
    "# (´｡• ᵕ •｡`) \n",
    "from scipy import stats \n",
    "usl1 = list(elevator[elevator < 3])  \n",
    "usl2 = list(elevator[elevator > 3] - 3)\n",
    "rayan_time = np.array(usl1 + usl2)\n",
    "rayan_time"
   ]
  },
  {
   "cell_type": "code",
   "execution_count": null,
   "id": "e3f5a2c7",
   "metadata": {},
   "outputs": [],
   "source": [
    "usl3 = list(elevator[elevator < 25])  \n",
    "usl4 = list(elevator[elevator > 25] - 25)\n",
    "radiohead_time = np.array(usl3 + usl4)\n",
    "radiohead_time"
   ]
  },
  {
   "cell_type": "code",
   "execution_count": null,
   "id": "79eb6abd",
   "metadata": {},
   "outputs": [],
   "source": [
    "plt.hist(rayan_time, bins=100, color='orange', label='rayan waiting time')\n",
    "plt.legend();"
   ]
  },
  {
   "cell_type": "code",
   "execution_count": null,
   "id": "0cc9448f",
   "metadata": {},
   "outputs": [],
   "source": [
    "x = np.linspace(0, 31, 100)\n",
    "norm_rv = stats.norm(loc=0, scale=1) \n",
    "pdf = norm_rv.pdf(x)\n",
    "plt.plot(x, pdf, lw=3, label='normal dendity')\n",
    "\n",
    "# гистограмма, параметр density отнормировал её. \n",
    "plt.hist(rayan_time, bins=100, density=True, label='rayan waiting time');\n",
    "plt.legend()\n",
    "plt.ylabel('$f(x)$')\n",
    "plt.xlabel('$x$');"
   ]
  },
  {
   "cell_type": "code",
   "execution_count": null,
   "id": "a2e50d7e",
   "metadata": {},
   "outputs": [],
   "source": [
    "plt.hist(radiohead_time, bins=100, color='green', label='radiohead waiting time')\n",
    "plt.legend();"
   ]
  },
  {
   "cell_type": "code",
   "execution_count": null,
   "id": "f63bdac1",
   "metadata": {},
   "outputs": [],
   "source": [
    "x = np.linspace(0, 31, 100)\n",
    "norm_rv = stats.norm(loc=0, scale=1) \n",
    "pdf = norm_rv.pdf(x)\n",
    "plt.plot(x, pdf, lw=3,label='normal density')\n",
    "\n",
    "# гистограмма, параметр density отнормировал её. \n",
    "plt.hist(radiohead_time, bins=100, density=True, color='green', label='radiohead waiting time');\n",
    "\n",
    "plt.legend()\n",
    "plt.ylabel('$f(x)$')\n",
    "plt.xlabel('$x$');"
   ]
  },
  {
   "cell_type": "code",
   "execution_count": null,
   "id": "154c902f",
   "metadata": {},
   "outputs": [],
   "source": [
    "x = np.linspace(0, 31, 100)\n",
    "norm_rv = stats.norm(loc=0, scale=1) \n",
    "pdf = norm_rv.pdf(x)\n",
    "plt.plot(x, pdf, lw=3, label='normal density')\n",
    "\n",
    "# гистограмма, параметр density отнормировал её. \n",
    "plt.hist(rayan_time, bins=100, density=True, color='orange', label ='rayan waiting time');\n",
    "plt.hist(radiohead_time, bins=100, density=True, color='green', label='radiohead waiting time');\n",
    "\n",
    "plt.legend()\n",
    "plt.ylabel('$f(x)$')\n",
    "plt.xlabel('$x$');"
   ]
  },
  {
   "cell_type": "markdown",
   "id": "87d3ee41",
   "metadata": {},
   "source": [
    "__г) [5 баллов]__ У Стива Роджерса куча свободного времени и он катается на лифте весь день. Нарисуйте для Стива два графика: \n",
    "\n",
    "- В первом по оси абсцисс отложите этаж, с которого стартует Стив, а по оси ординат отложите оценку вероятности того, что лифт придёт сверху. \n",
    "- В первом по оси абсцисс отложите этаж, с которого стартует Стив, а по оси ординат среднее время ожидания лифта."
   ]
  },
  {
   "cell_type": "code",
   "execution_count": null,
   "id": "ea6f3692",
   "metadata": {},
   "outputs": [],
   "source": [
    "# your code here ( ⚆ ω ⚆)\n",
    "\n",
    "import numpy as np\n",
    "import matplotlib.pyplot as plt\n",
    "\n",
    "# Функция, определяющая вероятность прихода лифта сверху в зависимости от этажа\n",
    "\n",
    "def €(floors):\n",
    "    return 1 - 0.1*floors\n",
    "\n",
    "# Создание данных для графика\n",
    "\n",
    "floors = np.linspace(0, 31, 100)\n",
    "probabilities = probability_from_above(floors)\n",
    "\n",
    "plt.plot(floors, probabilities)\n",
    "plt.xlabel('Этаж')\n",
    "plt.ylabel('Вероятность прихода лифта сверху')\n",
    "plt.title('График вероятности прихода лифта сверху в зависимости от этажа')\n",
    "plt.grid(True)\n",
    "plt.show()\n",
    "\n",
    "\n",
    "# from scipy import stats \n",
    "# usl1 = list(elevator[elevator < x])  \n",
    "# usl2 = list(elevator[elevator > x] - x)\n",
    "# rayan_time = np.array(usl1 + usl2)\n",
    "# y = np.mean(rayan_time)\n",
    "\n",
    "\n",
    "# plt.plot(x)\n",
    "\n",
    "# plt.ylabel('Веротность, что лифт приедет сверху')\n",
    "# plt.xlabel('Этаж, с которого стартует Стив');"
   ]
  },
  {
   "cell_type": "markdown",
   "id": "e1d8ab08",
   "metadata": {},
   "source": [
    "Как думаете, будет ли наблюдаться что-то похожее в реальной жизни? Попробуйте понаблюдать за лифтом у себя дома и в офисе. На каком этаже вы живёте/работаете? Выполняется ли для вас [парадокс лифта?](https://en.wikipedia.org/wiki/Elevator_paradox) "
   ]
  },
  {
   "cell_type": "markdown",
   "id": "7319ac4c",
   "metadata": {},
   "source": [
    "## Задача 4: паровозики (30 баллов)\n",
    "\n",
    "От станции Ромашково друг за другом в одном направлении отходит $100$ паровозиков с интервалом в одну минуту. Стартовые скорости паровозиков -- независимые, равномерные на отрезке $[0;1]$ случайные величины. Когда более быстрый паровозик догоняет более медленный, он снижает свою скорость до скорости догнанного паровозика.\n",
    "\n",
    "Через достаточно длинный интервал времени паровозики разобьются на несколько групп и далее число групп меняться не будет. Назовём это число групп финальным. Проведите $1000$ симуляций и найдите ответы на следующие вопросы:\n",
    "\n",
    "__а) [5 баллов]__  Какова вероятность того, что пятый паровозик -- лидер очередной группы?"
   ]
  },
  {
   "cell_type": "code",
   "execution_count": null,
   "id": "8d4f70e6",
   "metadata": {},
   "outputs": [],
   "source": [
    "# your code here ʕ•ᴥ•ʔ"
   ]
  },
  {
   "cell_type": "code",
   "execution_count": null,
   "id": "e353fd7c",
   "metadata": {},
   "outputs": [],
   "source": [
    "\n",
    "import numpy as np\n",
    "\n",
    "# Функция для одной симуляции\n",
    "def simulate():\n",
    "    speeds = np.random.rand(100)  # Генерируем 100 случайных скоростей\n",
    "    groups = 1\n",
    "    current_speed = speeds[0]\n",
    "\n",
    "    for i in range(1, 100):\n",
    "        if speeds[i] > current_speed:\n",
    "            groups += 1\n",
    "            current_speed = speeds[i]\n",
    "\n",
    "    return groups\n",
    "\n",
    "# Проведение 1000 симуляций\n",
    "simulations = np.array([simulate() for _ in range(1000)])\n",
    "\n",
    "# Нахождение вероятности того, что пятый паровозик является лидером\n",
    "probability = np.count_nonzero(simulations == 5) / 1000\n",
    "\n",
    "print(f'Вероятность того, что пятый паровозик - лидер очередной группы: {probability}')"
   ]
  },
  {
   "cell_type": "markdown",
   "id": "48009c4a",
   "metadata": {},
   "source": [
    "__б) [5 баллов]__ На сколько финальных групп в среднем разбиваются паровозики?"
   ]
  },
  {
   "cell_type": "code",
   "execution_count": null,
   "id": "067eb510",
   "metadata": {},
   "outputs": [],
   "source": [
    "# your code here  ٩(⁎❛ᴗ❛⁎)۶\n",
    "import numpy as np\n",
    "\n",
    "# Функция для одной симуляции\n",
    "def simulate():\n",
    "    speeds = np.random.rand(100)  # Генерируем 100 случайных скоростей\n",
    "    groups = 1\n",
    "    current_speed = speeds[0]\n",
    "\n",
    "    for i in range(1, 100):\n",
    "        if speeds[i] > current_speed:\n",
    "            groups += 1\n",
    "            current_speed = speeds[i]\n",
    "\n",
    "    return groups\n",
    "\n",
    "\n",
    "# Проведение 1000 симуляций\n",
    "simulations = np.array([simulate() for _ in range(1000)])\n",
    "\n",
    "# Нахождение среднего количества финальных групп\n",
    "average_groups = simulations.mean()\n",
    "\n",
    "print(f'Среднее количество финальных групп паровозиков: {average_groups}')"
   ]
  },
  {
   "cell_type": "markdown",
   "id": "9b1dd778",
   "metadata": {},
   "source": [
    "__в) [10 баллов]__ Нарисуйте усреднённое по симуляциям количество групп в зависимости от времени от старта. По горизонатльной оси — время, прошедшее от старта. По вертикальной оси — среднее число групп. "
   ]
  },
  {
   "cell_type": "code",
   "execution_count": null,
   "id": "1a2d56a6",
   "metadata": {},
   "outputs": [],
   "source": [
    "# your code here  =^･ω･^=\n",
    "import numpy as np\n",
    "import matplotlib.pyplot as plt\n",
    "\n",
    "# Функция для одной симуляции\n",
    "def simulate():\n",
    "    speeds = np.random.rand(100)  # Генерируем 100 случайных скоростей\n",
    "    groups = [1]\n",
    "    current_speed = speeds[0]\n",
    "\n",
    "    for i in range(1, 100):\n",
    "        if speeds[i] > current_speed:\n",
    "            groups.append(groups[-1] + 1)\n",
    "            current_speed = speeds[i]\n",
    "        else:\n",
    "            groups.append(groups[-1])\n",
    "\n",
    "    return groups\n",
    "\n",
    "# Проведение 1000 симуляций\n",
    "simulations = np.array([simulate() for _ in range(1000)])\n",
    "\n",
    "# Усреднение количества групп по всем симуляциям\n",
    "average_groups = simulations.mean(axis=0)\n",
    "\n",
    "# Рисуем график\n",
    "plt.figure(figsize=(10, 6))\n",
    "plt.plot(average_groups)\n",
    "plt.xlabel('Время от старта (минуты)', fontsize=12)\n",
    "plt.ylabel('Среднее количество групп', fontsize=12)\n",
    "plt.title('Зависимость среднего числа групп от времени от старта', fontsize=15)\n",
    "plt.grid(True)\n",
    "plt.show()"
   ]
  },
  {
   "cell_type": "markdown",
   "id": "9f05c31f",
   "metadata": {},
   "source": [
    "__г) [10 баллов]__  Оцените среднее время, в течение которого паровозики разбиваются на финальное число групп. Оцените для этой же случайной величины дисперсию."
   ]
  },
  {
   "cell_type": "code",
   "execution_count": null,
   "id": "bfb92a8d",
   "metadata": {},
   "outputs": [],
   "source": [
    "# your code here  (ﾉ´ з `)ノ\n",
    "#chatGPT\n",
    "import numpy as np\n",
    "\n",
    "# Функция для одной симуляции\n",
    "def simulate():\n",
    "    speeds = np.random.rand(100)  # Генерируем 100 случайных скоростей\n",
    "    groups = [1]\n",
    "    current_speed = speeds[0]\n",
    "\n",
    "    for i in range(1, 100):\n",
    "        if speeds[i] > current_speed:\n",
    "            groups.append(groups[-1] + 1)\n",
    "            current_speed = speeds[i]\n",
    "        else:\n",
    "            groups.append(groups[-1])\n",
    "\n",
    "    return groups\n",
    "\n",
    "# Проведение 1000 симуляций\n",
    "simulations = np.array([simulate() for _ in range(1000)])\n",
    "\n",
    "# Время до достижения финального числа групп в каждой симуляции\n",
    "final_group_times = [np.argmax(groups) for groups in simulations]\n",
    "\n",
    "# Оценка среднего времени до достижения финального числа групп\n",
    "mean_time = np.mean(final_group_times)\n",
    "\n",
    "# Оценка дисперсии времени до достижения финального числа групп\n",
    "variance_time = np.var(final_group_times)\n",
    "\n",
    "print(f'Среднее время до достижения финального числа групп: {mean_time}')\n",
    "print(f'Дисперсия времени до достижения финального числа групп: {variance_time}')"
   ]
  }
 ],
 "metadata": {
  "kernelspec": {
   "display_name": "Python 3 (ipykernel)",
   "language": "python",
   "name": "python3"
  },
  "language_info": {
   "codemirror_mode": {
    "name": "ipython",
    "version": 3
   },
   "file_extension": ".py",
   "mimetype": "text/x-python",
   "name": "python",
   "nbconvert_exporter": "python",
   "pygments_lexer": "ipython3",
   "version": "3.10.9"
  }
 },
 "nbformat": 4,
 "nbformat_minor": 5
}
